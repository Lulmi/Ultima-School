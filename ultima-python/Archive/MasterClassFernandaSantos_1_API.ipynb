{
 "cells": [
  {
   "cell_type": "markdown",
   "metadata": {},
   "source": [
    "# Masterclass com Fernanda Santos"
   ]
  },
  {
   "cell_type": "markdown",
   "metadata": {},
   "source": [
    "## API"
   ]
  },
  {
   "cell_type": "markdown",
   "metadata": {},
   "source": [
    "### Letras de Músicas"
   ]
  },
  {
   "cell_type": "code",
   "execution_count": 2,
   "metadata": {},
   "outputs": [
    {
     "ename": "NameError",
     "evalue": "name 'requests' is not defined",
     "output_type": "error",
     "traceback": [
      "\u001b[0;31m---------------------------------------------------------------------------\u001b[0m",
      "\u001b[0;31mNameError\u001b[0m                                 Traceback (most recent call last)",
      "\u001b[1;32m/Users/lukaz/Library/CloudStorage/OneDrive-Personal/Documents/Educação/Ultima/GitHub/ultima-python/MasterClassFernandaSantos_1_API.ipynb Cell 4\u001b[0m line \u001b[0;36m<cell line: 1>\u001b[0;34m()\u001b[0m\n\u001b[0;32m----> <a href='vscode-notebook-cell:/Users/lukaz/Library/CloudStorage/OneDrive-Personal/Documents/Educac%CC%A7a%CC%83o/Ultima/GitHub/ultima-python/MasterClassFernandaSantos_1_API.ipynb#W0sZmlsZQ%3D%3D?line=0'>1</a>\u001b[0m letra \u001b[39m=\u001b[39m requests\u001b[39m.\u001b[39mget(\u001b[39m\"\u001b[39m\u001b[39mhttps://api.lyrics.ovh/v1/Coldplay/Adventure of a Lifetime\u001b[39m\u001b[39m\"\u001b[39m)\n",
      "\u001b[0;31mNameError\u001b[0m: name 'requests' is not defined"
     ]
    }
   ],
   "source": [
    "letra = requests.get(\"https://api.lyrics.ovh/v1/Coldplay/Adventure of a Lifetime\")"
   ]
  },
  {
   "cell_type": "markdown",
   "metadata": {},
   "source": [
    "### Cotação de moedas"
   ]
  },
  {
   "cell_type": "code",
   "execution_count": 1,
   "metadata": {},
   "outputs": [
    {
     "ename": "NameError",
     "evalue": "name 'requests' is not defined",
     "output_type": "error",
     "traceback": [
      "\u001b[0;31m---------------------------------------------------------------------------\u001b[0m",
      "\u001b[0;31mNameError\u001b[0m                                 Traceback (most recent call last)",
      "\u001b[1;32m/Users/lukaz/Library/CloudStorage/OneDrive-Personal/Documents/Educação/Ultima/GitHub/ultima-python/MasterClassFernandaSantos_1_API.ipynb Cell 6\u001b[0m line \u001b[0;36m<cell line: 1>\u001b[0;34m()\u001b[0m\n\u001b[0;32m----> <a href='vscode-notebook-cell:/Users/lukaz/Library/CloudStorage/OneDrive-Personal/Documents/Educac%CC%A7a%CC%83o/Ultima/GitHub/ultima-python/MasterClassFernandaSantos_1_API.ipynb#W4sZmlsZQ%3D%3D?line=0'>1</a>\u001b[0m cotacoes \u001b[39m=\u001b[39m requests\u001b[39m.\u001b[39mget(\u001b[39m\"\u001b[39m\u001b[39mhttps://economia.awesomeapi.com.br/last/USD-BRL,EUR-BRL,EUR-BRL,BTC-BRL\u001b[39m\u001b[39m\"\u001b[39m)\n\u001b[1;32m      <a href='vscode-notebook-cell:/Users/lukaz/Library/CloudStorage/OneDrive-Personal/Documents/Educac%CC%A7a%CC%83o/Ultima/GitHub/ultima-python/MasterClassFernandaSantos_1_API.ipynb#W4sZmlsZQ%3D%3D?line=1'>2</a>\u001b[0m cot_dic \u001b[39m=\u001b[39m cotacao\u001b[39m.\u001b[39mjson()\n\u001b[1;32m      <a href='vscode-notebook-cell:/Users/lukaz/Library/CloudStorage/OneDrive-Personal/Documents/Educac%CC%A7a%CC%83o/Ultima/GitHub/ultima-python/MasterClassFernandaSantos_1_API.ipynb#W4sZmlsZQ%3D%3D?line=2'>3</a>\u001b[0m cotacao_dolar \u001b[39m=\u001b[39m cot_dic[\u001b[39m'\u001b[39m\u001b[39mUSDBRL\u001b[39m\u001b[39m'\u001b[39m][\u001b[39m'\u001b[39m\u001b[39mbid\u001b[39m\u001b[39m'\u001b[39m]\n",
      "\u001b[0;31mNameError\u001b[0m: name 'requests' is not defined"
     ]
    }
   ],
   "source": [
    "cotacoes = requests.get(\"https://economia.awesomeapi.com.br/last/USD-BRL,EUR-BRL,EUR-BRL,BTC-BRL\")\n",
    "cot_dic = cotacao.json()\n",
    "cotacao_dolar = cot_dic['USDBRL']['bid']\n",
    "print(cotacao_dolar)"
   ]
  },
  {
   "cell_type": "code",
   "execution_count": 2,
   "metadata": {},
   "outputs": [
    {
     "ename": "NameError",
     "evalue": "name 'cot_dic' is not defined",
     "output_type": "error",
     "traceback": [
      "\u001b[0;31m---------------------------------------------------------------------------\u001b[0m",
      "\u001b[0;31mNameError\u001b[0m                                 Traceback (most recent call last)",
      "\u001b[1;32m/Users/lukaz/Library/CloudStorage/OneDrive-Personal/Documents/Educação/Ultima/GitHub/ultima-python/MasterClassFernandaSantos_1_API.ipynb Cell 7\u001b[0m line \u001b[0;36m<cell line: 1>\u001b[0;34m()\u001b[0m\n\u001b[0;32m----> <a href='vscode-notebook-cell:/Users/lukaz/Library/CloudStorage/OneDrive-Personal/Documents/Educac%CC%A7a%CC%83o/Ultima/GitHub/ultima-python/MasterClassFernandaSantos_1_API.ipynb#W6sZmlsZQ%3D%3D?line=0'>1</a>\u001b[0m cot_dic\n",
      "\u001b[0;31mNameError\u001b[0m: name 'cot_dic' is not defined"
     ]
    }
   ],
   "source": [
    "cot_dic"
   ]
  },
  {
   "cell_type": "code",
   "execution_count": null,
   "metadata": {},
   "outputs": [],
   "source": []
  }
 ],
 "metadata": {
  "kernelspec": {
   "display_name": "Python 3",
   "language": "python",
   "name": "python3"
  },
  "language_info": {
   "codemirror_mode": {
    "name": "ipython",
    "version": 3
   },
   "file_extension": ".py",
   "mimetype": "text/x-python",
   "name": "python",
   "nbconvert_exporter": "python",
   "pygments_lexer": "ipython3",
   "version": "3.9.12"
  },
  "orig_nbformat": 4
 },
 "nbformat": 4,
 "nbformat_minor": 2
}
