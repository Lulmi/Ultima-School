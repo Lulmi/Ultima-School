{
 "cells": [
  {
   "cell_type": "code",
   "execution_count": 11,
   "metadata": {},
   "outputs": [],
   "source": [
    "n1 = float(input(\"Enter the first number: \"))"
   ]
  },
  {
   "cell_type": "code",
   "execution_count": 12,
   "metadata": {},
   "outputs": [],
   "source": [
    "n2 = float(input(\"Enter the second number: \"))"
   ]
  },
  {
   "cell_type": "code",
   "execution_count": 15,
   "metadata": {},
   "outputs": [
    {
     "name": "stdout",
     "output_type": "stream",
     "text": [
      "The Somatory from both numbers are:  12.0\n",
      "The Subtraction from both numbers are:  -2.0\n",
      "The Multiplication from both numbers are:  35.0\n",
      "The Division from both numbers are:  0.7143\n",
      "The Exponension from both numbers are:  78125.0\n",
      "The Division rest from both numbers are:  5.0\n"
     ]
    }
   ],
   "source": [
    "print('The Somatory from both numbers are: ', n1 + n2)\n",
    "print('The Subtraction from both numbers are: ', n1 - n2)\n",
    "print('The Multiplication from both numbers are: ', n1 * n2)\n",
    "print('The Division from both numbers are: ', round(n1 / n2, 4))\n",
    "print('The Exponension from both numbers are: ', n1 ** n2)\n",
    "print('The Division rest from both numbers are: ', n1 % n2)\n"
   ]
  }
 ],
 "metadata": {
  "kernelspec": {
   "display_name": "Python 3",
   "language": "python",
   "name": "python3"
  },
  "language_info": {
   "codemirror_mode": {
    "name": "ipython",
    "version": 3
   },
   "file_extension": ".py",
   "mimetype": "text/x-python",
   "name": "python",
   "nbconvert_exporter": "python",
   "pygments_lexer": "ipython3",
   "version": "3.10.2"
  },
  "orig_nbformat": 4
 },
 "nbformat": 4,
 "nbformat_minor": 2
}
