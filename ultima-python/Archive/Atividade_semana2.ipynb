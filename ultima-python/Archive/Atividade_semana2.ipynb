{
 "cells": [
  {
   "cell_type": "markdown",
   "metadata": {},
   "source": [
    "# Atividade\n",
    "Faça uma função que, dada uma string, retorne a letra mais comum nessa string (em caso de empate, retorne qualquer uma das mais frequentes).\n",
    "\n",
    "* Ideia: usar um dicionário para contar cada letra.\n",
    "\n",
    "* A letra é a chave do dicionário, e o valor será quantas vezes a letra foi encontrada."
   ]
  },
  {
   "cell_type": "code",
   "execution_count": 11,
   "metadata": {},
   "outputs": [
    {
     "name": "stdout",
     "output_type": "stream",
     "text": [
      "Letra(s) mais frequente(s): z\n"
     ]
    }
   ],
   "source": [
    "text = str(input(\"Escreva uma palavra para vermos quais letras são mais frequentes: \"))\n",
    "\n",
    "alphabet = {'a':0, 'b':0, 'c':0, 'd':0, 'e':0, 'f':0,\n",
    "            'g':0, 'h':0, 'i':0, 'j':0, 'k':0, 'l':0, \n",
    "            'm':0, 'n':0, 'o':0, 'p':0, 'q':0, 'r':0,\n",
    "            's':0, 't':0, 'u':0, 'v':0, 'w':0, 'x':0, \n",
    "            'y':0, 'z':0}\n",
    "\n",
    "for i in text.lower():\n",
    "    alphabet[i] += 1\n",
    "       \n",
    "max_frequency = max(alphabet.values())\n",
    "most_frequent_letters = [letter for letter, frequency in alphabet.items() if frequency == max_frequency]\n",
    "\n",
    "print(\"Letra(s) mais frequente(s):\", \", \".join(most_frequent_letters))"
   ]
  },
  {
   "cell_type": "code",
   "execution_count": 12,
   "metadata": {},
   "outputs": [
    {
     "name": "stdout",
     "output_type": "stream",
     "text": [
      "Letra mais frequente: z\n"
     ]
    }
   ],
   "source": [
    "def letra_mais_comum(text):\n",
    "    alphabet = {'a': 0, 'b': 0, 'c': 0, 'd': 0, 'e': 0, 'f': 0,\n",
    "                'g': 0, 'h': 0, 'i': 0, 'j': 0, 'k': 0, 'l': 0,\n",
    "                'm': 0, 'n': 0, 'o': 0, 'p': 0, 'q': 0, 'r': 0,\n",
    "                's': 0, 't': 0, 'u': 0, 'v': 0, 'w': 0, 'x': 0,\n",
    "                'y': 0, 'z': 0}\n",
    "\n",
    "    for char in text.lower():\n",
    "        if char in alphabet:\n",
    "            alphabet[char] += 1\n",
    "\n",
    "    max_frequency = max(alphabet.values())\n",
    "    most_frequent_letters = [letter for letter, frequency in alphabet.items() if frequency == max_frequency]\n",
    "\n",
    "    return most_frequent_letters[0]  # Retorna qualquer uma das letras mais frequentes em caso de empate\n",
    "\n",
    "# Exemplo de uso:\n",
    "text = str(input(\"Escreva uma palavra para vermos quais letras são mais frequentes: \"))\n",
    "letra_mais_frequente = letra_mais_comum(texto)\n",
    "print(\"Letra mais frequente:\", letra_mais_frequente)\n"
   ]
  },
  {
   "cell_type": "code",
   "execution_count": null,
   "metadata": {},
   "outputs": [],
   "source": []
  }
 ],
 "metadata": {
  "kernelspec": {
   "display_name": "Python 3",
   "language": "python",
   "name": "python3"
  },
  "language_info": {
   "codemirror_mode": {
    "name": "ipython",
    "version": 3
   },
   "file_extension": ".py",
   "mimetype": "text/x-python",
   "name": "python",
   "nbconvert_exporter": "python",
   "pygments_lexer": "ipython3",
   "version": "3.10.2"
  },
  "orig_nbformat": 4
 },
 "nbformat": 4,
 "nbformat_minor": 2
}
