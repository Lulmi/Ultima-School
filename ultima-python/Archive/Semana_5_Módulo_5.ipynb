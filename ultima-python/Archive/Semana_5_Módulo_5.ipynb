{
 "cells": [
  {
   "cell_type": "markdown",
   "metadata": {},
   "source": [
    "# Noções_básicas_sobre_funções"
   ]
  },
  {
   "cell_type": "markdown",
   "metadata": {},
   "source": [
    "Criando Funções"
   ]
  },
  {
   "cell_type": "code",
   "execution_count": 1,
   "metadata": {},
   "outputs": [],
   "source": [
    "def imprima_boas_vindas():\n",
    "    print('Boas vindas ao curso!')"
   ]
  },
  {
   "cell_type": "code",
   "execution_count": 2,
   "metadata": {},
   "outputs": [
    {
     "name": "stdout",
     "output_type": "stream",
     "text": [
      "Boas vindas ao curso!\n"
     ]
    }
   ],
   "source": [
    "imprima_boas_vindas()"
   ]
  },
  {
   "cell_type": "code",
   "execution_count": 3,
   "metadata": {},
   "outputs": [],
   "source": [
    "def imprima_boas_vindas(nome):\n",
    "    print(f'{nome}, boas vindas ao curso!')"
   ]
  },
  {
   "cell_type": "code",
   "execution_count": 4,
   "metadata": {},
   "outputs": [
    {
     "name": "stdout",
     "output_type": "stream",
     "text": [
      "João, boas vindas ao curso!\n"
     ]
    }
   ],
   "source": [
    "imprima_boas_vindas('João')"
   ]
  },
  {
   "cell_type": "code",
   "execution_count": 5,
   "metadata": {},
   "outputs": [],
   "source": [
    "def imprima_boas_vindas(nome):\n",
    "    print(f'{nome}, boas vindas ao curso!')\n",
    "    return True"
   ]
  },
  {
   "cell_type": "code",
   "execution_count": 8,
   "metadata": {},
   "outputs": [
    {
     "name": "stdout",
     "output_type": "stream",
     "text": [
      "Maria, boas vindas ao curso!\n"
     ]
    }
   ],
   "source": [
    "saida = imprima_boas_vindas('Maria')"
   ]
  },
  {
   "cell_type": "code",
   "execution_count": 9,
   "metadata": {},
   "outputs": [
    {
     "data": {
      "text/plain": [
       "True"
      ]
     },
     "execution_count": 9,
     "metadata": {},
     "output_type": "execute_result"
    }
   ],
   "source": [
    "saida"
   ]
  },
  {
   "cell_type": "code",
   "execution_count": 12,
   "metadata": {},
   "outputs": [
    {
     "data": {
      "text/plain": [
       "function"
      ]
     },
     "execution_count": 12,
     "metadata": {},
     "output_type": "execute_result"
    }
   ],
   "source": [
    "func = imprima_boas_vindas\n",
    "type(func)"
   ]
  },
  {
   "cell_type": "code",
   "execution_count": 14,
   "metadata": {},
   "outputs": [
    {
     "name": "stdout",
     "output_type": "stream",
     "text": [
      "Bruno, boas vindas ao curso!\n"
     ]
    }
   ],
   "source": [
    "x = func('Bruno')"
   ]
  },
  {
   "cell_type": "markdown",
   "metadata": {},
   "source": [
    "Mais sobre funções"
   ]
  },
  {
   "cell_type": "code",
   "execution_count": 4,
   "metadata": {},
   "outputs": [],
   "source": [
    "def raiz_quadrada(x):\n",
    "    ''' Calcular a raiz quadrada de x. '''\n",
    "    return x ** (1 / 2)"
   ]
  },
  {
   "cell_type": "markdown",
   "metadata": {},
   "source": [
    "Args e Kwargs"
   ]
  },
  {
   "cell_type": "code",
   "execution_count": 5,
   "metadata": {},
   "outputs": [],
   "source": [
    "def raiz(x, n = 2):\n",
    "    ''' Calcular a raiz quadrada de x. '''\n",
    "    return x ** (1 / n)"
   ]
  },
  {
   "cell_type": "code",
   "execution_count": 6,
   "metadata": {},
   "outputs": [
    {
     "data": {
      "text/plain": [
       "9.0"
      ]
     },
     "execution_count": 6,
     "metadata": {},
     "output_type": "execute_result"
    }
   ],
   "source": [
    "raiz(81)"
   ]
  },
  {
   "cell_type": "code",
   "execution_count": 7,
   "metadata": {},
   "outputs": [
    {
     "data": {
      "text/plain": [
       "2.0"
      ]
     },
     "execution_count": 7,
     "metadata": {},
     "output_type": "execute_result"
    }
   ],
   "source": [
    "raiz(8,3)"
   ]
  },
  {
   "cell_type": "markdown",
   "metadata": {},
   "source": [
    "Ordem dos Argumentos e Valores Padrões"
   ]
  },
  {
   "cell_type": "code",
   "execution_count": 8,
   "metadata": {},
   "outputs": [],
   "source": [
    "def raiz(x, n = None):\n",
    "    if n:\n",
    "        return x ** (1 / n)\n",
    "    else:\n",
    "        return x ** (1 / 2)"
   ]
  },
  {
   "cell_type": "markdown",
   "metadata": {},
   "source": [
    "* Args: argumentos posicionais"
   ]
  },
  {
   "cell_type": "code",
   "execution_count": 10,
   "metadata": {},
   "outputs": [
    {
     "name": "stdout",
     "output_type": "stream",
     "text": [
      "Mensagem 1\n",
      "Mensagem 2\n",
      "Mensagem 3\n"
     ]
    }
   ],
   "source": [
    "print('Mensagem 1', 'Mensagem 2', 'Mensagem 3', sep = '\\n')"
   ]
  },
  {
   "cell_type": "code",
   "execution_count": 11,
   "metadata": {},
   "outputs": [],
   "source": [
    "def soma(x, y):\n",
    "    return x + y"
   ]
  },
  {
   "cell_type": "code",
   "execution_count": 14,
   "metadata": {},
   "outputs": [
    {
     "data": {
      "text/plain": [
       "6"
      ]
     },
     "execution_count": 14,
     "metadata": {},
     "output_type": "execute_result"
    }
   ],
   "source": [
    "soma(1 ,5)"
   ]
  },
  {
   "cell_type": "code",
   "execution_count": 17,
   "metadata": {},
   "outputs": [],
   "source": [
    "def soma(*numeros):\n",
    "    return sum(numeros)"
   ]
  },
  {
   "cell_type": "code",
   "execution_count": 18,
   "metadata": {},
   "outputs": [
    {
     "data": {
      "text/plain": [
       "15"
      ]
     },
     "execution_count": 18,
     "metadata": {},
     "output_type": "execute_result"
    }
   ],
   "source": [
    "soma(1, 5, -2, 10, 1)"
   ]
  },
  {
   "cell_type": "code",
   "execution_count": 19,
   "metadata": {},
   "outputs": [],
   "source": [
    "def soma(*numeros):\n",
    "    print(numeros, len(numeros), type(numeros))\n",
    "    soma = 0\n",
    "    for num in numeros:\n",
    "        soma += num\n",
    "    \n",
    "    return sum(numeros)"
   ]
  },
  {
   "cell_type": "code",
   "execution_count": 20,
   "metadata": {},
   "outputs": [
    {
     "name": "stdout",
     "output_type": "stream",
     "text": [
      "(1, 5, -2, 10, 1) 5 <class 'tuple'>\n"
     ]
    },
    {
     "data": {
      "text/plain": [
       "15"
      ]
     },
     "execution_count": 20,
     "metadata": {},
     "output_type": "execute_result"
    }
   ],
   "source": [
    "soma(1, 5, -2, 10, 1)"
   ]
  },
  {
   "cell_type": "markdown",
   "metadata": {},
   "source": [
    "* Kwargs: argumentos nomeados"
   ]
  },
  {
   "cell_type": "code",
   "execution_count": 22,
   "metadata": {},
   "outputs": [
    {
     "name": "stdout",
     "output_type": "stream",
     "text": [
      "Mensagem 1\n",
      "Mensagem 2\n",
      "Mensagem 3!!!\n",
      "fim"
     ]
    }
   ],
   "source": [
    "print('Mensagem 1', 'Mensagem 2', 'Mensagem 3', end = '!!!\\nfim', sep = '\\n')"
   ]
  },
  {
   "cell_type": "code",
   "execution_count": 25,
   "metadata": {},
   "outputs": [
    {
     "name": "stdout",
     "output_type": "stream",
     "text": [
      "Mensagem 1!!!\n",
      "Mensagem 2!!!\n",
      "Mensagem 3!!!\n",
      "fim"
     ]
    }
   ],
   "source": [
    "print('Mensagem 1', 'Mensagem 2', 'Mensagem 3', **{'end': '!!!\\nfim', 'sep':'!!!\\n'})"
   ]
  },
  {
   "cell_type": "code",
   "execution_count": 28,
   "metadata": {},
   "outputs": [
    {
     "name": "stdout",
     "output_type": "stream",
     "text": [
      "1 é maior que -2\n",
      "1 é maior que -2\n"
     ]
    },
    {
     "data": {
      "text/plain": [
       "1"
      ]
     },
     "execution_count": 28,
     "metadata": {},
     "output_type": "execute_result"
    }
   ],
   "source": [
    "def retornar_o_maior_valor(a, b, **kwargs):\n",
    "    if 'verbose' in kwargs:\n",
    "        if a == b:\n",
    "            print('Os Valores são iguais.')\n",
    "        else:\n",
    "            print(f'{max(a, b)} é maior que {min(a, b)}')\n",
    "    return max(a, b)\n",
    "\n",
    "retornar_o_maior_valor(1, -2, verbose = False)\n",
    "retornar_o_maior_valor(1, -2, verbose = True)"
   ]
  },
  {
   "cell_type": "markdown",
   "metadata": {},
   "source": [
    "Múltiplas Saídas"
   ]
  },
  {
   "cell_type": "code",
   "execution_count": 34,
   "metadata": {},
   "outputs": [],
   "source": [
    "def retorna_faixa_de_valor(lista_de_valores):\n",
    "    return max(lista_de_valores), min(lista_de_valores)"
   ]
  },
  {
   "cell_type": "code",
   "execution_count": 35,
   "metadata": {},
   "outputs": [
    {
     "data": {
      "text/plain": [
       "(10, -30)"
      ]
     },
     "execution_count": 35,
     "metadata": {},
     "output_type": "execute_result"
    }
   ],
   "source": [
    "retorna_faixa_de_valor([1, 2, -1, 10, -30])"
   ]
  },
  {
   "cell_type": "code",
   "execution_count": 39,
   "metadata": {},
   "outputs": [
    {
     "name": "stdout",
     "output_type": "stream",
     "text": [
      "10 -30\n"
     ]
    }
   ],
   "source": [
    "max_val, min_val = retorna_faixa_de_valor([1, 2, -1, 10, -30])\n",
    "print(max_val, min_val)"
   ]
  },
  {
   "cell_type": "markdown",
   "metadata": {},
   "source": [
    "# Noções Básicas Sobre Classes"
   ]
  },
  {
   "cell_type": "code",
   "execution_count": 40,
   "metadata": {},
   "outputs": [],
   "source": [
    "class MinhaClasse():\n",
    "    pass"
   ]
  },
  {
   "cell_type": "code",
   "execution_count": 41,
   "metadata": {},
   "outputs": [
    {
     "name": "stdout",
     "output_type": "stream",
     "text": [
      "<__main__.MinhaClasse object at 0x1056a5840>\n",
      "<class '__main__.MinhaClasse'>\n",
      "<__main__.MinhaClasse object at 0x1056a6d10>\n",
      "<class '__main__.MinhaClasse'>\n"
     ]
    }
   ],
   "source": [
    "obj_1 = MinhaClasse()\n",
    "obj_2 = MinhaClasse()\n",
    "print(obj_1, type(obj_1), sep = '\\n')\n",
    "print(obj_2, type(obj_1), sep = '\\n')"
   ]
  },
  {
   "cell_type": "code",
   "execution_count": 42,
   "metadata": {},
   "outputs": [
    {
     "name": "stdout",
     "output_type": "stream",
     "text": [
      "1\n",
      "<class 'int'>\n"
     ]
    }
   ],
   "source": [
    "x = 1\n",
    "print(x, type(x), sep = '\\n')"
   ]
  },
  {
   "cell_type": "code",
   "execution_count": 43,
   "metadata": {},
   "outputs": [
    {
     "data": {
      "text/plain": [
       "True"
      ]
     },
     "execution_count": 43,
     "metadata": {},
     "output_type": "execute_result"
    }
   ],
   "source": [
    "type(obj_1) == type(obj_2)"
   ]
  },
  {
   "cell_type": "markdown",
   "metadata": {},
   "source": [
    "Métodos e Atributos"
   ]
  },
  {
   "cell_type": "code",
   "execution_count": 45,
   "metadata": {},
   "outputs": [],
   "source": [
    "from datetime import datetime"
   ]
  },
  {
   "cell_type": "code",
   "execution_count": 47,
   "metadata": {},
   "outputs": [
    {
     "name": "stdout",
     "output_type": "stream",
     "text": [
      "2022-03-11 00:00:00 <class 'datetime.datetime'>\n"
     ]
    }
   ],
   "source": [
    "data = datetime(2022, 3, 11)\n",
    "print(data, type(data))"
   ]
  },
  {
   "cell_type": "code",
   "execution_count": 48,
   "metadata": {},
   "outputs": [
    {
     "data": {
      "text/plain": [
       "'2022-03-11T00:00:00'"
      ]
     },
     "execution_count": 48,
     "metadata": {},
     "output_type": "execute_result"
    }
   ],
   "source": [
    "data.isoformat()"
   ]
  },
  {
   "cell_type": "code",
   "execution_count": 49,
   "metadata": {},
   "outputs": [
    {
     "data": {
      "text/plain": [
       "'11/03/2022'"
      ]
     },
     "execution_count": 49,
     "metadata": {},
     "output_type": "execute_result"
    }
   ],
   "source": [
    "data.strftime('%d/%m/%Y')"
   ]
  },
  {
   "cell_type": "code",
   "execution_count": 50,
   "metadata": {},
   "outputs": [
    {
     "data": {
      "text/plain": [
       "(int, 2022)"
      ]
     },
     "execution_count": 50,
     "metadata": {},
     "output_type": "execute_result"
    }
   ],
   "source": [
    "type(data.year), data.year"
   ]
  },
  {
   "cell_type": "code",
   "execution_count": 51,
   "metadata": {},
   "outputs": [
    {
     "data": {
      "text/plain": [
       "4"
      ]
     },
     "execution_count": 51,
     "metadata": {},
     "output_type": "execute_result"
    }
   ],
   "source": [
    "data.weekday()"
   ]
  },
  {
   "cell_type": "code",
   "execution_count": 52,
   "metadata": {},
   "outputs": [
    {
     "data": {
      "text/plain": [
       "<function datetime.weekday>"
      ]
     },
     "execution_count": 52,
     "metadata": {},
     "output_type": "execute_result"
    }
   ],
   "source": [
    "weekday = getattr(data, 'weekday')\n",
    "weekday"
   ]
  },
  {
   "cell_type": "code",
   "execution_count": 53,
   "metadata": {},
   "outputs": [
    {
     "data": {
      "text/plain": [
       "4"
      ]
     },
     "execution_count": 53,
     "metadata": {},
     "output_type": "execute_result"
    }
   ],
   "source": [
    "weekday()"
   ]
  },
  {
   "cell_type": "markdown",
   "metadata": {},
   "source": [
    "Atividade: Classe de uma Agenda"
   ]
  },
  {
   "cell_type": "code",
   "execution_count": 137,
   "metadata": {},
   "outputs": [],
   "source": [
    "class Agenda():\n",
    "    \n",
    "    def __init__(self, nome_da_agenda):\n",
    "        self.nome = nome_da_agenda\n",
    "        self.contatos = {}\n",
    "    \n",
    "    def novo_contato(self, nome_de_contato, **kwargs):\n",
    "        self.contatos[nome_de_contato] = kwargs \n",
    "        \n",
    "    def busca_contato(self, nome_busca):\n",
    "        if nome_busca in self.contatos:\n",
    "            return self.contatos[nome_busca]\n",
    "        else:\n",
    "            print('Contato Não Encontrado')\n",
    "            return None\n",
    "    def __add__(self, outra_agenda):\n",
    "        contatos_unidos = self.contatos.items()\n",
    "        contatos_unidos.extend(list(outra_agenda.contatos.items()))\n",
    "        # contatos_unidos = set(contatos_unidos)\n",
    "        agenda = Agenda(self.nome + ' + ' + outra_agenda.nome)\n",
    "        for nome, cadastro in contatos_unidos:\n",
    "            agenda.novo_contato(nome, **cadastro)\n",
    "        return agenda"
   ]
  },
  {
   "cell_type": "code",
   "execution_count": 138,
   "metadata": {},
   "outputs": [
    {
     "data": {
      "text/plain": [
       "('Contatos Web', {})"
      ]
     },
     "execution_count": 138,
     "metadata": {},
     "output_type": "execute_result"
    }
   ],
   "source": [
    "agenda_1 = Agenda(nome_da_agenda = 'Contatos Web')\n",
    "agenda_1.nome, agenda_1.contatos"
   ]
  },
  {
   "cell_type": "code",
   "execution_count": 139,
   "metadata": {},
   "outputs": [
    {
     "data": {
      "text/plain": [
       "{'Maria': {'sobrenome': 'Silva', 'email': 'maria@bol.com.br'},\n",
       " 'João': {'email': 'joao@bol.com.br', 'idade': 33}}"
      ]
     },
     "execution_count": 139,
     "metadata": {},
     "output_type": "execute_result"
    }
   ],
   "source": [
    "agenda_1.novo_contato('Maria', sobrenome = 'Silva', email = 'maria@bol.com.br')\n",
    "agenda_1.novo_contato('João', email = 'joao@bol.com.br', idade = 33)\n",
    "agenda_1.contatos"
   ]
  },
  {
   "cell_type": "code",
   "execution_count": 140,
   "metadata": {},
   "outputs": [
    {
     "data": {
      "text/plain": [
       "{'sobrenome': 'Silva', 'email': 'maria@bol.com.br'}"
      ]
     },
     "execution_count": 140,
     "metadata": {},
     "output_type": "execute_result"
    }
   ],
   "source": [
    "agenda_1.busca_contato('Maria')"
   ]
  },
  {
   "cell_type": "code",
   "execution_count": 141,
   "metadata": {},
   "outputs": [
    {
     "name": "stdout",
     "output_type": "stream",
     "text": [
      "Contatos Pessoais {}\n"
     ]
    }
   ],
   "source": [
    "agenda_2 = Agenda(nome_da_agenda = 'Contatos Pessoais')\n",
    "print(agenda_2.nome, agenda_2.contatos)"
   ]
  },
  {
   "cell_type": "code",
   "execution_count": 142,
   "metadata": {},
   "outputs": [
    {
     "name": "stdout",
     "output_type": "stream",
     "text": [
      "{'Bruno': {'email': 'brunosilva@bol.com.br', 'estado': 'RS'}}\n"
     ]
    }
   ],
   "source": [
    "agenda_2.novo_contato('Bruno', email = 'brunosilva@bol.com.br', estado = 'RS')\n",
    "print(agenda_2.contatos)"
   ]
  },
  {
   "cell_type": "code",
   "execution_count": 143,
   "metadata": {},
   "outputs": [
    {
     "ename": "AttributeError",
     "evalue": "'dict_items' object has no attribute 'extend'",
     "output_type": "error",
     "traceback": [
      "\u001b[0;31m---------------------------------------------------------------------------\u001b[0m",
      "\u001b[0;31mAttributeError\u001b[0m                            Traceback (most recent call last)",
      "\u001b[1;32m/Users/lukaz/Library/CloudStorage/OneDrive-Personal/Documents/Educação/Ultima/GitHub/ultima-python/Semana_5_Módulo_5.ipynb Cell 57\u001b[0m line \u001b[0;36m1\n\u001b[0;32m----> <a href='vscode-notebook-cell:/Users/lukaz/Library/CloudStorage/OneDrive-Personal/Documents/Educac%CC%A7a%CC%83o/Ultima/GitHub/ultima-python/Semana_5_M%C3%B3dulo_5.ipynb#Y115sZmlsZQ%3D%3D?line=0'>1</a>\u001b[0m agenda_3 \u001b[39m=\u001b[39m agenda_1 \u001b[39m+\u001b[39;49m agenda_2\n",
      "\u001b[1;32m/Users/lukaz/Library/CloudStorage/OneDrive-Personal/Documents/Educação/Ultima/GitHub/ultima-python/Semana_5_Módulo_5.ipynb Cell 57\u001b[0m line \u001b[0;36m1\n\u001b[1;32m     <a href='vscode-notebook-cell:/Users/lukaz/Library/CloudStorage/OneDrive-Personal/Documents/Educac%CC%A7a%CC%83o/Ultima/GitHub/ultima-python/Semana_5_M%C3%B3dulo_5.ipynb#Y115sZmlsZQ%3D%3D?line=15'>16</a>\u001b[0m \u001b[39mdef\u001b[39;00m \u001b[39m__add__\u001b[39m(\u001b[39mself\u001b[39m, outra_agenda):\n\u001b[1;32m     <a href='vscode-notebook-cell:/Users/lukaz/Library/CloudStorage/OneDrive-Personal/Documents/Educac%CC%A7a%CC%83o/Ultima/GitHub/ultima-python/Semana_5_M%C3%B3dulo_5.ipynb#Y115sZmlsZQ%3D%3D?line=16'>17</a>\u001b[0m     contatos_unidos \u001b[39m=\u001b[39m \u001b[39mself\u001b[39m\u001b[39m.\u001b[39mcontatos\u001b[39m.\u001b[39mitems()\n\u001b[0;32m---> <a href='vscode-notebook-cell:/Users/lukaz/Library/CloudStorage/OneDrive-Personal/Documents/Educac%CC%A7a%CC%83o/Ultima/GitHub/ultima-python/Semana_5_M%C3%B3dulo_5.ipynb#Y115sZmlsZQ%3D%3D?line=17'>18</a>\u001b[0m     contatos_unidos\u001b[39m.\u001b[39;49mextend(\u001b[39mlist\u001b[39m(outra_agenda\u001b[39m.\u001b[39mcontatos\u001b[39m.\u001b[39mitems()))\n\u001b[1;32m     <a href='vscode-notebook-cell:/Users/lukaz/Library/CloudStorage/OneDrive-Personal/Documents/Educac%CC%A7a%CC%83o/Ultima/GitHub/ultima-python/Semana_5_M%C3%B3dulo_5.ipynb#Y115sZmlsZQ%3D%3D?line=18'>19</a>\u001b[0m     \u001b[39m# contatos_unidos = set(contatos_unidos)\u001b[39;00m\n\u001b[1;32m     <a href='vscode-notebook-cell:/Users/lukaz/Library/CloudStorage/OneDrive-Personal/Documents/Educac%CC%A7a%CC%83o/Ultima/GitHub/ultima-python/Semana_5_M%C3%B3dulo_5.ipynb#Y115sZmlsZQ%3D%3D?line=19'>20</a>\u001b[0m     agenda \u001b[39m=\u001b[39m Agenda(\u001b[39mself\u001b[39m\u001b[39m.\u001b[39mnome \u001b[39m+\u001b[39m \u001b[39m'\u001b[39m\u001b[39m + \u001b[39m\u001b[39m'\u001b[39m \u001b[39m+\u001b[39m outra_agenda\u001b[39m.\u001b[39mnome)\n",
      "\u001b[0;31mAttributeError\u001b[0m: 'dict_items' object has no attribute 'extend'"
     ]
    }
   ],
   "source": [
    "agenda_3 = agenda_1 + agenda_2"
   ]
  },
  {
   "cell_type": "code",
   "execution_count": null,
   "metadata": {},
   "outputs": [
    {
     "ename": "NameError",
     "evalue": "name 'agenda_3' is not defined",
     "output_type": "error",
     "traceback": [
      "\u001b[0;31m---------------------------------------------------------------------------\u001b[0m",
      "\u001b[0;31mNameError\u001b[0m                                 Traceback (most recent call last)",
      "\u001b[1;32m/Users/lukaz/Library/CloudStorage/OneDrive-Personal/Documents/Educação/Ultima/GitHub/ultima-python/Semana_5_Módulo_5.ipynb Cell 58\u001b[0m line \u001b[0;36m1\n\u001b[0;32m----> <a href='vscode-notebook-cell:/Users/lukaz/Library/CloudStorage/OneDrive-Personal/Documents/Educac%CC%A7a%CC%83o/Ultima/GitHub/ultima-python/Semana_5_M%C3%B3dulo_5.ipynb#Y116sZmlsZQ%3D%3D?line=0'>1</a>\u001b[0m agenda_3\u001b[39m.\u001b[39mcontatos\n\u001b[1;32m      <a href='vscode-notebook-cell:/Users/lukaz/Library/CloudStorage/OneDrive-Personal/Documents/Educac%CC%A7a%CC%83o/Ultima/GitHub/ultima-python/Semana_5_M%C3%B3dulo_5.ipynb#Y116sZmlsZQ%3D%3D?line=1'>2</a>\u001b[0m agenda_3\u001b[39m.\u001b[39mnome\n",
      "\u001b[0;31mNameError\u001b[0m: name 'agenda_3' is not defined"
     ]
    }
   ],
   "source": [
    "agenda_3.contatos\n",
    "agenda_3.nome"
   ]
  },
  {
   "cell_type": "code",
   "execution_count": null,
   "metadata": {},
   "outputs": [],
   "source": []
  }
 ],
 "metadata": {
  "kernelspec": {
   "display_name": "Python 3",
   "language": "python",
   "name": "python3"
  },
  "language_info": {
   "codemirror_mode": {
    "name": "ipython",
    "version": 3
   },
   "file_extension": ".py",
   "mimetype": "text/x-python",
   "name": "python",
   "nbconvert_exporter": "python",
   "pygments_lexer": "ipython3",
   "version": "3.10.2"
  },
  "orig_nbformat": 4
 },
 "nbformat": 4,
 "nbformat_minor": 2
}
