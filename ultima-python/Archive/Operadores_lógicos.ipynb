{
 "cells": [
  {
   "cell_type": "code",
   "execution_count": 5,
   "metadata": {},
   "outputs": [
    {
     "name": "stdout",
     "output_type": "stream",
     "text": [
      "['Ana', 'Bruno', 'Joao', 'Maria'] <class 'list'> 4\n"
     ]
    }
   ],
   "source": [
    "nomes = [\"Ana\", \"Bruno\", \"Joao\", \"Maria\"]\n",
    "print(nomes, type(nomes), len(nomes))\n"
   ]
  },
  {
   "cell_type": "code",
   "execution_count": 6,
   "metadata": {},
   "outputs": [
    {
     "data": {
      "text/plain": [
       "True"
      ]
     },
     "execution_count": 6,
     "metadata": {},
     "output_type": "execute_result"
    }
   ],
   "source": [
    "'Bruno' in nomes"
   ]
  },
  {
   "cell_type": "code",
   "execution_count": 13,
   "metadata": {},
   "outputs": [
    {
     "name": "stdout",
     "output_type": "stream",
     "text": [
      "inicio\n",
      "Ana está na lista.\n",
      "fim\n"
     ]
    }
   ],
   "source": [
    "nome = 'Ana'\n",
    "\n",
    "print('inicio')\n",
    "\n",
    "if nome in nomes:\n",
    "    print(f'{nome} está na lista.')\n",
    "else:\n",
    "    print(f'{nome} Não esta na lista.')\n",
    "    \n",
    "print('fim')"
   ]
  },
  {
   "cell_type": "code",
   "execution_count": 6,
   "metadata": {},
   "outputs": [
    {
     "name": "stdout",
     "output_type": "stream",
     "text": [
      "inicio\n",
      "x é um número par\n",
      "fim\n"
     ]
    }
   ],
   "source": [
    "x = 100\n",
    "\n",
    "print('inicio')\n",
    "\n",
    "if (x % 2) == 0:\n",
    "    print('x é um número par')\n",
    "elif x > 50:\n",
    "    print('x não é par e é maior que 50')\n",
    "else:\n",
    "    print('x é impar e menor do que 50')\n",
    "    \n",
    "print('fim')"
   ]
  },
  {
   "cell_type": "markdown",
   "metadata": {},
   "source": []
  },
  {
   "cell_type": "code",
   "execution_count": null,
   "metadata": {},
   "outputs": [],
   "source": []
  }
 ],
 "metadata": {
  "kernelspec": {
   "display_name": "Python 3",
   "language": "python",
   "name": "python3"
  },
  "language_info": {
   "codemirror_mode": {
    "name": "ipython",
    "version": 3
   },
   "file_extension": ".py",
   "mimetype": "text/x-python",
   "name": "python",
   "nbconvert_exporter": "python",
   "pygments_lexer": "ipython3",
   "version": "3.10.2"
  },
  "orig_nbformat": 4
 },
 "nbformat": 4,
 "nbformat_minor": 2
}
