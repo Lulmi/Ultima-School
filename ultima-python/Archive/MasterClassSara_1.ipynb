{
 "cells": [
  {
   "cell_type": "markdown",
   "metadata": {},
   "source": [
    "# Module 5 - Week 3"
   ]
  },
  {
   "cell_type": "code",
   "execution_count": 1,
   "metadata": {},
   "outputs": [
    {
     "name": "stdout",
     "output_type": "stream",
     "text": [
      "voce passou!\n"
     ]
    }
   ],
   "source": [
    "nota = 80\n",
    "\n",
    "if nota >= 65:\n",
    "    print('voce passou!')"
   ]
  },
  {
   "cell_type": "code",
   "execution_count": 4,
   "metadata": {},
   "outputs": [
    {
     "name": "stdout",
     "output_type": "stream",
     "text": [
      "3  é um número positivo\n"
     ]
    }
   ],
   "source": [
    "num = 3\n",
    "\n",
    "if (num > 0):\n",
    "    print(num, ' é um número positivo')\n",
    "else:\n",
    "    print(\"esse é um número negativo\")"
   ]
  },
  {
   "cell_type": "code",
   "execution_count": 6,
   "metadata": {},
   "outputs": [
    {
     "name": "stdout",
     "output_type": "stream",
     "text": [
      "número 1 é menor que o número 2\n"
     ]
    }
   ],
   "source": [
    "num1, num2 = 6, 9\n",
    "\n",
    "if (num1 < num2):\n",
    "    print('número 1 é menor que o número 2')\n",
    "else:\n",
    "    print('número 2 é menor que o número 1')"
   ]
  },
  {
   "cell_type": "code",
   "execution_count": null,
   "metadata": {},
   "outputs": [],
   "source": []
  }
 ],
 "metadata": {
  "kernelspec": {
   "display_name": "Python 3",
   "language": "python",
   "name": "python3"
  },
  "language_info": {
   "codemirror_mode": {
    "name": "ipython",
    "version": 3
   },
   "file_extension": ".py",
   "mimetype": "text/x-python",
   "name": "python",
   "nbconvert_exporter": "python",
   "pygments_lexer": "ipython3",
   "version": "3.10.2"
  },
  "orig_nbformat": 4
 },
 "nbformat": 4,
 "nbformat_minor": 2
}
