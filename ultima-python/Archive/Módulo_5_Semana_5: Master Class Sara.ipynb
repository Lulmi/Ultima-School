{
 "cells": [
  {
   "cell_type": "markdown",
   "metadata": {},
   "source": [
    "# Módulo 5 - Semana 5\n",
    "# Como Criar Funções Para Sua Rotina Como Analista de Dados"
   ]
  },
  {
   "cell_type": "code",
   "execution_count": 27,
   "metadata": {},
   "outputs": [],
   "source": [
    "def soma (x, y):\n",
    "    return x + y"
   ]
  },
  {
   "cell_type": "code",
   "execution_count": 28,
   "metadata": {},
   "outputs": [],
   "source": [
    "soma = lambda x, y : x + y"
   ]
  },
  {
   "cell_type": "code",
   "execution_count": 29,
   "metadata": {},
   "outputs": [
    {
     "name": "stdout",
     "output_type": "stream",
     "text": [
      "9\n"
     ]
    }
   ],
   "source": [
    "print(soma(4, 5))"
   ]
  },
  {
   "cell_type": "code",
   "execution_count": 30,
   "metadata": {},
   "outputs": [
    {
     "name": "stdout",
     "output_type": "stream",
     "text": [
      "Função normal:  3.0\n"
     ]
    }
   ],
   "source": [
    "import math\n",
    "\n",
    "def raiz_quadrada(x):\n",
    "    return math.sqrt(x)\n",
    "\n",
    "print ('Função normal: ', raiz_quadrada(9))"
   ]
  },
  {
   "cell_type": "code",
   "execution_count": 31,
   "metadata": {},
   "outputs": [
    {
     "name": "stdout",
     "output_type": "stream",
     "text": [
      "função lambda:  3.0\n"
     ]
    }
   ],
   "source": [
    "raiz_quadrada_lambda = lambda x : math.sqrt(x)\n",
    "\n",
    "print('função lambda: ', raiz_quadrada_lambda(9))"
   ]
  },
  {
   "cell_type": "markdown",
   "metadata": {},
   "source": [
    " ### Função Map"
   ]
  },
  {
   "cell_type": "code",
   "execution_count": 32,
   "metadata": {},
   "outputs": [],
   "source": [
    "# map(função, sequência)\n",
    "\n",
    "def fahrenheit(T):\n",
    "    return(float(9) / 5 * T + 32)"
   ]
  },
  {
   "cell_type": "code",
   "execution_count": 33,
   "metadata": {},
   "outputs": [],
   "source": [
    "temperaturas = (12, 15, 17, 11, 24, 10)"
   ]
  },
  {
   "cell_type": "code",
   "execution_count": 34,
   "metadata": {},
   "outputs": [
    {
     "name": "stdout",
     "output_type": "stream",
     "text": [
      "53.6\n",
      "59.0\n",
      "62.6\n",
      "51.8\n",
      "75.2\n",
      "50.0\n"
     ]
    }
   ],
   "source": [
    "for temp in temperaturas:\n",
    "    print(fahrenheit(temp))"
   ]
  },
  {
   "cell_type": "code",
   "execution_count": 35,
   "metadata": {},
   "outputs": [
    {
     "name": "stdout",
     "output_type": "stream",
     "text": [
      "Objeto:  <map object at 0x1073e2020>\n",
      "Lista do objeto:  [53.6, 59.0, 62.6, 51.8, 75.2, 50.0]\n"
     ]
    }
   ],
   "source": [
    "temp_fahrenheit = map(fahrenheit, temperaturas)\n",
    "\n",
    "print('Objeto: ', temp_fahrenheit)\n",
    "\n",
    "print('Lista do objeto: ', list(temp_fahrenheit))"
   ]
  },
  {
   "cell_type": "code",
   "execution_count": 36,
   "metadata": {},
   "outputs": [
    {
     "name": "stdout",
     "output_type": "stream",
     "text": [
      "[53.6, 59.0, 62.6, 51.8, 75.2, 50.0]\n"
     ]
    }
   ],
   "source": [
    "celsius = list(map(lambda T : (float(9) / 5 * T + 32), temperaturas))\n",
    "print(celsius)"
   ]
  },
  {
   "cell_type": "markdown",
   "metadata": {},
   "source": [
    "### Função Zip"
   ]
  },
  {
   "cell_type": "code",
   "execution_count": 37,
   "metadata": {},
   "outputs": [
    {
     "name": "stdout",
     "output_type": "stream",
     "text": [
      "<zip object at 0x107435c00>\n"
     ]
    }
   ],
   "source": [
    "# Zip( estrutura 1, estrutura 2)\n",
    "z1 = [1, 2, 3, 4, 5, 6]\n",
    "z2 = [9, 5, 7, 8, 9, 0]\n",
    "zip_objeto = zip(z1, z2)\n",
    "print(zip_objeto)"
   ]
  },
  {
   "cell_type": "code",
   "execution_count": 38,
   "metadata": {},
   "outputs": [
    {
     "name": "stdout",
     "output_type": "stream",
     "text": [
      "{1: 9, 2: 5, 3: 7, 4: 8, 5: 9, 6: 0}\n"
     ]
    }
   ],
   "source": [
    "dict_zip = dict(zip_objeto)\n",
    "print(dict_zip)"
   ]
  },
  {
   "cell_type": "code",
   "execution_count": 39,
   "metadata": {},
   "outputs": [
    {
     "name": "stdout",
     "output_type": "stream",
     "text": [
      "[(1, 7), (5, 5), (9, 3)]\n"
     ]
    }
   ],
   "source": [
    "z3 = [1, 5, 9]\n",
    "z4 = [7, 5, 3, 9, 5, 1]\n",
    "\n",
    "c = list(zip(z3, z4))\n",
    "print(c)"
   ]
  },
  {
   "cell_type": "code",
   "execution_count": 40,
   "metadata": {},
   "outputs": [
    {
     "name": "stdout",
     "output_type": "stream",
     "text": [
      "[8, 10, 12]\n"
     ]
    }
   ],
   "source": [
    "d = list(map(lambda x, y : x + y, z3, z4))\n",
    "print(d)"
   ]
  },
  {
   "cell_type": "markdown",
   "metadata": {},
   "source": [
    "### Função Filter"
   ]
  },
  {
   "cell_type": "code",
   "execution_count": 41,
   "metadata": {},
   "outputs": [
    {
     "name": "stdout",
     "output_type": "stream",
     "text": [
      "[1, 3, 7, 11, 55]\n"
     ]
    }
   ],
   "source": [
    "# filter(função, Sequência)\n",
    "\n",
    "lista_num = [1, 3, 4, 6, 7, 11, 34, 55, 96]\n",
    "impar = list(filter(lambda x : x%2, lista_num))\n",
    "print(impar)"
   ]
  },
  {
   "cell_type": "markdown",
   "metadata": {},
   "source": [
    "### Função Any & All"
   ]
  },
  {
   "cell_type": "code",
   "execution_count": 42,
   "metadata": {},
   "outputs": [
    {
     "name": "stdout",
     "output_type": "stream",
     "text": [
      "Função any [True, False, False, False]:\n",
      " True\n",
      "Função any [False, False]:\n",
      " False\n",
      "Função all [True, False, False, False]:\n",
      " False\n",
      "Função all [True, True, True]:\n",
      " True\n",
      "Função all [False, False, False, False]:\n",
      " False\n"
     ]
    }
   ],
   "source": [
    "print('Função any [True, False, False, False]:\\n', any([True, False, False, False]))\n",
    "print('Função any [False, False]:\\n', any([False, False]))\n",
    "print('Função all [True, False, False, False]:\\n', all([True, False, False, False]))\n",
    "print('Função all [True, True, True]:\\n', all([True, True, True]))\n",
    "print('Função all [False, False, False, False]:\\n', all([False, False, False, False]))"
   ]
  },
  {
   "cell_type": "markdown",
   "metadata": {},
   "source": [
    "### Variáveis Globais"
   ]
  },
  {
   "cell_type": "code",
   "execution_count": 43,
   "metadata": {},
   "outputs": [],
   "source": [
    "global_var = 999\n",
    "\n",
    "def func1():\n",
    "    print('Valor na primeira função: ', global_var)\n",
    "\n",
    "def func2():\n",
    "    print('Valor na segunda função: ', global_var)"
   ]
  },
  {
   "cell_type": "code",
   "execution_count": 44,
   "metadata": {},
   "outputs": [
    {
     "name": "stdout",
     "output_type": "stream",
     "text": [
      "Valor na primeira função:  999\n",
      "Valor na segunda função:  999\n"
     ]
    }
   ],
   "source": [
    "func1()\n",
    "func2()"
   ]
  },
  {
   "cell_type": "code",
   "execution_count": 47,
   "metadata": {},
   "outputs": [
    {
     "name": "stdout",
     "output_type": "stream",
     "text": [
      "Dentro 999\n",
      "Fora 999\n"
     ]
    }
   ],
   "source": [
    "def func():\n",
    "    print('Dentro', global_var)\n",
    "\n",
    "func()\n",
    "print('Fora', global_var)"
   ]
  },
  {
   "cell_type": "code",
   "execution_count": 48,
   "metadata": {},
   "outputs": [
    {
     "ename": "UnboundLocalError",
     "evalue": "local variable 'x' referenced before assignment",
     "output_type": "error",
     "traceback": [
      "\u001b[0;31m---------------------------------------------------------------------------\u001b[0m",
      "\u001b[0;31mUnboundLocalError\u001b[0m                         Traceback (most recent call last)",
      "\u001b[1;32m/Users/lukaz/Library/CloudStorage/OneDrive-Personal/Documents/Educação/Ultima/GitHub/ultima-python/Módulo_5_Semana_5: Master Class Sara.ipynb Cell 26\u001b[0m line \u001b[0;36m7\n\u001b[1;32m      <a href='vscode-notebook-cell:/Users/lukaz/Library/CloudStorage/OneDrive-Personal/Documents/Educac%CC%A7a%CC%83o/Ultima/GitHub/ultima-python/M%C3%B3dulo_5_Semana_5%3A%20Master%20Class%20Sara.ipynb#X35sZmlsZQ%3D%3D?line=3'>4</a>\u001b[0m     x \u001b[39m*\u001b[39m\u001b[39m=\u001b[39m \u001b[39m2\u001b[39m\n\u001b[1;32m      <a href='vscode-notebook-cell:/Users/lukaz/Library/CloudStorage/OneDrive-Personal/Documents/Educac%CC%A7a%CC%83o/Ultima/GitHub/ultima-python/M%C3%B3dulo_5_Semana_5%3A%20Master%20Class%20Sara.ipynb#X35sZmlsZQ%3D%3D?line=4'>5</a>\u001b[0m     \u001b[39mprint\u001b[39m(x)\n\u001b[0;32m----> <a href='vscode-notebook-cell:/Users/lukaz/Library/CloudStorage/OneDrive-Personal/Documents/Educac%CC%A7a%CC%83o/Ultima/GitHub/ultima-python/M%C3%B3dulo_5_Semana_5%3A%20Master%20Class%20Sara.ipynb#X35sZmlsZQ%3D%3D?line=6'>7</a>\u001b[0m func()\n",
      "\u001b[1;32m/Users/lukaz/Library/CloudStorage/OneDrive-Personal/Documents/Educação/Ultima/GitHub/ultima-python/Módulo_5_Semana_5: Master Class Sara.ipynb Cell 26\u001b[0m line \u001b[0;36m4\n\u001b[1;32m      <a href='vscode-notebook-cell:/Users/lukaz/Library/CloudStorage/OneDrive-Personal/Documents/Educac%CC%A7a%CC%83o/Ultima/GitHub/ultima-python/M%C3%B3dulo_5_Semana_5%3A%20Master%20Class%20Sara.ipynb#X35sZmlsZQ%3D%3D?line=2'>3</a>\u001b[0m \u001b[39mdef\u001b[39;00m \u001b[39mfunc\u001b[39m():\n\u001b[0;32m----> <a href='vscode-notebook-cell:/Users/lukaz/Library/CloudStorage/OneDrive-Personal/Documents/Educac%CC%A7a%CC%83o/Ultima/GitHub/ultima-python/M%C3%B3dulo_5_Semana_5%3A%20Master%20Class%20Sara.ipynb#X35sZmlsZQ%3D%3D?line=3'>4</a>\u001b[0m     x \u001b[39m*\u001b[39m\u001b[39m=\u001b[39m \u001b[39m2\u001b[39m\n\u001b[1;32m      <a href='vscode-notebook-cell:/Users/lukaz/Library/CloudStorage/OneDrive-Personal/Documents/Educac%CC%A7a%CC%83o/Ultima/GitHub/ultima-python/M%C3%B3dulo_5_Semana_5%3A%20Master%20Class%20Sara.ipynb#X35sZmlsZQ%3D%3D?line=4'>5</a>\u001b[0m     \u001b[39mprint\u001b[39m(x)\n",
      "\u001b[0;31mUnboundLocalError\u001b[0m: local variable 'x' referenced before assignment"
     ]
    }
   ],
   "source": [
    "x = 'global'\n",
    "\n",
    "def func():\n",
    "    x *= 2\n",
    "    print(x)\n",
    "\n",
    "func()"
   ]
  },
  {
   "cell_type": "code",
   "execution_count": 51,
   "metadata": {},
   "outputs": [],
   "source": [
    "a = 90\n",
    "\n",
    "def print_data():\n",
    "    a = 6\n",
    "    b = 30\n",
    "    print(a, b)\n",
    "\n",
    "\n"
   ]
  },
  {
   "cell_type": "code",
   "execution_count": 52,
   "metadata": {},
   "outputs": [
    {
     "name": "stdout",
     "output_type": "stream",
     "text": [
      "90\n"
     ]
    }
   ],
   "source": [
    "print(a)"
   ]
  },
  {
   "cell_type": "code",
   "execution_count": 53,
   "metadata": {},
   "outputs": [
    {
     "ename": "NameError",
     "evalue": "name 'b' is not defined",
     "output_type": "error",
     "traceback": [
      "\u001b[0;31m---------------------------------------------------------------------------\u001b[0m",
      "\u001b[0;31mNameError\u001b[0m                                 Traceback (most recent call last)",
      "\u001b[1;32m/Users/lukaz/Library/CloudStorage/OneDrive-Personal/Documents/Educação/Ultima/GitHub/ultima-python/Módulo_5_Semana_5: Master Class Sara.ipynb Cell 29\u001b[0m line \u001b[0;36m1\n\u001b[0;32m----> <a href='vscode-notebook-cell:/Users/lukaz/Library/CloudStorage/OneDrive-Personal/Documents/Educac%CC%A7a%CC%83o/Ultima/GitHub/ultima-python/M%C3%B3dulo_5_Semana_5%3A%20Master%20Class%20Sara.ipynb#X40sZmlsZQ%3D%3D?line=0'>1</a>\u001b[0m \u001b[39mprint\u001b[39m(b)\n",
      "\u001b[0;31mNameError\u001b[0m: name 'b' is not defined"
     ]
    }
   ],
   "source": [
    "print(b)"
   ]
  },
  {
   "cell_type": "markdown",
   "metadata": {},
   "source": [
    "### Variáveis Locais"
   ]
  },
  {
   "cell_type": "code",
   "execution_count": 54,
   "metadata": {},
   "outputs": [],
   "source": [
    "def func():\n",
    "    y = 'local'\n",
    "    print(y)"
   ]
  },
  {
   "cell_type": "code",
   "execution_count": 55,
   "metadata": {},
   "outputs": [
    {
     "name": "stdout",
     "output_type": "stream",
     "text": [
      "local\n"
     ]
    }
   ],
   "source": [
    "func()"
   ]
  },
  {
   "cell_type": "code",
   "execution_count": 56,
   "metadata": {},
   "outputs": [
    {
     "ename": "NameError",
     "evalue": "name 'y' is not defined",
     "output_type": "error",
     "traceback": [
      "\u001b[0;31m---------------------------------------------------------------------------\u001b[0m",
      "\u001b[0;31mNameError\u001b[0m                                 Traceback (most recent call last)",
      "\u001b[1;32m/Users/lukaz/Library/CloudStorage/OneDrive-Personal/Documents/Educação/Ultima/GitHub/ultima-python/Módulo_5_Semana_5: Master Class Sara.ipynb Cell 33\u001b[0m line \u001b[0;36m1\n\u001b[0;32m----> <a href='vscode-notebook-cell:/Users/lukaz/Library/CloudStorage/OneDrive-Personal/Documents/Educac%CC%A7a%CC%83o/Ultima/GitHub/ultima-python/M%C3%B3dulo_5_Semana_5%3A%20Master%20Class%20Sara.ipynb#X45sZmlsZQ%3D%3D?line=0'>1</a>\u001b[0m \u001b[39mprint\u001b[39m(y)\n",
      "\u001b[0;31mNameError\u001b[0m: name 'y' is not defined"
     ]
    }
   ],
   "source": [
    "print(y)"
   ]
  },
  {
   "cell_type": "markdown",
   "metadata": {},
   "source": [
    "### Variáveis não-locais"
   ]
  },
  {
   "cell_type": "code",
   "execution_count": 57,
   "metadata": {},
   "outputs": [
    {
     "name": "stdout",
     "output_type": "stream",
     "text": [
      "variável local local\n",
      "variável:  global\n"
     ]
    }
   ],
   "source": [
    "x1 = 'global'\n",
    "\n",
    "def func_fora():\n",
    "    x1 = 'local'\n",
    "    print('variável local', x1)\n",
    "    \n",
    "    def func_dentro():\n",
    "        nonlocal x1\n",
    "        x1 = 'nonlocal'\n",
    "        \n",
    "func_fora()\n",
    "print('variável: ', x1)"
   ]
  },
  {
   "cell_type": "markdown",
   "metadata": {},
   "source": [
    "### Class"
   ]
  },
  {
   "cell_type": "code",
   "execution_count": 62,
   "metadata": {},
   "outputs": [
    {
     "name": "stdout",
     "output_type": "stream",
     "text": [
      "10\n"
     ]
    }
   ],
   "source": [
    "class Pessoa:\n",
    "    'Essa é a classe de definição de pessoa'\n",
    "    idade = 10\n",
    "    \n",
    "print(Pessoa.idade)"
   ]
  },
  {
   "cell_type": "code",
   "execution_count": 66,
   "metadata": {},
   "outputs": [],
   "source": [
    "class Pessoa:\n",
    "    'Essa é a classe de definição de pessoa'\n",
    "    idade = 10\n",
    "    \n",
    "    def ola(self):\n",
    "        print('Olá!')"
   ]
  },
  {
   "cell_type": "code",
   "execution_count": 67,
   "metadata": {},
   "outputs": [
    {
     "name": "stdout",
     "output_type": "stream",
     "text": [
      "<function Pessoa.ola at 0x107b2fbe0>\n"
     ]
    }
   ],
   "source": [
    "print(Pessoa.ola)"
   ]
  },
  {
   "cell_type": "code",
   "execution_count": 68,
   "metadata": {},
   "outputs": [
    {
     "name": "stdout",
     "output_type": "stream",
     "text": [
      "Essa é a classe de definição de pessoa\n"
     ]
    }
   ],
   "source": [
    "print(Pessoa.__doc__)"
   ]
  },
  {
   "cell_type": "code",
   "execution_count": 69,
   "metadata": {},
   "outputs": [
    {
     "name": "stdout",
     "output_type": "stream",
     "text": [
      "<bound method Pessoa.ola of <__main__.Pessoa object at 0x1073e3f70>>\n"
     ]
    }
   ],
   "source": [
    "sara = Pessoa()\n",
    "print(sara.ola)"
   ]
  },
  {
   "cell_type": "code",
   "execution_count": 71,
   "metadata": {},
   "outputs": [
    {
     "name": "stdout",
     "output_type": "stream",
     "text": [
      "Olá!\n"
     ]
    }
   ],
   "source": [
    "sara.ola()"
   ]
  },
  {
   "cell_type": "code",
   "execution_count": 72,
   "metadata": {},
   "outputs": [],
   "source": [
    "class NumerosComplexos:\n",
    "    def __init__(self, r, i):\n",
    "        self.real = r\n",
    "        self.imag = i\n",
    "        \n",
    "    def pegar_dado(self):\n",
    "        print('{0} + {1}j'.format(self.real, self.imag))"
   ]
  },
  {
   "cell_type": "code",
   "execution_count": 73,
   "metadata": {},
   "outputs": [
    {
     "name": "stdout",
     "output_type": "stream",
     "text": [
      "5 + 6j\n"
     ]
    }
   ],
   "source": [
    "c1 = NumerosComplexos(5 ,6)\n",
    "c1.pegar_dado()"
   ]
  },
  {
   "cell_type": "code",
   "execution_count": 5,
   "metadata": {},
   "outputs": [],
   "source": [
    "class Teste:\n",
    "    def __init__(self):\n",
    "        print('Esse é um construtor inicial sem parâmetros')\n",
    "        \n",
    "    def show(self, nome):\n",
    "        print('Olá,', nome)"
   ]
  },
  {
   "cell_type": "code",
   "execution_count": 6,
   "metadata": {},
   "outputs": [
    {
     "name": "stdout",
     "output_type": "stream",
     "text": [
      "Esse é um construtor inicial sem parâmetros\n",
      "Olá, Sara\n"
     ]
    }
   ],
   "source": [
    "t = Teste()\n",
    "t.show('Sara')"
   ]
  },
  {
   "cell_type": "code",
   "execution_count": 12,
   "metadata": {},
   "outputs": [],
   "source": [
    "class Fruta:\n",
    "    def __init__(self, nome, cor):\n",
    "        self.nome = nome\n",
    "        self.cor = cor\n",
    "    \n",
    "    def show(self):\n",
    "        print('A fruta é:', self.nome, 'e a cor é', self.cor)"
   ]
  },
  {
   "cell_type": "code",
   "execution_count": 13,
   "metadata": {},
   "outputs": [
    {
     "name": "stdout",
     "output_type": "stream",
     "text": [
      "A fruta é: maçã e a cor é vermelha\n"
     ]
    }
   ],
   "source": [
    "obj = Fruta('maçã','vermelha')\n",
    "obj.show()"
   ]
  },
  {
   "cell_type": "markdown",
   "metadata": {},
   "source": [
    "### Exemplo de uso de pacote"
   ]
  },
  {
   "cell_type": "code",
   "execution_count": 14,
   "metadata": {},
   "outputs": [
    {
     "ename": "ModuleNotFoundError",
     "evalue": "No module named 'requests'",
     "output_type": "error",
     "traceback": [
      "\u001b[0;31m---------------------------------------------------------------------------\u001b[0m",
      "\u001b[0;31mModuleNotFoundError\u001b[0m                       Traceback (most recent call last)",
      "\u001b[1;32m/Users/lukaz/Library/CloudStorage/OneDrive-Personal/Documents/Educação/Ultima/GitHub/ultima-python/Módulo_5_Semana_5: Master Class Sara.ipynb Cell 50\u001b[0m line \u001b[0;36m1\n\u001b[0;32m----> <a href='vscode-notebook-cell:/Users/lukaz/Library/CloudStorage/OneDrive-Personal/Documents/Educac%CC%A7a%CC%83o/Ultima/GitHub/ultima-python/M%C3%B3dulo_5_Semana_5%3A%20Master%20Class%20Sara.ipynb#X66sZmlsZQ%3D%3D?line=0'>1</a>\u001b[0m \u001b[39mimport\u001b[39;00m \u001b[39mrequests\u001b[39;00m\n",
      "\u001b[0;31mModuleNotFoundError\u001b[0m: No module named 'requests'"
     ]
    }
   ],
   "source": [
    "import requests"
   ]
  },
  {
   "cell_type": "code",
   "execution_count": null,
   "metadata": {},
   "outputs": [],
   "source": []
  }
 ],
 "metadata": {
  "kernelspec": {
   "display_name": "Python 3",
   "language": "python",
   "name": "python3"
  },
  "language_info": {
   "codemirror_mode": {
    "name": "ipython",
    "version": 3
   },
   "file_extension": ".py",
   "mimetype": "text/x-python",
   "name": "python",
   "nbconvert_exporter": "python",
   "pygments_lexer": "ipython3",
   "version": "3.10.2"
  },
  "orig_nbformat": 4
 },
 "nbformat": 4,
 "nbformat_minor": 2
}
