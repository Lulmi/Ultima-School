{
 "cells": [
  {
   "cell_type": "markdown",
   "metadata": {},
   "source": [
    "# Atividade\n",
    "\n",
    "Utilize a seguinte lista para fazer os exercícios abaixo: \n",
    "\n",
    "- nomes = ['Abelardo', 'Aluisio', 'Adalberto', 'Anastacio', 'Ubirajara']\n",
    "\n",
    "1. Crie um loop for para iterar sobre cada elemento da lista e printe cada nome\n",
    "2. Faça o mesmo exercício acima utilizando o loop while\n",
    "3. Crie uma função que recebe a lista de nomes como parâmetro e passe por algum dos loops criados acima\n",
    "4. Utilize o loop do exercício 1 ou 2 e printe somente os nomes que começam com letra “A”"
   ]
  },
  {
   "cell_type": "code",
   "execution_count": 1,
   "metadata": {},
   "outputs": [],
   "source": [
    "# Lista a ser utilizada\n",
    "nomes = ['Abelardo', 'Aluisio', 'Adalberto', 'Anastacio', 'Ubirajara']"
   ]
  },
  {
   "cell_type": "code",
   "execution_count": 2,
   "metadata": {},
   "outputs": [
    {
     "name": "stdout",
     "output_type": "stream",
     "text": [
      "Abelardo\n",
      "Aluisio\n",
      "Adalberto\n",
      "Anastacio\n",
      "Ubirajara\n"
     ]
    }
   ],
   "source": [
    "# Exercício 1:\n",
    "# Crie um loop for para iterar sobre cada elemento da\n",
    "# lista e printe cada nome\n",
    "\n",
    "for nome in nomes:\n",
    "    print(f'{nome}')"
   ]
  },
  {
   "cell_type": "code",
   "execution_count": 3,
   "metadata": {},
   "outputs": [
    {
     "name": "stdout",
     "output_type": "stream",
     "text": [
      "Abelardo\n",
      "Aluisio\n",
      "Adalberto\n",
      "Anastacio\n",
      "Ubirajara\n"
     ]
    }
   ],
   "source": [
    "# Faça o mesmo exercício acima utilizando o loop while\n",
    "\n",
    "i = 0\n",
    "\n",
    "while i < len(nomes):\n",
    "    print(nomes[i])\n",
    "    i += 1"
   ]
  },
  {
   "cell_type": "code",
   "execution_count": 7,
   "metadata": {},
   "outputs": [
    {
     "name": "stdout",
     "output_type": "stream",
     "text": [
      "Abelardo\n",
      "Aluisio\n",
      "Adalberto\n",
      "Anastacio\n",
      "Ubirajara\n"
     ]
    }
   ],
   "source": [
    "# Crie uma função que recebe a lista de nomes como\n",
    "# parâmetro e passe por algum dos loops criados acima\n",
    "\n",
    "def PrintName():\n",
    "    for nome in nomes:\n",
    "        print(f'{nome}')\n",
    "        \n",
    "PrintName()"
   ]
  },
  {
   "cell_type": "code",
   "execution_count": 8,
   "metadata": {},
   "outputs": [
    {
     "name": "stdout",
     "output_type": "stream",
     "text": [
      "Abelardo\n",
      "Aluisio\n",
      "Adalberto\n",
      "Anastacio\n"
     ]
    }
   ],
   "source": [
    "# Utilize o loop do exercício 1 ou 2 e printe somente\n",
    "# os nomes que começam com letra “A”\n",
    "\n",
    "for nome in nomes:\n",
    "    if nome.startswith('A'):\n",
    "        print(f'{nome}')"
   ]
  },
  {
   "cell_type": "code",
   "execution_count": 4,
   "metadata": {},
   "outputs": [
    {
     "name": "stdout",
     "output_type": "stream",
     "text": [
      "[2, 3, 5, 7, 11, 13]\n"
     ]
    }
   ],
   "source": [
    "def verificar_primos(lista):\n",
    "    lista_primos = []\n",
    "    for num in lista:\n",
    "        if num > 1:\n",
    "            for i in range(2, num):\n",
    "                if (num % i) == 0:\n",
    "                    break\n",
    "            else:\n",
    "                lista_primos.append(num)\n",
    "    return lista_primos\n",
    "\n",
    "numeros = [2, 3, 4, 5, 6, 7, 8, 9, 10, 11, 12, 13, 14, 15]\n",
    "primos = verificar_primos(numeros)\n",
    "print(primos)\n"
   ]
  },
  {
   "cell_type": "markdown",
   "metadata": {},
   "source": []
  }
 ],
 "metadata": {
  "kernelspec": {
   "display_name": "Python 3",
   "language": "python",
   "name": "python3"
  },
  "language_info": {
   "codemirror_mode": {
    "name": "ipython",
    "version": 3
   },
   "file_extension": ".py",
   "mimetype": "text/x-python",
   "name": "python",
   "nbconvert_exporter": "python",
   "pygments_lexer": "ipython3",
   "version": "3.10.2"
  },
  "orig_nbformat": 4
 },
 "nbformat": 4,
 "nbformat_minor": 2
}
