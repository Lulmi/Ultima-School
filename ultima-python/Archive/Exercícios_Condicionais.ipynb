{
 "cells": [
  {
   "cell_type": "markdown",
   "metadata": {},
   "source": [
    "# Exercícios Condicionais\n",
    "\n",
    "1. Faça um programa que peça dois números e imprima o maior deles.\n",
    "2. Faça um script que peça um valor e mostre na tela se o valor é positivo ou negativo.\n",
    "3. Crie um programa que verifique se uma letra digitada é \"F\" ou \"M\". Conforme a letra escrever: F - Feminino, M - Masculino, Sexo Inválido.\n",
    "4. Crie um código em linguagem Python que peça o nome do usuário por meio da função input (). Se o nome for \"Ultima\", imprima \"Bem-vindo, você é um(a) exclenete aluno(a)\". Caso contrário, imprima \"Bom dia, NOME\". (Substitua o NOME pelo nome do usuário).\n",
    "5. Escrever um programa em Python para ler um número inteiro e informar se ele é divisível por 5.\n",
    "6. Escreva um programa Python para verificar se uma letra do Alfabeto(Abecedário) é uma vogal ou consoante.\n"
   ]
  },
  {
   "cell_type": "code",
   "execution_count": 3,
   "metadata": {},
   "outputs": [
    {
     "name": "stdout",
     "output_type": "stream",
     "text": [
      "6 é o maior número\n"
     ]
    }
   ],
   "source": [
    "# Exercício 1\n",
    "# Faça um programa que peça dois números\n",
    "# e imprima o maior deles.\n",
    "num1 = input('Insira o primeiro número: ')\n",
    "num2 = input('Insira o segundo número: ')\n",
    "max_num = 0\n",
    "\n",
    "if num1 < num2:\n",
    "    max_num = num2\n",
    "else:\n",
    "    max_num = num1\n",
    "\n",
    "print(f'{max_num} é o maior número')"
   ]
  },
  {
   "cell_type": "code",
   "execution_count": 6,
   "metadata": {},
   "outputs": [
    {
     "name": "stdout",
     "output_type": "stream",
     "text": [
      "O valor -6.0 é negativo\n"
     ]
    }
   ],
   "source": [
    "# Exercício 2\n",
    "# Faça um script que peça um valor e mostre na tela\n",
    "# se o valor é positivo ou negativo.\n",
    "valor = float(input('Insira um valor qualquer: '))\n",
    "\n",
    "if valor >= 0:\n",
    "    print(f'O valor {valor} é positivo')\n",
    "else:\n",
    "    print(f'O valor {valor} é negativo')"
   ]
  },
  {
   "cell_type": "code",
   "execution_count": 15,
   "metadata": {},
   "outputs": [
    {
     "name": "stdout",
     "output_type": "stream",
     "text": [
      "Sexo Inválido\n"
     ]
    }
   ],
   "source": [
    "# Exercício 3\n",
    "# Crie um programa que verifique se uma letra\n",
    "# digitada é \"F\" ou \"M\". Conforme a letra escrever:\n",
    "# F - Feminino, M - Masculino, Sexo Inválido.\n",
    "sexo = input('insira seu sexo: (F - Feminino e M - Masculino)').upper()\n",
    "\n",
    "if sexo == \"M\":\n",
    "    sexo_completo = (f'{sexo} - Masculino')\n",
    "elif sexo == \"F\":\n",
    "    sexo_completo = (f'{sexo} - Feminino')\n",
    "\n",
    "if sexo == \"M\":\n",
    "    print(f'você selecionou {sexo_completo}')\n",
    "elif sexo == \"F\":\n",
    "    print(f'você selecionou {sexo_completo}')\n",
    "else:\n",
    "    print(f'Sexo Inválido')\n"
   ]
  },
  {
   "cell_type": "code",
   "execution_count": 26,
   "metadata": {},
   "outputs": [
    {
     "name": "stdout",
     "output_type": "stream",
     "text": [
      "Bom dia, Lucas\n"
     ]
    }
   ],
   "source": [
    "# Exercício 4\n",
    "# Crie um código em linguagem Python que peça\n",
    "# o nome do usuário por meio da função input ().\n",
    "# Se o nome for \"Ultima\", imprima:\n",
    "# \"Bem-vindo, você é um(a) exclenete aluno(a)\".\n",
    "# Caso contrário, imprima \"Bom dia, NOME\".\n",
    "# (Substitua o NOME pelo nome do usuário).\n",
    "\n",
    "nome = input(str('Insira seu nome: ')).lower()\n",
    "\n",
    "if nome == \"ultima\":\n",
    "    print('Bem-vindo(a), você é um(a) exclenete aluno(a)')\n",
    "else:\n",
    "    print(f'Bom dia, {nome.capitalize()}')"
   ]
  },
  {
   "cell_type": "code",
   "execution_count": 5,
   "metadata": {},
   "outputs": [
    {
     "name": "stdout",
     "output_type": "stream",
     "text": [
      "O número 555 é divisível por 5\n"
     ]
    }
   ],
   "source": [
    "# Exercício 5\n",
    "# Escrever um programa em Python para ler um número inteiro\n",
    "# e informar se ele é divisível por 5.\n",
    "\n",
    "num3 = int(input('Insira um valor qualquer: '))\n",
    "\n",
    "if num3 % 5 == 0:\n",
    "    print(f'O número {num3} é divisível por 5')\n",
    "else:\n",
    "    print(f'O número {num3} NÂO é divisível por 5')"
   ]
  },
  {
   "cell_type": "code",
   "execution_count": 14,
   "metadata": {},
   "outputs": [
    {
     "name": "stdout",
     "output_type": "stream",
     "text": [
      "Por favor, insira apenas uma letra do alfabeto.\n"
     ]
    }
   ],
   "source": [
    "# Exercício 6\n",
    "# Escreva um programa Python para verificar\n",
    "# se uma letra do Alfabeto(Abecedário) é uma vogal\n",
    "# ou consoante.\n",
    "\n",
    "letra = str(input(\"Escreva uma letra: \")).lower()\n",
    "\n",
    "if letra.isalpha() and len(letra) == 1:\n",
    "    if letra in 'aeiouy':\n",
    "        print(f'{letra} é uma vogal')\n",
    "    else:\n",
    "        print(f'{letra} é uma consoante')\n",
    "else:\n",
    "    print('Por favor, insira apenas uma letra do alfabeto.')"
   ]
  }
 ],
 "metadata": {
  "kernelspec": {
   "display_name": "Python 3",
   "language": "python",
   "name": "python3"
  },
  "language_info": {
   "codemirror_mode": {
    "name": "ipython",
    "version": 3
   },
   "file_extension": ".py",
   "mimetype": "text/x-python",
   "name": "python",
   "nbconvert_exporter": "python",
   "pygments_lexer": "ipython3",
   "version": "3.10.2"
  },
  "orig_nbformat": 4
 },
 "nbformat": 4,
 "nbformat_minor": 2
}
