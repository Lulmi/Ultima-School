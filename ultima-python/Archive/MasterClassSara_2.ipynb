{
 "cells": [
  {
   "cell_type": "markdown",
   "metadata": {},
   "source": [
    "# Module 5 - Week 4"
   ]
  },
  {
   "cell_type": "code",
   "execution_count": 1,
   "metadata": {},
   "outputs": [
    {
     "name": "stdout",
     "output_type": "stream",
     "text": [
      "10\n",
      "20\n",
      "30\n",
      "40\n"
     ]
    }
   ],
   "source": [
    "lista = [10, 20, 30, 40]\n",
    "for num in lista:\n",
    "    print(num)"
   ]
  },
  {
   "cell_type": "code",
   "execution_count": 2,
   "metadata": {},
   "outputs": [
    {
     "name": "stdout",
     "output_type": "stream",
     "text": [
      "1 2 3 4 5 6 7 8 9 10 \n",
      "2 4 6 8 10 12 14 16 18 20 \n",
      "3 6 9 12 15 18 21 24 27 30 \n",
      "4 8 12 16 20 24 28 32 36 40 \n",
      "5 10 15 20 25 30 35 40 45 50 \n",
      "6 12 18 24 30 36 42 48 54 60 \n",
      "7 14 21 28 35 42 49 56 63 70 \n",
      "8 16 24 32 40 48 56 64 72 80 \n",
      "9 18 27 36 45 54 63 72 81 90 \n",
      "10 20 30 40 50 60 70 80 90 100 \n"
     ]
    }
   ],
   "source": [
    "for i in range(1,11):\n",
    "    for j in  range(1,11):\n",
    "        print(i*j, end=' ')\n",
    "    print()"
   ]
  },
  {
   "cell_type": "code",
   "execution_count": 5,
   "metadata": {},
   "outputs": [
    {
     "data": {
      "text/plain": [
       "{'primeiro_nome': 'Ana',\n",
       " 'Sobrenome': 'Silva',\n",
       " 'Idade': 28,\n",
       " 'É_casada': True,\n",
       " 'Skill': ['Python', 'Matlab', 'Data Science']}"
      ]
     },
     "execution_count": 5,
     "metadata": {},
     "output_type": "execute_result"
    }
   ],
   "source": [
    "pessoa = { 'primeiro_nome': 'Ana', 'Sobrenome': 'Silva', 'Idade': 28, 'É_casada': True, 'Skill': ['Python', 'Matlab', 'Data Science']}\n",
    "pessoa"
   ]
  },
  {
   "cell_type": "code",
   "execution_count": 7,
   "metadata": {},
   "outputs": [
    {
     "name": "stdout",
     "output_type": "stream",
     "text": [
      "Python\n",
      "Matlab\n",
      "Data Science\n"
     ]
    }
   ],
   "source": [
    "for key in pessoa:\n",
    "    if key == 'Skill':\n",
    "        for skills in pessoa['Skill']:\n",
    "            print(skills)"
   ]
  },
  {
   "cell_type": "code",
   "execution_count": 10,
   "metadata": {},
   "outputs": [
    {
     "name": "stdout",
     "output_type": "stream",
     "text": [
      "Taboada de:  1\n",
      "1 2 3 4 5 6 7 8 9 10 \n",
      "\n",
      "Taboada de:  2\n",
      "2 4 6 8 10 12 14 16 18 20 \n",
      "\n",
      "Taboada de:  3\n",
      "3 6 9 12 15 18 21 24 27 30 \n",
      "\n",
      "Taboada de:  4\n",
      "4 8 12 16 20 24 28 32 36 40 \n",
      "\n",
      "Taboada de:  5\n",
      "5 10 15 20 25 30 35 40 45 50 \n",
      "\n",
      "Taboada de:  6\n",
      "6 12 18 24 30 36 42 48 54 60 \n",
      "\n",
      "Taboada de:  7\n",
      "7 14 21 28 35 42 49 56 63 70 \n",
      "\n",
      "Taboada de:  8\n",
      "8 16 24 32 40 48 56 64 72 80 \n",
      "\n",
      "Taboada de:  9\n",
      "9 18 27 36 45 54 63 72 81 90 \n",
      "\n",
      "Taboada de:  10\n",
      "10 20 30 40 50 60 70 80 90 100 \n",
      "\n"
     ]
    }
   ],
   "source": [
    "for i in range(1, 11):\n",
    "    print('Taboada de: ', i)\n",
    "    count = 1\n",
    "    while count < 11:\n",
    "        print(i * count, end = ' ')\n",
    "        count += 1\n",
    "    print('\\n')"
   ]
  },
  {
   "cell_type": "code",
   "execution_count": 12,
   "metadata": {},
   "outputs": [
    {
     "name": "stdout",
     "output_type": "stream",
     "text": [
      "Amy Amy Amy Amy Amy \n",
      "\n",
      "Bela Bela Bela Bela Bela \n",
      "\n",
      "Kate Kate Kate Kate Kate \n",
      "\n"
     ]
    }
   ],
   "source": [
    "nomes = ['Amy', 'Bela', 'Kate']\n",
    "\n",
    "for nome in nomes:\n",
    "    count = 0\n",
    "    while count < 5:\n",
    "        print(nome, end = ' ')\n",
    "        count += 1\n",
    "    print('\\n')"
   ]
  },
  {
   "cell_type": "code",
   "execution_count": 13,
   "metadata": {},
   "outputs": [
    {
     "name": "stdout",
     "output_type": "stream",
     "text": [
      "[33, 63, 93, 36, 66, 96, 39, 69, 99]\n"
     ]
    }
   ],
   "source": [
    "primeiro = [3, 6, 9]\n",
    "segundo = [30, 60, 90]\n",
    "final = []\n",
    "\n",
    "for i in primeiro:\n",
    "    for j in segundo:\n",
    "        final.append(i + j)\n",
    "print(final)"
   ]
  },
  {
   "cell_type": "code",
   "execution_count": 15,
   "metadata": {},
   "outputs": [
    {
     "name": "stdout",
     "output_type": "stream",
     "text": [
      "[33, 63, 93, 36, 66, 96, 39, 69, 99]\n"
     ]
    }
   ],
   "source": [
    "primeira = [3, 6, 9]\n",
    "segunda = [30, 60, 90]\n",
    "final = []\n",
    "\n",
    "final = [i + j for i in primeira for j in segunda]\n",
    "print(final)"
   ]
  },
  {
   "cell_type": "code",
   "execution_count": 17,
   "metadata": {},
   "outputs": [
    {
     "name": "stdout",
     "output_type": "stream",
     "text": [
      "[1, 3, 5, 7, 9]\n",
      "[2, 4, 6, 8, 10]\n"
     ]
    }
   ],
   "source": [
    "impar = [1, 3, 5, 7, 9]\n",
    "par = [i + 1 for i in impar if i % 2 == 1]\n",
    "print(impar)\n",
    "print(par)"
   ]
  },
  {
   "cell_type": "code",
   "execution_count": 28,
   "metadata": {},
   "outputs": [
    {
     "name": "stdout",
     "output_type": "stream",
     "text": [
      "Numeros [ 0 ] 4\n",
      "Numeros [ 1 ] 2\n",
      "Numeros [ 2 ] 5\n",
      "Numeros [ 3 ] 7\n",
      "Numeros [ 4 ] 8\n"
     ]
    }
   ],
   "source": [
    "numeros = [4, 2, 5, 7, 8]\n",
    "for i, v in enumerate(numeros):\n",
    "    print('Numeros [' , i, ']', v)"
   ]
  },
  {
   "cell_type": "code",
   "execution_count": 29,
   "metadata": {},
   "outputs": [
    {
     "name": "stdout",
     "output_type": "stream",
     "text": [
      "Indice: 0   Valor 1\n",
      "Indice: 1   Valor 2\n",
      "Indice: 2   Valor 4\n",
      "Indice: 3   Valor 6\n",
      "Indice: 4   Valor 9\n"
     ]
    }
   ],
   "source": [
    "numeros = [1, 2, 4, 6, 9]\n",
    "tamanho = len(numeros)\n",
    "for i in range(tamanho):\n",
    "    print('Indice:', i, ' ', 'Valor', numeros[i])"
   ]
  },
  {
   "cell_type": "code",
   "execution_count": 33,
   "metadata": {},
   "outputs": [
    {
     "name": "stdout",
     "output_type": "stream",
     "text": [
      "P\n",
      "y\n",
      "t\n",
      "h\n",
      "o\n",
      "n\n"
     ]
    }
   ],
   "source": [
    "linguagem = 'Python'\n",
    "for letra in linguagem:\n",
    "    print(letra)"
   ]
  },
  {
   "cell_type": "code",
   "execution_count": 35,
   "metadata": {},
   "outputs": [
    {
     "name": "stdout",
     "output_type": "stream",
     "text": [
      "P\n",
      "y\n",
      "t\n",
      "h\n",
      "o\n",
      "n\n"
     ]
    }
   ],
   "source": [
    "linguagem = 'Python'\n",
    "for i in range(len(linguagem)):\n",
    "    print(linguagem[i])"
   ]
  },
  {
   "cell_type": "code",
   "execution_count": 36,
   "metadata": {},
   "outputs": [
    {
     "name": "stdout",
     "output_type": "stream",
     "text": [
      "0\n",
      "1\n",
      "3\n",
      "5\n",
      "8\n"
     ]
    }
   ],
   "source": [
    "tupla = (0, 1, 3, 5, 8)\n",
    "for numero in tupla:\n",
    "    print(numero)"
   ]
  },
  {
   "cell_type": "code",
   "execution_count": 38,
   "metadata": {},
   "outputs": [
    {
     "name": "stdout",
     "output_type": "stream",
     "text": [
      "60.0\n",
      "20.0\n",
      "6.666666666666667\n",
      "Número total de divisões:  3\n"
     ]
    }
   ],
   "source": [
    "count = 0\n",
    "numero = 180\n",
    "while numero >10:\n",
    "    numero = numero / 3\n",
    "    print(numero)\n",
    "    count = count + 1\n",
    "print('Número total de divisões: ', count)"
   ]
  },
  {
   "cell_type": "code",
   "execution_count": 39,
   "metadata": {},
   "outputs": [
    {
     "name": "stdout",
     "output_type": "stream",
     "text": [
      "9  é um número impar\n",
      "8  é um número par\n",
      "7  é um número impar\n",
      "6  é um número par\n",
      "5  é um número impar\n",
      "4  é um número par\n",
      "3  é um número impar\n",
      "2  é um número par\n",
      "1  é um número impar\n"
     ]
    }
   ],
   "source": [
    "n = int(input('Coloque um número inteiro: '))\n",
    "\n",
    "while n > 0:\n",
    "    if n % 2 == 0:\n",
    "        print(n, ' é um número par')\n",
    "    else:\n",
    "        print(n, ' é um número impar')\n",
    "    n -= 1"
   ]
  },
  {
   "cell_type": "code",
   "execution_count": 42,
   "metadata": {},
   "outputs": [
    {
     "name": "stdout",
     "output_type": "stream",
     "text": [
      "0\n",
      "1\n",
      "2\n",
      "3\n",
      "4\n",
      "5 e saí\n"
     ]
    }
   ],
   "source": [
    "count = 0\n",
    "while count < 5:\n",
    "    print(count)\n",
    "    count += 1\n",
    "else:\n",
    "    print(count, 'e saí')"
   ]
  },
  {
   "cell_type": "code",
   "execution_count": 43,
   "metadata": {},
   "outputs": [
    {
     "name": "stdout",
     "output_type": "stream",
     "text": [
      "0\n",
      "1\n",
      "2\n"
     ]
    }
   ],
   "source": [
    "count = 0\n",
    "while count < 5:\n",
    "    print(count)\n",
    "    count += 1\n",
    "    if count == 3:\n",
    "        break"
   ]
  },
  {
   "cell_type": "code",
   "execution_count": 46,
   "metadata": {},
   "outputs": [
    {
     "name": "stdout",
     "output_type": "stream",
     "text": [
      "10 9 8 7 6 5 4 3 2 1 0 "
     ]
    }
   ],
   "source": [
    "i = 10\n",
    "while i >= 0:\n",
    "    print(i, end = ' ')\n",
    "    i -= 1"
   ]
  },
  {
   "cell_type": "code",
   "execution_count": 48,
   "metadata": {},
   "outputs": [
    {
     "name": "stdout",
     "output_type": "stream",
     "text": [
      "1 2 3 4 5 6 7 8 9 10 \n",
      "1 2 3 4 5 6 7 8 9 10 \n",
      "1 2 3 4 5 6 7 8 9 10 \n",
      "1 2 3 4 5 6 7 8 9 10 \n",
      "1 2 3 4 5 6 7 8 9 10 \n"
     ]
    }
   ],
   "source": [
    "i = 1\n",
    "while i <= 5:\n",
    "    j = 1\n",
    "    while j <= 10:\n",
    "        print(j, end = ' ')\n",
    "        j += 1\n",
    "    i += 1\n",
    "    print()"
   ]
  },
  {
   "cell_type": "code",
   "execution_count": 49,
   "metadata": {},
   "outputs": [
    {
     "name": "stdout",
     "output_type": "stream",
     "text": [
      "1 2 3 4 5 6 7 8 9 10 \n",
      "1 2 3 4 5 6 7 8 9 10 \n",
      "1 2 3 4 5 6 7 8 9 10 \n",
      "1 2 3 4 5 6 7 8 9 10 \n",
      "1 2 3 4 5 6 7 8 9 10 \n"
     ]
    }
   ],
   "source": [
    "for i in range(1, 6):\n",
    "    for j in range(1, 11):\n",
    "        print(j, end = ' ')\n",
    "    print()"
   ]
  },
  {
   "cell_type": "code",
   "execution_count": 50,
   "metadata": {},
   "outputs": [
    {
     "name": "stdout",
     "output_type": "stream",
     "text": [
      "A\n",
      "l\n",
      "a\n",
      "n\n"
     ]
    }
   ],
   "source": [
    "nome = 'Alan'\n",
    "i = 0\n",
    "res = len(nome) - 1\n",
    "while i <= res:\n",
    "    print(nome[i])\n",
    "    i += 1"
   ]
  },
  {
   "cell_type": "code",
   "execution_count": 51,
   "metadata": {},
   "outputs": [
    {
     "name": "stdout",
     "output_type": "stream",
     "text": [
      "Número é: 1\n",
      "Número é: 2\n",
      "Número é: 3\n",
      "Número é: 4\n",
      "Fora do loop\n"
     ]
    }
   ],
   "source": [
    "numero = 0\n",
    "for numero in range(10):\n",
    "    numero += 1\n",
    "    if numero == 5:\n",
    "        break\n",
    "    print('Número é: ' + str(numero))\n",
    "    \n",
    "print('Fora do loop')"
   ]
  },
  {
   "cell_type": "code",
   "execution_count": 63,
   "metadata": {},
   "outputs": [],
   "source": [
    "def nome_da_funcao(parametro1=2, parametro2=7):\n",
    "    ''' inputs:\n",
    "            número inteiro\n",
    "            número inteiro\n",
    "        output:\n",
    "            variável a '''\n",
    "    # Corpo da Função\n",
    "    a = parametro1 + parametro2\n",
    "    return a"
   ]
  },
  {
   "cell_type": "code",
   "execution_count": 65,
   "metadata": {},
   "outputs": [
    {
     "name": "stdout",
     "output_type": "stream",
     "text": [
      "8\n"
     ]
    }
   ],
   "source": [
    "b = nome_da_funcao(3, 5)\n",
    "print(b)"
   ]
  },
  {
   "cell_type": "code",
   "execution_count": 66,
   "metadata": {},
   "outputs": [],
   "source": [
    "def oi():\n",
    "    print('Seja bem-vindo à aula')"
   ]
  },
  {
   "cell_type": "code",
   "execution_count": 67,
   "metadata": {},
   "outputs": [
    {
     "name": "stdout",
     "output_type": "stream",
     "text": [
      "Seja bem-vindo à aula\n"
     ]
    }
   ],
   "source": [
    "oi()"
   ]
  },
  {
   "cell_type": "code",
   "execution_count": 68,
   "metadata": {},
   "outputs": [],
   "source": [
    "def somando_dois_numeros():\n",
    "    numero1 = 5\n",
    "    numero2 = 10\n",
    "    total = numero1 + numero2\n",
    "    print(total)"
   ]
  },
  {
   "cell_type": "code",
   "execution_count": 70,
   "metadata": {},
   "outputs": [
    {
     "name": "stdout",
     "output_type": "stream",
     "text": [
      "15\n"
     ]
    }
   ],
   "source": [
    "somando_dois_numeros()"
   ]
  },
  {
   "cell_type": "code",
   "execution_count": 71,
   "metadata": {},
   "outputs": [],
   "source": [
    "def oi(nome):\n",
    "    print('Olá, ', nome, '. Seja Bem-vindo(a) à aula de Python para DAta Science')"
   ]
  },
  {
   "cell_type": "code",
   "execution_count": 72,
   "metadata": {},
   "outputs": [
    {
     "name": "stdout",
     "output_type": "stream",
     "text": [
      "Olá,  Sara . Seja Bem-vindo(a) à aula de Python para DAta Science\n"
     ]
    }
   ],
   "source": [
    "oi('Sara')"
   ]
  },
  {
   "cell_type": "code",
   "execution_count": 73,
   "metadata": {},
   "outputs": [],
   "source": [
    "def elevar_ao_quadrado(x):\n",
    "    return x * x"
   ]
  },
  {
   "cell_type": "code",
   "execution_count": 74,
   "metadata": {},
   "outputs": [
    {
     "data": {
      "text/plain": [
       "418955863824"
      ]
     },
     "execution_count": 74,
     "metadata": {},
     "output_type": "execute_result"
    }
   ],
   "source": [
    "elevar_ao_quadrado(647268)"
   ]
  },
  {
   "cell_type": "code",
   "execution_count": 75,
   "metadata": {},
   "outputs": [],
   "source": [
    "def area_circulo(r):\n",
    "    PI = 3.14\n",
    "    return PI * r ** 2"
   ]
  },
  {
   "cell_type": "code",
   "execution_count": 76,
   "metadata": {},
   "outputs": [
    {
     "data": {
      "text/plain": [
       "78.5"
      ]
     },
     "execution_count": 76,
     "metadata": {},
     "output_type": "execute_result"
    }
   ],
   "source": [
    "area_circulo(5)"
   ]
  },
  {
   "cell_type": "code",
   "execution_count": 77,
   "metadata": {},
   "outputs": [],
   "source": [
    "def calculadora_idade(ano_corrente, ano_nascimento):\n",
    "    idade = ano_corrente - ano_nascimento\n",
    "    return idade"
   ]
  },
  {
   "cell_type": "code",
   "execution_count": 78,
   "metadata": {},
   "outputs": [
    {
     "data": {
      "text/plain": [
       "55"
      ]
     },
     "execution_count": 78,
     "metadata": {},
     "output_type": "execute_result"
    }
   ],
   "source": [
    "calculadora_idade(2023,1968)"
   ]
  },
  {
   "cell_type": "code",
   "execution_count": 79,
   "metadata": {},
   "outputs": [],
   "source": [
    "def valor_absoluto(num):\n",
    "    ''' Essa Função calcula o valor absoluto do número inserido '''\n",
    "    \n",
    "    if num >= 0:\n",
    "        return num\n",
    "    else:\n",
    "        return -num"
   ]
  },
  {
   "cell_type": "code",
   "execution_count": 80,
   "metadata": {},
   "outputs": [
    {
     "data": {
      "text/plain": [
       "2"
      ]
     },
     "execution_count": 80,
     "metadata": {},
     "output_type": "execute_result"
    }
   ],
   "source": [
    "valor_absoluto(2)"
   ]
  },
  {
   "cell_type": "code",
   "execution_count": 81,
   "metadata": {},
   "outputs": [
    {
     "data": {
      "text/plain": [
       "4"
      ]
     },
     "execution_count": 81,
     "metadata": {},
     "output_type": "execute_result"
    }
   ],
   "source": [
    "valor_absoluto(-4)"
   ]
  },
  {
   "cell_type": "code",
   "execution_count": 82,
   "metadata": {},
   "outputs": [],
   "source": [
    "def par(lista):\n",
    "    num_par = []\n",
    "    for n in lista:\n",
    "        if n % 2 == 0:\n",
    "            num_par.append(n)\n",
    "    return num_par"
   ]
  },
  {
   "cell_type": "code",
   "execution_count": 83,
   "metadata": {},
   "outputs": [
    {
     "name": "stdout",
     "output_type": "stream",
     "text": [
      "Os número que são pares são:  [2, 46, 82]\n"
     ]
    }
   ],
   "source": [
    "lista1 = [2, 3, 46, 75, 82, 19]\n",
    "print('Os número que são pares são: ', par(lista1))"
   ]
  },
  {
   "cell_type": "code",
   "execution_count": 86,
   "metadata": {},
   "outputs": [],
   "source": [
    "def calculadora(num1, num2):\n",
    "    soma = num1 + num2\n",
    "    sub = num1 - num2\n",
    "    divisao = num1 / num2\n",
    "    multiplicacao = num1 * num2\n",
    "    return soma, sub, divisao, multiplicacao"
   ]
  },
  {
   "cell_type": "code",
   "execution_count": 87,
   "metadata": {},
   "outputs": [],
   "source": [
    "a,b,c,d, = calculadora(40,5)"
   ]
  },
  {
   "cell_type": "code",
   "execution_count": 88,
   "metadata": {},
   "outputs": [
    {
     "name": "stdout",
     "output_type": "stream",
     "text": [
      "45\n"
     ]
    }
   ],
   "source": [
    "print(a)"
   ]
  },
  {
   "cell_type": "code",
   "execution_count": 89,
   "metadata": {},
   "outputs": [
    {
     "name": "stdout",
     "output_type": "stream",
     "text": [
      "35\n"
     ]
    }
   ],
   "source": [
    "print(b)"
   ]
  },
  {
   "cell_type": "code",
   "execution_count": 90,
   "metadata": {},
   "outputs": [
    {
     "name": "stdout",
     "output_type": "stream",
     "text": [
      "8.0\n"
     ]
    }
   ],
   "source": [
    "print(c)"
   ]
  },
  {
   "cell_type": "code",
   "execution_count": 91,
   "metadata": {},
   "outputs": [
    {
     "name": "stdout",
     "output_type": "stream",
     "text": [
      "200\n"
     ]
    }
   ],
   "source": [
    "print(d)"
   ]
  },
  {
   "cell_type": "code",
   "execution_count": null,
   "metadata": {},
   "outputs": [],
   "source": []
  }
 ],
 "metadata": {
  "kernelspec": {
   "display_name": "Python 3",
   "language": "python",
   "name": "python3"
  },
  "language_info": {
   "codemirror_mode": {
    "name": "ipython",
    "version": 3
   },
   "file_extension": ".py",
   "mimetype": "text/x-python",
   "name": "python",
   "nbconvert_exporter": "python",
   "pygments_lexer": "ipython3",
   "version": "3.10.2"
  },
  "orig_nbformat": 4
 },
 "nbformat": 4,
 "nbformat_minor": 2
}
