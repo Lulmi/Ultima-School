{
 "cells": [
  {
   "cell_type": "markdown",
   "metadata": {},
   "source": [
    "# Exercício Semana 3\n",
    "\n",
    "Utilize a seguinte lista para fazer os exercícios abaixo: \n",
    "- nomes = ['Abelardo', 'Aluisio', 'Adalberto', 'Anastacio', 'Ubirajara']\n",
    "\n",
    "1. Crie um loop for para iterar sobre cada elemento da lista e printe cada nome\n",
    "2. Faça o mesmo exercício acima utilizando o loop while"
   ]
  },
  {
   "cell_type": "code",
   "execution_count": 1,
   "metadata": {},
   "outputs": [],
   "source": [
    "nomes = ['Abelardo', 'Aluisio', 'Adalberto', 'Anastacio', 'Ubirajara']"
   ]
  },
  {
   "cell_type": "code",
   "execution_count": 2,
   "metadata": {},
   "outputs": [
    {
     "name": "stdout",
     "output_type": "stream",
     "text": [
      "Abelardo\n",
      "Aluisio\n",
      "Adalberto\n",
      "Anastacio\n",
      "Ubirajara\n"
     ]
    }
   ],
   "source": [
    "# Exercício 1:\n",
    "# Crie um loop for para iterar sobre cada elemento da lista e printe cada nome\n",
    "\n",
    "for nome in nomes:\n",
    "    print(f'{nome}')"
   ]
  },
  {
   "cell_type": "code",
   "execution_count": 5,
   "metadata": {},
   "outputs": [
    {
     "name": "stdout",
     "output_type": "stream",
     "text": [
      "Abelardo\n",
      "Aluisio\n",
      "Adalberto\n",
      "Anastacio\n",
      "Ubirajara\n"
     ]
    }
   ],
   "source": [
    "# Exercício 2:\n",
    "# Faça o mesmo exercício acima utilizando o loop while\n",
    "i = 0\n",
    "\n",
    "while i < len(nomes):\n",
    "    print(nomes[i])\n",
    "    i += 1"
   ]
  }
 ],
 "metadata": {
  "kernelspec": {
   "display_name": "Python 3",
   "language": "python",
   "name": "python3"
  },
  "language_info": {
   "codemirror_mode": {
    "name": "ipython",
    "version": 3
   },
   "file_extension": ".py",
   "mimetype": "text/x-python",
   "name": "python",
   "nbconvert_exporter": "python",
   "pygments_lexer": "ipython3",
   "version": "3.10.2"
  },
  "orig_nbformat": 4
 },
 "nbformat": 4,
 "nbformat_minor": 2
}
