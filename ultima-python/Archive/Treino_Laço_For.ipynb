{
 "cells": [
  {
   "cell_type": "markdown",
   "metadata": {},
   "source": [
    "# Laço For"
   ]
  },
  {
   "cell_type": "code",
   "execution_count": 1,
   "metadata": {},
   "outputs": [
    {
     "name": "stdout",
     "output_type": "stream",
     "text": [
      "['Ana', 'Bruno', 'JOSE', 'MARIA', 'zEcA']\n"
     ]
    }
   ],
   "source": [
    "nomes = ['Ana', 'Bruno', 'JOSE', 'MARIA', 'zEcA']\n",
    "print(nomes)"
   ]
  },
  {
   "cell_type": "code",
   "execution_count": 3,
   "metadata": {},
   "outputs": [
    {
     "name": "stdout",
     "output_type": "stream",
     "text": [
      "ana\n",
      "bruno\n",
      "jose\n",
      "maria\n",
      "zeca\n"
     ]
    }
   ],
   "source": [
    "for nome in nomes:\n",
    "    print(nome.lower())"
   ]
  },
  {
   "cell_type": "code",
   "execution_count": 4,
   "metadata": {},
   "outputs": [
    {
     "data": {
      "text/plain": [
       "[1, 2, 3, 4, 5, 6, 7, 8, 9, 10]"
      ]
     },
     "execution_count": 4,
     "metadata": {},
     "output_type": "execute_result"
    }
   ],
   "source": [
    "list(range(1, 11))"
   ]
  },
  {
   "cell_type": "code",
   "execution_count": 6,
   "metadata": {},
   "outputs": [
    {
     "name": "stdout",
     "output_type": "stream",
     "text": [
      "1\n",
      "4\n",
      "9\n",
      "16\n",
      "25\n",
      "36\n",
      "49\n",
      "64\n",
      "81\n",
      "100\n"
     ]
    }
   ],
   "source": [
    "for num in range(1,11):\n",
    "    print(num ** 2)"
   ]
  },
  {
   "cell_type": "code",
   "execution_count": 7,
   "metadata": {},
   "outputs": [
    {
     "data": {
      "text/plain": [
       "<zip at 0x105435780>"
      ]
     },
     "execution_count": 7,
     "metadata": {},
     "output_type": "execute_result"
    }
   ],
   "source": [
    "nomes = ['bruno', 'jose']\n",
    "idades = [40,55]\n",
    "\n",
    "lista_de_tuplas = zip(nomes, idades)\n",
    "lista_de_tuplas"
   ]
  },
  {
   "cell_type": "code",
   "execution_count": 8,
   "metadata": {},
   "outputs": [
    {
     "data": {
      "text/plain": [
       "[('bruno', 40), ('jose', 55)]"
      ]
     },
     "execution_count": 8,
     "metadata": {},
     "output_type": "execute_result"
    }
   ],
   "source": [
    "list(lista_de_tuplas)"
   ]
  },
  {
   "cell_type": "code",
   "execution_count": 17,
   "metadata": {},
   "outputs": [
    {
     "name": "stdout",
     "output_type": "stream",
     "text": [
      "bruno tem 40 anos\n",
      "jose tem 55 anos\n",
      "maria tem 44 anos\n",
      "clarice tem 31 anos\n",
      "Ptolomeu tem 77 anos\n"
     ]
    }
   ],
   "source": [
    "nomes = ['bruno', 'jose', 'maria', 'clarice', 'Ptolomeu']\n",
    "idades = [40, 55, 44, 31, 77]\n",
    "\n",
    "lista_de_tuplas = zip(nomes, idades)\n",
    "\n",
    "for nome, idade in lista_de_tuplas:\n",
    "    print(f'{nome} tem {idade} anos')"
   ]
  },
  {
   "cell_type": "code",
   "execution_count": 18,
   "metadata": {},
   "outputs": [
    {
     "name": "stdout",
     "output_type": "stream",
     "text": [
      "Indice: 1 contém idade maior que 50.\n",
      "Indice: 4 contém idade maior que 50.\n"
     ]
    }
   ],
   "source": [
    "for indice, idade in enumerate(idades):\n",
    "    if idade > 50:\n",
    "        print(f'Indice: {indice} contém idade maior que 50.')"
   ]
  },
  {
   "cell_type": "markdown",
   "metadata": {},
   "source": [
    "# List Comprehension"
   ]
  },
  {
   "cell_type": "code",
   "execution_count": 19,
   "metadata": {},
   "outputs": [
    {
     "data": {
      "text/plain": [
       "['bruno', 'jose', 'maria', 'clarice', 'Ptolomeu']"
      ]
     },
     "execution_count": 19,
     "metadata": {},
     "output_type": "execute_result"
    }
   ],
   "source": [
    "nomes"
   ]
  },
  {
   "cell_type": "code",
   "execution_count": 21,
   "metadata": {},
   "outputs": [
    {
     "name": "stdout",
     "output_type": "stream",
     "text": [
      "['bruno', 'jose', 'maria']\n"
     ]
    }
   ],
   "source": [
    "nomes_com_ate_5_chars = [nome for nome in nomes if len(nome) <= 5]\n",
    "print(nomes_com_ate_5_chars)"
   ]
  },
  {
   "cell_type": "code",
   "execution_count": 24,
   "metadata": {},
   "outputs": [
    {
     "name": "stdout",
     "output_type": "stream",
     "text": [
      "['bruno', 'jose', 'maria']\n"
     ]
    }
   ],
   "source": [
    "nomes_com_ate_5_chars =[]\n",
    "\n",
    "for nome in nomes:\n",
    "    if len(nome) <= 5:\n",
    "        nomes_com_ate_5_chars.append(nome)\n",
    "        \n",
    "print(nomes_com_ate_5_chars)"
   ]
  },
  {
   "cell_type": "code",
   "execution_count": 25,
   "metadata": {},
   "outputs": [
    {
     "data": {
      "text/plain": [
       "['BRUNO', 'JOSE', 'MARIA', 'CLARICE', 'PTOLOMEU']"
      ]
     },
     "execution_count": 25,
     "metadata": {},
     "output_type": "execute_result"
    }
   ],
   "source": [
    "[nome.upper() for nome in nomes]"
   ]
  },
  {
   "cell_type": "markdown",
   "metadata": {},
   "source": [
    "# Laço While"
   ]
  },
  {
   "cell_type": "code",
   "execution_count": 6,
   "metadata": {},
   "outputs": [
    {
     "name": "stdout",
     "output_type": "stream",
     "text": [
      "Inicio\n",
      "Soma = 5\n",
      "Soma = 10\n",
      "Soma = 15\n",
      "Soma = 20\n",
      "Soma = 25\n",
      "Soma = 30\n",
      "Soma = 35\n",
      "Soma = 40\n",
      "Soma = 45\n",
      "Soma = 50\n",
      "Soma = 55\n",
      "Soma = 60\n",
      "Soma = 65\n",
      "Soma = 70\n",
      "Soma = 75\n",
      "Soma = 80\n",
      "Soma = 85\n",
      "Soma = 90\n",
      "Soma = 95\n",
      "Soma = 100\n",
      "Fim\n"
     ]
    }
   ],
   "source": [
    "print('Inicio')\n",
    "\n",
    "soma = 0\n",
    "\n",
    "contagem = 0 \n",
    "\n",
    "max_repeticoes = 1000\n",
    "\n",
    "while soma < 100:\n",
    "    soma += 5\n",
    "    print(f'Soma = {soma}')\n",
    "\n",
    "    contagem += 1\n",
    "    if contagem > max_repeticoes:\n",
    "        print(f'Maximo de interações {max_repeticoes} foi atingido.')\n",
    "        print(f'soma é igual a {soma}')\n",
    "        break\n",
    "        \n",
    "print('Fim')"
   ]
  },
  {
   "cell_type": "code",
   "execution_count": 7,
   "metadata": {},
   "outputs": [
    {
     "ename": "IndentationError",
     "evalue": "expected an indented block after 'try' statement on line 2 (1860307631.py, line 5)",
     "output_type": "error",
     "traceback": [
      "\u001b[0;36m  Cell \u001b[0;32mIn[7], line 5\u001b[0;36m\u001b[0m\n\u001b[0;31m    except:\u001b[0m\n\u001b[0m    ^\u001b[0m\n\u001b[0;31mIndentationError\u001b[0m\u001b[0;31m:\u001b[0m expected an indented block after 'try' statement on line 2\n"
     ]
    }
   ],
   "source": [
    "while condicao:\n",
    "    try:\n",
    "        # codigo\n",
    "        # break\n",
    "    except:\n",
    "        # retornou erro\n",
    "        # conta repeticoes para quebrar a condicao"
   ]
  },
  {
   "cell_type": "code",
   "execution_count": null,
   "metadata": {},
   "outputs": [],
   "source": []
  }
 ],
 "metadata": {
  "kernelspec": {
   "display_name": "Python 3",
   "language": "python",
   "name": "python3"
  },
  "language_info": {
   "codemirror_mode": {
    "name": "ipython",
    "version": 3
   },
   "file_extension": ".py",
   "mimetype": "text/x-python",
   "name": "python",
   "nbconvert_exporter": "python",
   "pygments_lexer": "ipython3",
   "version": "3.10.2"
  },
  "orig_nbformat": 4
 },
 "nbformat": 4,
 "nbformat_minor": 2
}
