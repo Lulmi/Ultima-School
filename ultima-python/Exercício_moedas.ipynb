{
 "cells": [
  {
   "cell_type": "markdown",
   "metadata": {},
   "source": [
    "Crie uma aplicação que calcule o valor total que o Sr. João possui em moedas de real (R$) no caixa. \n",
    "A aplicação deve imprimir o valor total em reais (R$) e pode-se utilizar ponto flutuante para\n",
    "representar o valor com duas casas decimais no momento que for imprimir o valor na tela.\n",
    "\n",
    "- 35 moedas 0.05 centavos\n",
    "- 50 moedas 0.10 centavos\n",
    "- 30 moedas 0.25 centavos\n",
    "- 15 moedas 0.50 centavos\n",
    "- 19 moedas 1.00 real"
   ]
  },
  {
   "cell_type": "code",
   "execution_count": 1,
   "metadata": {},
   "outputs": [
    {
     "name": "stdout",
     "output_type": "stream",
     "text": [
      "1.9\n"
     ]
    }
   ],
   "source": [
    "Moeda_A = 0.05\n",
    "Moeda_B = 0.10\n",
    "Moeda_C = 0.25\n",
    "Moeda_D = 0.50\n",
    "Moeda_E = 1.00\n",
    "\n",
    "Total = Moeda_A + Moeda_B + Moeda_C + Moeda_D + Moeda_E\n",
    "print (Total)"
   ]
  }
 ],
 "metadata": {
  "kernelspec": {
   "display_name": "Python 3",
   "language": "python",
   "name": "python3"
  },
  "language_info": {
   "codemirror_mode": {
    "name": "ipython",
    "version": 3
   },
   "file_extension": ".py",
   "mimetype": "text/x-python",
   "name": "python",
   "nbconvert_exporter": "python",
   "pygments_lexer": "ipython3",
   "version": "3.10.2"
  },
  "orig_nbformat": 4
 },
 "nbformat": 4,
 "nbformat_minor": 2
}
