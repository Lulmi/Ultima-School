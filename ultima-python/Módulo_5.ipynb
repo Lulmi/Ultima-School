{
 "cells": [
  {
   "cell_type": "markdown",
   "metadata": {},
   "source": [
    "# Semana 1 - Matemática com Python"
   ]
  },
  {
   "cell_type": "markdown",
   "metadata": {},
   "source": [
    "## Operadores Lógicos"
   ]
  },
  {
   "cell_type": "code",
   "execution_count": null,
   "metadata": {},
   "outputs": [
    {
     "name": "stdout",
     "output_type": "stream",
     "text": [
      "['Ana', 'Bruno', 'Joao', 'Maria'] <class 'list'> 4\n"
     ]
    }
   ],
   "source": [
    "nomes = [\"Ana\", \"Bruno\", \"Joao\", \"Maria\"]\n",
    "print(nomes, type(nomes), len(nomes))\n"
   ]
  },
  {
   "cell_type": "code",
   "execution_count": null,
   "metadata": {},
   "outputs": [
    {
     "data": {
      "text/plain": [
       "True"
      ]
     },
     "metadata": {},
     "output_type": "display_data"
    }
   ],
   "source": [
    "'Bruno' in nomes"
   ]
  },
  {
   "cell_type": "code",
   "execution_count": null,
   "metadata": {},
   "outputs": [
    {
     "name": "stdout",
     "output_type": "stream",
     "text": [
      "inicio\n",
      "Ana está na lista.\n",
      "fim\n"
     ]
    }
   ],
   "source": [
    "nome = 'Ana'\n",
    "\n",
    "print('inicio')\n",
    "\n",
    "if nome in nomes:\n",
    "    print(f'{nome} está na lista.')\n",
    "else:\n",
    "    print(f'{nome} Não esta na lista.')\n",
    "    \n",
    "print('fim')"
   ]
  },
  {
   "cell_type": "code",
   "execution_count": null,
   "metadata": {},
   "outputs": [
    {
     "name": "stdout",
     "output_type": "stream",
     "text": [
      "inicio\n",
      "x é um número par\n",
      "fim\n"
     ]
    }
   ],
   "source": [
    "x = 100\n",
    "\n",
    "print('inicio')\n",
    "\n",
    "if (x % 2) == 0:\n",
    "    print('x é um número par')\n",
    "elif x > 50:\n",
    "    print('x não é par e é maior que 50')\n",
    "else:\n",
    "    print('x é impar e menor do que 50')\n",
    "    \n",
    "print('fim')"
   ]
  },
  {
   "cell_type": "markdown",
   "metadata": {},
   "source": [
    "## Master Class"
   ]
  },
  {
   "cell_type": "markdown",
   "metadata": {},
   "source": [
    "### Renata Biagg"
   ]
  },
  {
   "cell_type": "code",
   "execution_count": 63,
   "metadata": {},
   "outputs": [],
   "source": [
    "n1 = float(input(\"Enter the first number: \"))"
   ]
  },
  {
   "cell_type": "code",
   "execution_count": 64,
   "metadata": {},
   "outputs": [],
   "source": [
    "n2 = float(input(\"Enter the second number: \"))"
   ]
  },
  {
   "cell_type": "code",
   "execution_count": 65,
   "metadata": {},
   "outputs": [
    {
     "name": "stdout",
     "output_type": "stream",
     "text": [
      "The Somatory from both numbers are:  11.0\n",
      "The Subtraction from both numbers are:  -1.0\n",
      "The Multiplication from both numbers are:  30.0\n",
      "The Division from both numbers are:  0.8333\n",
      "The Exponension from both numbers are:  15625.0\n",
      "The Division rest from both numbers are:  5.0\n"
     ]
    }
   ],
   "source": [
    "print('The Somatory from both numbers are: ', n1 + n2)\n",
    "print('The Subtraction from both numbers are: ', n1 - n2)\n",
    "print('The Multiplication from both numbers are: ', n1 * n2)\n",
    "print('The Division from both numbers are: ', round(n1 / n2, 4))\n",
    "print('The Exponension from both numbers are: ', n1 ** n2)\n",
    "print('The Division rest from both numbers are: ', n1 % n2)\n"
   ]
  },
  {
   "cell_type": "markdown",
   "metadata": {},
   "source": [
    "# Semana 2 - Estrutura de Dados"
   ]
  },
  {
   "cell_type": "markdown",
   "metadata": {},
   "source": [
    "## Listas"
   ]
  },
  {
   "cell_type": "code",
   "execution_count": null,
   "metadata": {},
   "outputs": [
    {
     "name": "stdout",
     "output_type": "stream",
     "text": [
      "[0, 2, 4, 6]\n"
     ]
    },
    {
     "data": {
      "text/plain": [
       "list"
      ]
     },
     "metadata": {},
     "output_type": "display_data"
    }
   ],
   "source": [
    "minha_lista = [0, 2, 4, 6]\n",
    "print(minha_lista)\n",
    "type(minha_lista)"
   ]
  },
  {
   "cell_type": "code",
   "execution_count": null,
   "metadata": {},
   "outputs": [
    {
     "name": "stdout",
     "output_type": "stream",
     "text": [
      "[0, 2, 4, 6, 8]\n"
     ]
    }
   ],
   "source": [
    "minha_lista.append(8)\n",
    "print(minha_lista)"
   ]
  },
  {
   "cell_type": "code",
   "execution_count": null,
   "metadata": {},
   "outputs": [
    {
     "data": {
      "text/plain": [
       "6"
      ]
     },
     "metadata": {},
     "output_type": "display_data"
    }
   ],
   "source": [
    "minha_lista[3]"
   ]
  },
  {
   "cell_type": "code",
   "execution_count": null,
   "metadata": {},
   "outputs": [
    {
     "name": "stdout",
     "output_type": "stream",
     "text": [
      "['Adriano', 'Anna', 'Vanessa', 'João', 'Diego', 'Clarice']\n"
     ]
    }
   ],
   "source": [
    "lista_de_nomes = ['Adriano', 'Anna', 'Vanessa', 'João', 'Diego', 'Clarice']\n",
    "print(lista_de_nomes)"
   ]
  },
  {
   "cell_type": "code",
   "execution_count": null,
   "metadata": {},
   "outputs": [
    {
     "data": {
      "text/plain": [
       "'Anna'"
      ]
     },
     "metadata": {},
     "output_type": "display_data"
    }
   ],
   "source": [
    "lista_de_nomes[1]"
   ]
  },
  {
   "cell_type": "code",
   "execution_count": null,
   "metadata": {},
   "outputs": [
    {
     "data": {
      "text/plain": [
       "['Vanessa', 'João', 'Diego', 'Clarice']"
      ]
     },
     "metadata": {},
     "output_type": "display_data"
    }
   ],
   "source": [
    "lista_de_nomes[2:]"
   ]
  },
  {
   "cell_type": "code",
   "execution_count": null,
   "metadata": {},
   "outputs": [
    {
     "data": {
      "text/plain": [
       "['Anna', 'Vanessa', 'João']"
      ]
     },
     "metadata": {},
     "output_type": "display_data"
    }
   ],
   "source": [
    "lista_de_nomes[1:4]"
   ]
  },
  {
   "cell_type": "code",
   "execution_count": null,
   "metadata": {},
   "outputs": [
    {
     "data": {
      "text/plain": [
       "'Diego'"
      ]
     },
     "metadata": {},
     "output_type": "display_data"
    }
   ],
   "source": [
    "lista_de_nomes[-2]"
   ]
  },
  {
   "cell_type": "code",
   "execution_count": null,
   "metadata": {},
   "outputs": [
    {
     "data": {
      "text/plain": [
       "['Adriano', 'Vanessa', 'Diego']"
      ]
     },
     "metadata": {},
     "output_type": "display_data"
    }
   ],
   "source": [
    "lista_de_nomes[::2]"
   ]
  },
  {
   "cell_type": "code",
   "execution_count": null,
   "metadata": {},
   "outputs": [
    {
     "data": {
      "text/plain": [
       "['Clarice', 'Diego', 'João', 'Vanessa', 'Anna', 'Adriano']"
      ]
     },
     "metadata": {},
     "output_type": "display_data"
    }
   ],
   "source": [
    "lista_de_nomes[::-1]"
   ]
  },
  {
   "cell_type": "code",
   "execution_count": null,
   "metadata": {},
   "outputs": [
    {
     "name": "stdout",
     "output_type": "stream",
     "text": [
      "['Adriano', 'Anna', 'Vanessa', 'João', 'Diego', 'Clarice'] <built-in method copy of list object at 0x11289f140>\n"
     ]
    }
   ],
   "source": [
    "nomes_selecionados = lista_de_nomes.copy\n",
    "print(lista_de_nomes, nomes_selecionados)"
   ]
  },
  {
   "cell_type": "markdown",
   "metadata": {},
   "source": [
    "## Tuplas"
   ]
  },
  {
   "cell_type": "code",
   "execution_count": null,
   "metadata": {},
   "outputs": [
    {
     "name": "stdout",
     "output_type": "stream",
     "text": [
      "('Bruno', 33, 12345)\n"
     ]
    },
    {
     "data": {
      "text/plain": [
       "tuple"
      ]
     },
     "metadata": {},
     "output_type": "display_data"
    }
   ],
   "source": [
    "cadastro = \"Bruno\", 33, 12345\n",
    "print(cadastro)\n",
    "type(cadastro)"
   ]
  },
  {
   "cell_type": "code",
   "execution_count": null,
   "metadata": {},
   "outputs": [
    {
     "name": "stdout",
     "output_type": "stream",
     "text": [
      "('Maria', 23, 67890)\n"
     ]
    },
    {
     "data": {
      "text/plain": [
       "tuple"
      ]
     },
     "metadata": {},
     "output_type": "display_data"
    }
   ],
   "source": [
    "cadastro = (\"Maria\", 23, 67890)\n",
    "print(cadastro)\n",
    "type(cadastro)"
   ]
  },
  {
   "cell_type": "code",
   "execution_count": null,
   "metadata": {},
   "outputs": [
    {
     "name": "stdout",
     "output_type": "stream",
     "text": [
      "Maria\n",
      "23\n",
      "67890\n"
     ]
    }
   ],
   "source": [
    "nome, idade, codigo = cadastro\n",
    "print(nome)\n",
    "cadastro[1]\n",
    "print(codigo)"
   ]
  },
  {
   "cell_type": "code",
   "execution_count": null,
   "metadata": {},
   "outputs": [
    {
     "data": {
      "text/plain": [
       "('Maria', 35, 67890)"
      ]
     },
     "metadata": {},
     "output_type": "display_data"
    }
   ],
   "source": [
    "cadastro = cadastro[0], 35, cadastro[2]\n",
    "cadastro"
   ]
  },
  {
   "cell_type": "code",
   "execution_count": null,
   "metadata": {},
   "outputs": [
    {
     "name": "stdout",
     "output_type": "stream",
     "text": [
      "('João', 23, 24680, 'SP') 4\n"
     ]
    }
   ],
   "source": [
    "cadastro = (\"João\", 23, 24680, 'SP')\n",
    "print(cadastro, len(cadastro))"
   ]
  },
  {
   "cell_type": "code",
   "execution_count": null,
   "metadata": {},
   "outputs": [
    {
     "data": {
      "text/plain": [
       "('João', 23)"
      ]
     },
     "metadata": {},
     "output_type": "display_data"
    }
   ],
   "source": [
    "nome, idade, _, _ = cadastro\n",
    "nome, idade"
   ]
  },
  {
   "cell_type": "code",
   "execution_count": null,
   "metadata": {},
   "outputs": [
    {
     "name": "stdout",
     "output_type": "stream",
     "text": [
      "João 23 [24680, 'SP']\n"
     ]
    },
    {
     "data": {
      "text/plain": [
       "2"
      ]
     },
     "metadata": {},
     "output_type": "display_data"
    }
   ],
   "source": [
    "nome, idade, *restante = cadastro\n",
    "print(nome, idade, restante)\n",
    "len(restante)"
   ]
  },
  {
   "cell_type": "code",
   "execution_count": null,
   "metadata": {},
   "outputs": [
    {
     "name": "stdout",
     "output_type": "stream",
     "text": [
      "('Maria', 23, 67890, 'SP', [])\n"
     ]
    }
   ],
   "source": [
    "cadastro = (\"Maria\", 23, 67890, 'SP', [])\n",
    "print(cadastro)"
   ]
  },
  {
   "cell_type": "code",
   "execution_count": null,
   "metadata": {},
   "outputs": [
    {
     "name": "stdout",
     "output_type": "stream",
     "text": [
      "('Maria', 23, 67890, 'SP', [datetime.datetime(2023, 9, 13, 5, 44, 10, 650921), datetime.datetime(2023, 9, 13, 5, 44, 37, 652028)])\n"
     ]
    }
   ],
   "source": [
    "from datetime import datetime\n",
    "cadastro[-1].append(datetime.today())\n",
    "print(cadastro)"
   ]
  },
  {
   "cell_type": "code",
   "execution_count": null,
   "metadata": {},
   "outputs": [],
   "source": []
  },
  {
   "cell_type": "markdown",
   "metadata": {},
   "source": [
    "## Laço For"
   ]
  },
  {
   "cell_type": "code",
   "execution_count": null,
   "metadata": {},
   "outputs": [
    {
     "name": "stdout",
     "output_type": "stream",
     "text": [
      "['Ana', 'Bruno', 'JOSE', 'MARIA', 'zEcA']\n"
     ]
    }
   ],
   "source": [
    "nomes = ['Ana', 'Bruno', 'JOSE', 'MARIA', 'zEcA']\n",
    "print(nomes)"
   ]
  },
  {
   "cell_type": "code",
   "execution_count": null,
   "metadata": {},
   "outputs": [
    {
     "name": "stdout",
     "output_type": "stream",
     "text": [
      "ana\n",
      "bruno\n",
      "jose\n",
      "maria\n",
      "zeca\n"
     ]
    }
   ],
   "source": [
    "for nome in nomes:\n",
    "    print(nome.lower())"
   ]
  },
  {
   "cell_type": "code",
   "execution_count": null,
   "metadata": {},
   "outputs": [
    {
     "data": {
      "text/plain": [
       "[1, 2, 3, 4, 5, 6, 7, 8, 9, 10]"
      ]
     },
     "metadata": {},
     "output_type": "display_data"
    }
   ],
   "source": [
    "list(range(1, 11))"
   ]
  },
  {
   "cell_type": "code",
   "execution_count": null,
   "metadata": {},
   "outputs": [
    {
     "name": "stdout",
     "output_type": "stream",
     "text": [
      "1\n",
      "4\n",
      "9\n",
      "16\n",
      "25\n",
      "36\n",
      "49\n",
      "64\n",
      "81\n",
      "100\n"
     ]
    }
   ],
   "source": [
    "for num in range(1,11):\n",
    "    print(num ** 2)"
   ]
  },
  {
   "cell_type": "code",
   "execution_count": null,
   "metadata": {},
   "outputs": [
    {
     "data": {
      "text/plain": [
       "<zip at 0x105435780>"
      ]
     },
     "metadata": {},
     "output_type": "display_data"
    }
   ],
   "source": [
    "nomes = ['bruno', 'jose']\n",
    "idades = [40,55]\n",
    "\n",
    "lista_de_tuplas = zip(nomes, idades)\n",
    "lista_de_tuplas"
   ]
  },
  {
   "cell_type": "code",
   "execution_count": null,
   "metadata": {},
   "outputs": [
    {
     "data": {
      "text/plain": [
       "[('bruno', 40), ('jose', 55)]"
      ]
     },
     "metadata": {},
     "output_type": "display_data"
    }
   ],
   "source": [
    "list(lista_de_tuplas)"
   ]
  },
  {
   "cell_type": "code",
   "execution_count": null,
   "metadata": {},
   "outputs": [
    {
     "name": "stdout",
     "output_type": "stream",
     "text": [
      "bruno tem 40 anos\n",
      "jose tem 55 anos\n",
      "maria tem 44 anos\n",
      "clarice tem 31 anos\n",
      "Ptolomeu tem 77 anos\n"
     ]
    }
   ],
   "source": [
    "nomes = ['bruno', 'jose', 'maria', 'clarice', 'Ptolomeu']\n",
    "idades = [40, 55, 44, 31, 77]\n",
    "\n",
    "lista_de_tuplas = zip(nomes, idades)\n",
    "\n",
    "for nome, idade in lista_de_tuplas:\n",
    "    print(f'{nome} tem {idade} anos')"
   ]
  },
  {
   "cell_type": "code",
   "execution_count": null,
   "metadata": {},
   "outputs": [
    {
     "name": "stdout",
     "output_type": "stream",
     "text": [
      "Indice: 1 contém idade maior que 50.\n",
      "Indice: 4 contém idade maior que 50.\n"
     ]
    }
   ],
   "source": [
    "for indice, idade in enumerate(idades):\n",
    "    if idade > 50:\n",
    "        print(f'Indice: {indice} contém idade maior que 50.')"
   ]
  },
  {
   "cell_type": "markdown",
   "metadata": {},
   "source": [
    "## List Comprehension"
   ]
  },
  {
   "cell_type": "code",
   "execution_count": null,
   "metadata": {},
   "outputs": [
    {
     "data": {
      "text/plain": [
       "['bruno', 'jose', 'maria', 'clarice', 'Ptolomeu']"
      ]
     },
     "metadata": {},
     "output_type": "display_data"
    }
   ],
   "source": [
    "nomes"
   ]
  },
  {
   "cell_type": "code",
   "execution_count": null,
   "metadata": {},
   "outputs": [
    {
     "name": "stdout",
     "output_type": "stream",
     "text": [
      "['bruno', 'jose', 'maria']\n"
     ]
    }
   ],
   "source": [
    "nomes_com_ate_5_chars = [nome for nome in nomes if len(nome) <= 5]\n",
    "print(nomes_com_ate_5_chars)"
   ]
  },
  {
   "cell_type": "code",
   "execution_count": null,
   "metadata": {},
   "outputs": [
    {
     "name": "stdout",
     "output_type": "stream",
     "text": [
      "['bruno', 'jose', 'maria']\n"
     ]
    }
   ],
   "source": [
    "nomes_com_ate_5_chars =[]\n",
    "\n",
    "for nome in nomes:\n",
    "    if len(nome) <= 5:\n",
    "        nomes_com_ate_5_chars.append(nome)\n",
    "        \n",
    "print(nomes_com_ate_5_chars)"
   ]
  },
  {
   "cell_type": "code",
   "execution_count": null,
   "metadata": {},
   "outputs": [
    {
     "data": {
      "text/plain": [
       "['BRUNO', 'JOSE', 'MARIA', 'CLARICE', 'PTOLOMEU']"
      ]
     },
     "metadata": {},
     "output_type": "display_data"
    }
   ],
   "source": [
    "[nome.upper() for nome in nomes]"
   ]
  },
  {
   "cell_type": "markdown",
   "metadata": {},
   "source": [
    "## Laço While"
   ]
  },
  {
   "cell_type": "code",
   "execution_count": null,
   "metadata": {},
   "outputs": [
    {
     "name": "stdout",
     "output_type": "stream",
     "text": [
      "Inicio\n",
      "Soma = 5\n",
      "Soma = 10\n",
      "Soma = 15\n",
      "Soma = 20\n",
      "Soma = 25\n",
      "Soma = 30\n",
      "Soma = 35\n",
      "Soma = 40\n",
      "Soma = 45\n",
      "Soma = 50\n",
      "Soma = 55\n",
      "Soma = 60\n",
      "Soma = 65\n",
      "Soma = 70\n",
      "Soma = 75\n",
      "Soma = 80\n",
      "Soma = 85\n",
      "Soma = 90\n",
      "Soma = 95\n",
      "Soma = 100\n",
      "Fim\n"
     ]
    }
   ],
   "source": [
    "print('Inicio')\n",
    "\n",
    "soma = 0\n",
    "\n",
    "contagem = 0 \n",
    "\n",
    "max_repeticoes = 1000\n",
    "\n",
    "while soma < 100:\n",
    "    soma += 5\n",
    "    print(f'Soma = {soma}')\n",
    "\n",
    "    contagem += 1\n",
    "    if contagem > max_repeticoes:\n",
    "        print(f'Maximo de interações {max_repeticoes} foi atingido.')\n",
    "        print(f'soma é igual a {soma}')\n",
    "        break\n",
    "        \n",
    "print('Fim')"
   ]
  },
  {
   "cell_type": "code",
   "execution_count": null,
   "metadata": {},
   "outputs": [
    {
     "ename": "IndentationError",
     "evalue": "expected an indented block after 'try' statement on line 2 (1860307631.py, line 5)",
     "output_type": "error",
     "traceback": [
      "\u001b[0;36m  Cell \u001b[0;32mIn[7], line 5\u001b[0;36m\u001b[0m\n",
      "\u001b[0;31m    except:\u001b[0m\n",
      "\u001b[0m    ^\u001b[0m\n",
      "\u001b[0;31mIndentationError\u001b[0m\u001b[0;31m:\u001b[0m expected an indented block after 'try' statement on line 2\n"
     ]
    }
   ],
   "source": [
    "while condicao:\n",
    "    try:\n",
    "        # codigo\n",
    "        # break\n",
    "    except:\n",
    "        # retornou erro\n",
    "        # conta repeticoes para quebrar a condicao"
   ]
  },
  {
   "cell_type": "markdown",
   "metadata": {},
   "source": [
    "## Atividade"
   ]
  },
  {
   "cell_type": "markdown",
   "metadata": {},
   "source": [
    "### Faça uma função que, dada uma string, retorne a letra mais comum nessa string (em caso de empate, retorne qualquer uma das mais frequentes).\n",
    "\n",
    "* Ideia: usar um dicionário para contar cada letra.\n",
    "\n",
    "* A letra é a chave do dicionário, e o valor será quantas vezes a letra foi encontrada."
   ]
  },
  {
   "cell_type": "code",
   "execution_count": null,
   "metadata": {},
   "outputs": [
    {
     "name": "stdout",
     "output_type": "stream",
     "text": [
      "Letra(s) mais frequente(s): z\n"
     ]
    }
   ],
   "source": [
    "text = str(input(\"Escreva uma palavra para vermos quais letras são mais frequentes: \"))\n",
    "\n",
    "alphabet = {'a':0, 'b':0, 'c':0, 'd':0, 'e':0, 'f':0,\n",
    "            'g':0, 'h':0, 'i':0, 'j':0, 'k':0, 'l':0, \n",
    "            'm':0, 'n':0, 'o':0, 'p':0, 'q':0, 'r':0,\n",
    "            's':0, 't':0, 'u':0, 'v':0, 'w':0, 'x':0, \n",
    "            'y':0, 'z':0}\n",
    "\n",
    "for i in text.lower():\n",
    "    alphabet[i] += 1\n",
    "       \n",
    "max_frequency = max(alphabet.values())\n",
    "most_frequent_letters = [letter for letter, frequency in alphabet.items() if frequency == max_frequency]\n",
    "\n",
    "print(\"Letra(s) mais frequente(s):\", \", \".join(most_frequent_letters))"
   ]
  },
  {
   "cell_type": "code",
   "execution_count": null,
   "metadata": {},
   "outputs": [
    {
     "name": "stdout",
     "output_type": "stream",
     "text": [
      "Letra mais frequente: z\n"
     ]
    }
   ],
   "source": [
    "def letra_mais_comum(text):\n",
    "    alphabet = {'a': 0, 'b': 0, 'c': 0, 'd': 0, 'e': 0, 'f': 0,\n",
    "                'g': 0, 'h': 0, 'i': 0, 'j': 0, 'k': 0, 'l': 0,\n",
    "                'm': 0, 'n': 0, 'o': 0, 'p': 0, 'q': 0, 'r': 0,\n",
    "                's': 0, 't': 0, 'u': 0, 'v': 0, 'w': 0, 'x': 0,\n",
    "                'y': 0, 'z': 0}\n",
    "\n",
    "    for char in text.lower():\n",
    "        if char in alphabet:\n",
    "            alphabet[char] += 1\n",
    "\n",
    "    max_frequency = max(alphabet.values())\n",
    "    most_frequent_letters = [letter for letter, frequency in alphabet.items() if frequency == max_frequency]\n",
    "\n",
    "    return most_frequent_letters[0]  # Retorna qualquer uma das letras mais frequentes em caso de empate\n",
    "\n",
    "# Exemplo de uso:\n",
    "text = str(input(\"Escreva uma palavra para vermos quais letras são mais frequentes: \"))\n",
    "letra_mais_frequente = letra_mais_comum(texto)\n",
    "print(\"Letra mais frequente:\", letra_mais_frequente)\n"
   ]
  },
  {
   "cell_type": "markdown",
   "metadata": {},
   "source": [
    "## Master Class"
   ]
  },
  {
   "cell_type": "markdown",
   "metadata": {},
   "source": [
    "### Renata Biagg 2"
   ]
  },
  {
   "cell_type": "markdown",
   "metadata": {},
   "source": [
    "#### Lista"
   ]
  },
  {
   "cell_type": "code",
   "execution_count": null,
   "metadata": {},
   "outputs": [],
   "source": [
    "lista_mercado = [\"ovo\", \"farinha\", \"leite\", \"maças\"]\n",
    "lista_mercado"
   ]
  },
  {
   "cell_type": "code",
   "execution_count": null,
   "metadata": {},
   "outputs": [],
   "source": [
    "lista3 = [\"ovos\", 2.1, 3, True]\n",
    "lista3"
   ]
  },
  {
   "cell_type": "code",
   "execution_count": null,
   "metadata": {},
   "outputs": [],
   "source": [
    "lista_mercado [1:3]"
   ]
  },
  {
   "cell_type": "code",
   "execution_count": null,
   "metadata": {},
   "outputs": [],
   "source": [
    "item1 = lista_mercado[0]\n",
    "item1"
   ]
  },
  {
   "cell_type": "code",
   "execution_count": null,
   "metadata": {},
   "outputs": [],
   "source": [
    "item1 = lista_mercado[0]\n",
    "item2 = lista_mercado[1]\n",
    "item3 = lista_mercado[2]\n",
    "print(item1, item2, item3)"
   ]
  },
  {
   "cell_type": "code",
   "execution_count": null,
   "metadata": {},
   "outputs": [],
   "source": [
    "lista_mercado[0] = \"Chocolate\"\n",
    "lista_mercado"
   ]
  },
  {
   "cell_type": "code",
   "execution_count": null,
   "metadata": {},
   "outputs": [],
   "source": [
    "del lista_mercado [0]\n",
    "lista_mercado"
   ]
  },
  {
   "cell_type": "code",
   "execution_count": null,
   "metadata": {},
   "outputs": [],
   "source": [
    "lista_a = [[1, 2, 3], [4, 5, 6], 8]\n",
    "lista_a"
   ]
  },
  {
   "cell_type": "code",
   "execution_count": null,
   "metadata": {},
   "outputs": [],
   "source": [
    "print(lista_a[1])\n",
    "print(lista_a[1][2])"
   ]
  },
  {
   "cell_type": "code",
   "execution_count": null,
   "metadata": {},
   "outputs": [],
   "source": [
    "lista_numeros_1 = [1, 2, 3]\n",
    "lista_numeros_2 = [4, 5, 6]\n",
    "print(lista_numeros_1 + lista_numeros_2)"
   ]
  },
  {
   "cell_type": "code",
   "execution_count": null,
   "metadata": {},
   "outputs": [],
   "source": [
    "lista_numeros_1[0] = lista_numeros_1[0] + 10\n",
    "lista_numeros_1"
   ]
  },
  {
   "cell_type": "code",
   "execution_count": null,
   "metadata": {},
   "outputs": [],
   "source": [
    "10 in lista_numeros_1"
   ]
  },
  {
   "cell_type": "code",
   "execution_count": null,
   "metadata": {},
   "outputs": [],
   "source": [
    "11 in lista_numeros_1"
   ]
  },
  {
   "cell_type": "code",
   "execution_count": null,
   "metadata": {},
   "outputs": [],
   "source": [
    "len(lista_numeros_1)"
   ]
  },
  {
   "cell_type": "code",
   "execution_count": null,
   "metadata": {},
   "outputs": [],
   "source": [
    "min(lista_numeros_1)"
   ]
  },
  {
   "cell_type": "code",
   "execution_count": null,
   "metadata": {},
   "outputs": [],
   "source": [
    "max(lista_numeros_1)"
   ]
  },
  {
   "cell_type": "code",
   "execution_count": null,
   "metadata": {},
   "outputs": [],
   "source": [
    "lista_mercado.append(\"Chocolate\")\n",
    "lista_mercado"
   ]
  },
  {
   "cell_type": "code",
   "execution_count": null,
   "metadata": {},
   "outputs": [],
   "source": [
    "for i in lista_mercado:\n",
    "    print(i)"
   ]
  },
  {
   "cell_type": "code",
   "execution_count": null,
   "metadata": {},
   "outputs": [],
   "source": [
    "nome = \"Renata\"\n",
    "for i in nome:\n",
    "    print(i)"
   ]
  },
  {
   "cell_type": "code",
   "execution_count": null,
   "metadata": {},
   "outputs": [],
   "source": [
    "print(lista_numeros_1)\n",
    "for i in lista_numeros_1:\n",
    "    a = i + 1\n",
    "    print(a)"
   ]
  },
  {
   "cell_type": "code",
   "execution_count": null,
   "metadata": {},
   "outputs": [],
   "source": [
    "new_lista = []\n",
    "old_lista = [1, 2, 5, 10]\n",
    "for item in old_lista:\n",
    "    new_lista.append(item)\n",
    "    print(new_lista)\n"
   ]
  },
  {
   "cell_type": "code",
   "execution_count": null,
   "metadata": {},
   "outputs": [],
   "source": [
    "new_lista.extend([6, 7])\n",
    "new_lista"
   ]
  },
  {
   "cell_type": "code",
   "execution_count": null,
   "metadata": {},
   "outputs": [],
   "source": [
    "cidades = ['Recife', 'Manaus', 'Salvador']\n",
    "print(cidades)\n",
    "\n",
    "cidades.extend(['Fortaleza', 'Palmas'])\n",
    "print(cidades)\n",
    "\n",
    "cidades.insert(2, 110)\n",
    "print(cidades)\n",
    "\n",
    "cidades.remove(110)\n",
    "print(cidades)\n",
    "\n",
    "cidades.count(\"Recife\")"
   ]
  },
  {
   "cell_type": "code",
   "execution_count": null,
   "metadata": {},
   "outputs": [],
   "source": [
    "c = cidades.copy()\n",
    "c"
   ]
  },
  {
   "cell_type": "code",
   "execution_count": null,
   "metadata": {},
   "outputs": [],
   "source": [
    "import pandas as pd\n",
    "\n",
    "df = pd.DataFrame({'item' : [\"Banana\", \"Pao\", \"Leite\", \"Chocolate\"],\n",
    "    'preco_real' : [5.2, 2, 5, 3.5]})\n",
    "df"
   ]
  },
  {
   "cell_type": "code",
   "execution_count": null,
   "metadata": {},
   "outputs": [],
   "source": [
    "conversao = [5.3, 0.034, 5.1]\n",
    "\n",
    "for item in conversao:\n",
    "    preco_convertido = df[\"preco_real\"]*item\n",
    "    print(preco_convertido)"
   ]
  },
  {
   "cell_type": "markdown",
   "metadata": {},
   "source": [
    "#### Dicionário"
   ]
  },
  {
   "cell_type": "code",
   "execution_count": null,
   "metadata": {},
   "outputs": [],
   "source": [
    "dict1 = {\"chave1\": \"a\", 2: 2.3}\n",
    "dict1[2]"
   ]
  },
  {
   "cell_type": "code",
   "execution_count": null,
   "metadata": {},
   "outputs": [],
   "source": [
    "estudantes_dict = {\"Mateus\" : 24, \"Fernanda\" : 22, \"Tamires\" : 26, \"Cristiano\" : 25}\n",
    "print(estudantes_dict)\n",
    "len(estudantes_dict)"
   ]
  },
  {
   "cell_type": "code",
   "execution_count": null,
   "metadata": {},
   "outputs": [],
   "source": [
    "estudantes_dict[\"Mateus\"]"
   ]
  },
  {
   "cell_type": "code",
   "execution_count": null,
   "metadata": {},
   "outputs": [],
   "source": [
    "print(estudantes_dict.keys())\n",
    "print(estudantes_dict.values())"
   ]
  },
  {
   "cell_type": "code",
   "execution_count": null,
   "metadata": {},
   "outputs": [],
   "source": [
    "estudantes_dict[\"Pedro\"] = 23\n",
    "estudantes_dict"
   ]
  },
  {
   "cell_type": "code",
   "execution_count": null,
   "metadata": {},
   "outputs": [],
   "source": [
    "dict1[\"key1\"] = 1\n",
    "dict1"
   ]
  },
  {
   "cell_type": "code",
   "execution_count": null,
   "metadata": {},
   "outputs": [],
   "source": [
    "dict1[\"key2\"] = [1, 2, 3]\n",
    "dict1"
   ]
  },
  {
   "cell_type": "markdown",
   "metadata": {},
   "source": [
    "# Semana 3 - Condicionais"
   ]
  },
  {
   "cell_type": "markdown",
   "metadata": {},
   "source": [
    "## Atividade"
   ]
  },
  {
   "cell_type": "markdown",
   "metadata": {},
   "source": [
    "### Exercícios Condicionais\n",
    "\n",
    "1. Faça um programa que peça dois números e imprima o maior deles.\n",
    "2. Faça um script que peça um valor e mostre na tela se o valor é positivo ou negativo.\n",
    "3. Crie um programa que verifique se uma letra digitada é \"F\" ou \"M\". Conforme a letra escrever: F - Feminino, M - Masculino, Sexo Inválido.\n",
    "4. Crie um código em linguagem Python que peça o nome do usuário por meio da função input (). Se o nome for \"Ultima\", imprima \"Bem-vindo, você é um(a) exclenete aluno(a)\". Caso contrário, imprima \"Bom dia, NOME\". (Substitua o NOME pelo nome do usuário).\n",
    "5. Escrever um programa em Python para ler um número inteiro e informar se ele é divisível por 5.\n",
    "6. Escreva um programa Python para verificar se uma letra do Alfabeto(Abecedário) é uma vogal ou consoante.\n"
   ]
  },
  {
   "cell_type": "markdown",
   "metadata": {},
   "source": [
    "#### 1. Faça um programa que peça dois números e imprima o maior deles."
   ]
  },
  {
   "cell_type": "code",
   "execution_count": null,
   "metadata": {},
   "outputs": [
    {
     "name": "stdout",
     "output_type": "stream",
     "text": [
      "6 é o maior número\n"
     ]
    }
   ],
   "source": [
    "# Exercício 1\n",
    "# Faça um programa que peça dois números\n",
    "# e imprima o maior deles.\n",
    "num1 = input('Insira o primeiro número: ')\n",
    "num2 = input('Insira o segundo número: ')\n",
    "max_num = 0\n",
    "\n",
    "if num1 < num2:\n",
    "    max_num = num2\n",
    "else:\n",
    "    max_num = num1\n",
    "\n",
    "print(f'{max_num} é o maior número')"
   ]
  },
  {
   "cell_type": "markdown",
   "metadata": {},
   "source": [
    "#### 2. Faça um script que peça um valor e mostre na tela se o valor é positivo ou negativo."
   ]
  },
  {
   "cell_type": "code",
   "execution_count": null,
   "metadata": {},
   "outputs": [
    {
     "name": "stdout",
     "output_type": "stream",
     "text": [
      "O valor -6.0 é negativo\n"
     ]
    }
   ],
   "source": [
    "# Exercício 2\n",
    "# Faça um script que peça um valor e mostre na tela\n",
    "# se o valor é positivo ou negativo.\n",
    "valor = float(input('Insira um valor qualquer: '))\n",
    "\n",
    "if valor >= 0:\n",
    "    print(f'O valor {valor} é positivo')\n",
    "else:\n",
    "    print(f'O valor {valor} é negativo')"
   ]
  },
  {
   "cell_type": "markdown",
   "metadata": {},
   "source": [
    "#### 3. Crie um programa que verifique se uma letra digitada é \"F\" ou \"M\". Conforme a letra escrever: F - Feminino, M - Masculino, Sexo Inválido."
   ]
  },
  {
   "cell_type": "code",
   "execution_count": null,
   "metadata": {},
   "outputs": [
    {
     "name": "stdout",
     "output_type": "stream",
     "text": [
      "Sexo Inválido\n"
     ]
    }
   ],
   "source": [
    "# Exercício 3\n",
    "# Crie um programa que verifique se uma letra\n",
    "# digitada é \"F\" ou \"M\". Conforme a letra escrever:\n",
    "# F - Feminino, M - Masculino, Sexo Inválido.\n",
    "sexo = input('insira seu sexo: (F - Feminino e M - Masculino)').upper()\n",
    "\n",
    "if sexo == \"M\":\n",
    "    sexo_completo = (f'{sexo} - Masculino')\n",
    "elif sexo == \"F\":\n",
    "    sexo_completo = (f'{sexo} - Feminino')\n",
    "\n",
    "if sexo == \"M\":\n",
    "    print(f'você selecionou {sexo_completo}')\n",
    "elif sexo == \"F\":\n",
    "    print(f'você selecionou {sexo_completo}')\n",
    "else:\n",
    "    print(f'Sexo Inválido')\n"
   ]
  },
  {
   "cell_type": "markdown",
   "metadata": {},
   "source": [
    "#### 4. Crie um código em linguagem Python que peça o nome do usuário por meio da função input (). Se o nome for \"Ultima\", imprima \"Bem-vindo, você é um(a) exclenete aluno(a)\". Caso contrário, imprima \"Bom dia, NOME\". (Substitua o NOME pelo nome do usuário)."
   ]
  },
  {
   "cell_type": "code",
   "execution_count": null,
   "metadata": {},
   "outputs": [
    {
     "name": "stdout",
     "output_type": "stream",
     "text": [
      "Bom dia, Lucas\n"
     ]
    }
   ],
   "source": [
    "# Exercício 4\n",
    "# Crie um código em linguagem Python que peça\n",
    "# o nome do usuário por meio da função input ().\n",
    "# Se o nome for \"Ultima\", imprima:\n",
    "# \"Bem-vindo, você é um(a) exclenete aluno(a)\".\n",
    "# Caso contrário, imprima \"Bom dia, NOME\".\n",
    "# (Substitua o NOME pelo nome do usuário).\n",
    "\n",
    "nome = input(str('Insira seu nome: ')).lower()\n",
    "\n",
    "if nome == \"ultima\":\n",
    "    print('Bem-vindo(a), você é um(a) exclenete aluno(a)')\n",
    "else:\n",
    "    print(f'Bom dia, {nome.capitalize()}')"
   ]
  },
  {
   "cell_type": "markdown",
   "metadata": {},
   "source": [
    "#### 5. Escrever um programa em Python para ler um número inteiro e informar se ele é divisível por 5."
   ]
  },
  {
   "cell_type": "code",
   "execution_count": null,
   "metadata": {},
   "outputs": [
    {
     "name": "stdout",
     "output_type": "stream",
     "text": [
      "O número 555 é divisível por 5\n"
     ]
    }
   ],
   "source": [
    "# Exercício 5\n",
    "# Escrever um programa em Python para ler um número inteiro\n",
    "# e informar se ele é divisível por 5.\n",
    "\n",
    "num3 = int(input('Insira um valor qualquer: '))\n",
    "\n",
    "if num3 % 5 == 0:\n",
    "    print(f'O número {num3} é divisível por 5')\n",
    "else:\n",
    "    print(f'O número {num3} NÂO é divisível por 5')"
   ]
  },
  {
   "cell_type": "markdown",
   "metadata": {},
   "source": [
    "#### 6. Escreva um programa Python para verificar se uma letra do Alfabeto(Abecedário) é uma vogal ou consoante."
   ]
  },
  {
   "cell_type": "code",
   "execution_count": null,
   "metadata": {},
   "outputs": [
    {
     "name": "stdout",
     "output_type": "stream",
     "text": [
      "Por favor, insira apenas uma letra do alfabeto.\n"
     ]
    }
   ],
   "source": [
    "# Exercício 6\n",
    "# Escreva um programa Python para verificar\n",
    "# se uma letra do Alfabeto(Abecedário) é uma vogal\n",
    "# ou consoante.\n",
    "\n",
    "letra = str(input(\"Escreva uma letra: \")).lower()\n",
    "\n",
    "if letra.isalpha() and len(letra) == 1:\n",
    "    if letra in 'aeiouy':\n",
    "        print(f'{letra} é uma vogal')\n",
    "    else:\n",
    "        print(f'{letra} é uma consoante')\n",
    "else:\n",
    "    print('Por favor, insira apenas uma letra do alfabeto.')"
   ]
  },
  {
   "cell_type": "markdown",
   "metadata": {},
   "source": [
    "## Exercícios"
   ]
  },
  {
   "cell_type": "markdown",
   "metadata": {},
   "source": [
    "## Master Class"
   ]
  },
  {
   "cell_type": "markdown",
   "metadata": {},
   "source": [
    "### Sara Malvar 1"
   ]
  },
  {
   "cell_type": "code",
   "execution_count": null,
   "metadata": {},
   "outputs": [],
   "source": [
    "nota = 80\n",
    "\n",
    "if nota >= 65:\n",
    "    print('voce passou!')"
   ]
  },
  {
   "cell_type": "code",
   "execution_count": null,
   "metadata": {},
   "outputs": [],
   "source": [
    "num = 3\n",
    "\n",
    "if (num > 0):\n",
    "    print(num, ' é um número positivo')\n",
    "else:\n",
    "    print(\"esse é um número negativo\")"
   ]
  },
  {
   "cell_type": "code",
   "execution_count": null,
   "metadata": {},
   "outputs": [],
   "source": [
    "num1, num2 = 6, 9\n",
    "\n",
    "if (num1 < num2):\n",
    "    print('número 1 é menor que o número 2')\n",
    "else:\n",
    "    print('número 2 é menor que o número 1')"
   ]
  },
  {
   "cell_type": "markdown",
   "metadata": {},
   "source": [
    "### Sara Malvar 2"
   ]
  },
  {
   "cell_type": "markdown",
   "metadata": {},
   "source": [
    "# Semana 4 - Estruturas de Repetições: Loops"
   ]
  },
  {
   "cell_type": "markdown",
   "metadata": {},
   "source": [
    "## Loop"
   ]
  },
  {
   "cell_type": "markdown",
   "metadata": {},
   "source": [
    "## FOR"
   ]
  },
  {
   "cell_type": "code",
   "execution_count": null,
   "metadata": {},
   "outputs": [
    {
     "name": "stdout",
     "output_type": "stream",
     "text": [
      "1\n",
      "2\n",
      "3\n",
      "4\n",
      "5\n"
     ]
    }
   ],
   "source": [
    "numeros = [1, 2, 3, 4, 5]\n",
    "for num in numeros:\n",
    "    print(num)"
   ]
  },
  {
   "cell_type": "markdown",
   "metadata": {},
   "source": [
    "## While"
   ]
  },
  {
   "cell_type": "code",
   "execution_count": null,
   "metadata": {},
   "outputs": [],
   "source": [
    "contador = 1\n",
    "while contador +="
   ]
  },
  {
   "cell_type": "markdown",
   "metadata": {},
   "source": [
    "## Controle de Loop: Break e Continue"
   ]
  },
  {
   "cell_type": "code",
   "execution_count": null,
   "metadata": {},
   "outputs": [
    {
     "name": "stdout",
     "output_type": "stream",
     "text": [
      "1\n",
      "2\n"
     ]
    }
   ],
   "source": [
    "for i in range (1, 6):\n",
    "    if i == 3:\n",
    "        break\n",
    "    print(i)"
   ]
  },
  {
   "cell_type": "code",
   "execution_count": null,
   "metadata": {},
   "outputs": [
    {
     "name": "stdout",
     "output_type": "stream",
     "text": [
      "1\n",
      "2\n",
      "4\n",
      "5\n"
     ]
    }
   ],
   "source": [
    "for i in range (1, 6):\n",
    "    if i == 3:\n",
    "        continue\n",
    "    print(i)"
   ]
  },
  {
   "cell_type": "markdown",
   "metadata": {},
   "source": [
    "## Loop(Loop)"
   ]
  },
  {
   "cell_type": "code",
   "execution_count": null,
   "metadata": {},
   "outputs": [
    {
     "name": "stdout",
     "output_type": "stream",
     "text": [
      "1 5\n",
      "2 6\n"
     ]
    }
   ],
   "source": [
    "for i,j in zip(range (1, 6), range(5, 11)):\n",
    "    if (i == 3) | (j == 8):\n",
    "        break\n",
    "    print(i, j)"
   ]
  },
  {
   "cell_type": "code",
   "execution_count": null,
   "metadata": {},
   "outputs": [
    {
     "name": "stdout",
     "output_type": "stream",
     "text": [
      "1 5\n",
      "2 6\n",
      "5 9\n"
     ]
    }
   ],
   "source": [
    "for i,j in zip(range (1, 6), range(5, 11)):\n",
    "    if (i == 3) | (j == 8):\n",
    "        continue\n",
    "    print(i, j)"
   ]
  },
  {
   "cell_type": "markdown",
   "metadata": {},
   "source": [
    "## Exercícios\n",
    "1. Escreva um loop \"for\" para imprimir os números ímpares de 1 a 10.\n",
    "2. Escreva um loop \"while\" para calcular a soma dos números de 1 a 5.\n",
    "3. Use um loop \"for\" e o comando \"break\" para imprimir os numeros de 1 a 5, mas pare o loop quando o número 4 for atingido.\n",
    "4. Use um loop \"for\" e o comando \"continue\" para imprimir os números de 1 a 5, mas pule o número 3."
   ]
  },
  {
   "cell_type": "code",
   "execution_count": null,
   "metadata": {},
   "outputs": [
    {
     "name": "stdout",
     "output_type": "stream",
     "text": [
      "1\n",
      "3\n",
      "5\n",
      "7\n",
      "9\n"
     ]
    }
   ],
   "source": [
    "## Exercício 1\n",
    "for numero in range (1, 11):\n",
    "    if numero % 2 != 0 :\n",
    "        print(numero)"
   ]
  },
  {
   "cell_type": "code",
   "execution_count": null,
   "metadata": {},
   "outputs": [
    {
     "name": "stdout",
     "output_type": "stream",
     "text": [
      "A soma dos números de 1 a 5 é:  15\n"
     ]
    }
   ],
   "source": [
    "## Exercício 2\n",
    "soma = 0\n",
    "contador = 1\n",
    "while contador <= 5:\n",
    "    soma += contador\n",
    "    contador += 1\n",
    "print(\"A soma dos números de 1 a 5 é: \", soma)"
   ]
  },
  {
   "cell_type": "code",
   "execution_count": null,
   "metadata": {},
   "outputs": [
    {
     "name": "stdout",
     "output_type": "stream",
     "text": [
      "1\n",
      "2\n",
      "3\n"
     ]
    }
   ],
   "source": [
    "## Exercício 3\n",
    "for i in range (1, 6):\n",
    "    if i == 4:\n",
    "        break\n",
    "    print(i)"
   ]
  },
  {
   "cell_type": "code",
   "execution_count": null,
   "metadata": {},
   "outputs": [
    {
     "name": "stdout",
     "output_type": "stream",
     "text": [
      "1\n",
      "2\n",
      "4\n",
      "5\n"
     ]
    }
   ],
   "source": [
    "## Exercício 4\n",
    "for i in range (1, 6):\n",
    "    if i == 3:\n",
    "        continue\n",
    "    print(i)"
   ]
  },
  {
   "cell_type": "markdown",
   "metadata": {},
   "source": [
    "## Desafios"
   ]
  },
  {
   "cell_type": "code",
   "execution_count": null,
   "metadata": {},
   "outputs": [
    {
     "name": "stdout",
     "output_type": "stream",
     "text": [
      "Abelardo\n",
      "Aluisio\n",
      "Adelberto\n",
      "Anastacio\n",
      "Ubirajara\n"
     ]
    }
   ],
   "source": [
    "nomes = ['Abelardo', 'Aluisio', 'Adelberto', 'Anastacio', 'Ubirajara']\n",
    "indice = 0\n",
    "while indice < len(nomes):\n",
    "    print(nomes[indice])\n",
    "    indice += 1"
   ]
  },
  {
   "cell_type": "markdown",
   "metadata": {},
   "source": [
    "## Master Class"
   ]
  },
  {
   "cell_type": "markdown",
   "metadata": {},
   "source": [
    "### Sara Malvar"
   ]
  },
  {
   "cell_type": "code",
   "execution_count": null,
   "metadata": {},
   "outputs": [
    {
     "name": "stdout",
     "output_type": "stream",
     "text": [
      "10\n",
      "20\n",
      "30\n",
      "40\n"
     ]
    }
   ],
   "source": [
    "lista = [10, 20, 30, 40]\n",
    "for num in lista:\n",
    "    print(num)"
   ]
  },
  {
   "cell_type": "code",
   "execution_count": null,
   "metadata": {},
   "outputs": [
    {
     "name": "stdout",
     "output_type": "stream",
     "text": [
      "1 2 3 4 5 6 7 8 9 10 \n",
      "2 4 6 8 10 12 14 16 18 20 \n",
      "3 6 9 12 15 18 21 24 27 30 \n",
      "4 8 12 16 20 24 28 32 36 40 \n",
      "5 10 15 20 25 30 35 40 45 50 \n",
      "6 12 18 24 30 36 42 48 54 60 \n",
      "7 14 21 28 35 42 49 56 63 70 \n",
      "8 16 24 32 40 48 56 64 72 80 \n",
      "9 18 27 36 45 54 63 72 81 90 \n",
      "10 20 30 40 50 60 70 80 90 100 \n"
     ]
    }
   ],
   "source": [
    "for i in range(1,11):\n",
    "    for j in  range(1,11):\n",
    "        print(i*j, end=' ')\n",
    "    print()"
   ]
  },
  {
   "cell_type": "code",
   "execution_count": null,
   "metadata": {},
   "outputs": [
    {
     "data": {
      "text/plain": [
       "{'primeiro_nome': 'Ana',\n",
       " 'Sobrenome': 'Silva',\n",
       " 'Idade': 28,\n",
       " 'É_casada': True,\n",
       " 'Skill': ['Python', 'Matlab', 'Data Science']}"
      ]
     },
     "execution_count": 6,
     "metadata": {},
     "output_type": "execute_result"
    }
   ],
   "source": [
    "pessoa = { 'primeiro_nome': 'Ana', 'Sobrenome': 'Silva', 'Idade': 28, 'É_casada': True, 'Skill': ['Python', 'Matlab', 'Data Science']}\n",
    "pessoa"
   ]
  },
  {
   "cell_type": "code",
   "execution_count": null,
   "metadata": {},
   "outputs": [
    {
     "name": "stdout",
     "output_type": "stream",
     "text": [
      "Python\n",
      "Matlab\n",
      "Data Science\n"
     ]
    }
   ],
   "source": [
    "for key in pessoa:\n",
    "    if key == 'Skill':\n",
    "        for skills in pessoa['Skill']:\n",
    "            print(skills)"
   ]
  },
  {
   "cell_type": "code",
   "execution_count": null,
   "metadata": {},
   "outputs": [
    {
     "name": "stdout",
     "output_type": "stream",
     "text": [
      "Taboada de:  1\n",
      "1 2 3 4 5 6 7 8 9 10 \n",
      "\n",
      "Taboada de:  2\n",
      "2 4 6 8 10 12 14 16 18 20 \n",
      "\n",
      "Taboada de:  3\n",
      "3 6 9 12 15 18 21 24 27 30 \n",
      "\n",
      "Taboada de:  4\n",
      "4 8 12 16 20 24 28 32 36 40 \n",
      "\n",
      "Taboada de:  5\n",
      "5 10 15 20 25 30 35 40 45 50 \n",
      "\n",
      "Taboada de:  6\n",
      "6 12 18 24 30 36 42 48 54 60 \n",
      "\n",
      "Taboada de:  7\n",
      "7 14 21 28 35 42 49 56 63 70 \n",
      "\n",
      "Taboada de:  8\n",
      "8 16 24 32 40 48 56 64 72 80 \n",
      "\n",
      "Taboada de:  9\n",
      "9 18 27 36 45 54 63 72 81 90 \n",
      "\n",
      "Taboada de:  10\n",
      "10 20 30 40 50 60 70 80 90 100 \n",
      "\n"
     ]
    }
   ],
   "source": [
    "for i in range(1, 11):\n",
    "    print('Taboada de: ', i)\n",
    "    count = 1\n",
    "    while count < 11:\n",
    "        print(i * count, end = ' ')\n",
    "        count += 1\n",
    "    print('\\n')"
   ]
  },
  {
   "cell_type": "code",
   "execution_count": null,
   "metadata": {},
   "outputs": [
    {
     "name": "stdout",
     "output_type": "stream",
     "text": [
      "Amy Amy Amy Amy Amy \n",
      "\n",
      "Bela Bela Bela Bela Bela \n",
      "\n",
      "Kate Kate Kate Kate Kate \n",
      "\n"
     ]
    }
   ],
   "source": [
    "nomes = ['Amy', 'Bela', 'Kate']\n",
    "\n",
    "for nome in nomes:\n",
    "    count = 0\n",
    "    while count < 5:\n",
    "        print(nome, end = ' ')\n",
    "        count += 1\n",
    "    print('\\n')"
   ]
  },
  {
   "cell_type": "code",
   "execution_count": null,
   "metadata": {},
   "outputs": [
    {
     "name": "stdout",
     "output_type": "stream",
     "text": [
      "[33, 63, 93, 36, 66, 96, 39, 69, 99]\n"
     ]
    }
   ],
   "source": [
    "primeiro = [3, 6, 9]\n",
    "segundo = [30, 60, 90]\n",
    "final = []\n",
    "\n",
    "for i in primeiro:\n",
    "    for j in segundo:\n",
    "        final.append(i + j)\n",
    "print(final)"
   ]
  },
  {
   "cell_type": "code",
   "execution_count": null,
   "metadata": {},
   "outputs": [
    {
     "name": "stdout",
     "output_type": "stream",
     "text": [
      "[33, 63, 93, 36, 66, 96, 39, 69, 99]\n"
     ]
    }
   ],
   "source": [
    "primeira = [3, 6, 9]\n",
    "segunda = [30, 60, 90]\n",
    "final = []\n",
    "\n",
    "final = [i + j for i in primeira for j in segunda]\n",
    "print(final)"
   ]
  },
  {
   "cell_type": "code",
   "execution_count": null,
   "metadata": {},
   "outputs": [
    {
     "name": "stdout",
     "output_type": "stream",
     "text": [
      "[1, 3, 5, 7, 9]\n",
      "[2, 4, 6, 8, 10]\n"
     ]
    }
   ],
   "source": [
    "impar = [1, 3, 5, 7, 9]\n",
    "par = [i + 1 for i in impar if i % 2 == 1]\n",
    "print(impar)\n",
    "print(par)"
   ]
  },
  {
   "cell_type": "code",
   "execution_count": null,
   "metadata": {},
   "outputs": [
    {
     "name": "stdout",
     "output_type": "stream",
     "text": [
      "Numeros [ 0 ] 4\n",
      "Numeros [ 1 ] 2\n",
      "Numeros [ 2 ] 5\n",
      "Numeros [ 3 ] 7\n",
      "Numeros [ 4 ] 8\n"
     ]
    }
   ],
   "source": [
    "numeros = [4, 2, 5, 7, 8]\n",
    "for i, v in enumerate(numeros):\n",
    "    print('Numeros [' , i, ']', v)"
   ]
  },
  {
   "cell_type": "code",
   "execution_count": null,
   "metadata": {},
   "outputs": [
    {
     "name": "stdout",
     "output_type": "stream",
     "text": [
      "Indice: 0   Valor 1\n",
      "Indice: 1   Valor 2\n",
      "Indice: 2   Valor 4\n",
      "Indice: 3   Valor 6\n",
      "Indice: 4   Valor 9\n"
     ]
    }
   ],
   "source": [
    "numeros = [1, 2, 4, 6, 9]\n",
    "tamanho = len(numeros)\n",
    "for i in range(tamanho):\n",
    "    print('Indice:', i, ' ', 'Valor', numeros[i])"
   ]
  },
  {
   "cell_type": "code",
   "execution_count": null,
   "metadata": {},
   "outputs": [
    {
     "name": "stdout",
     "output_type": "stream",
     "text": [
      "P\n",
      "y\n",
      "t\n",
      "h\n",
      "o\n",
      "n\n"
     ]
    }
   ],
   "source": [
    "linguagem = 'Python'\n",
    "for letra in linguagem:\n",
    "    print(letra)"
   ]
  },
  {
   "cell_type": "code",
   "execution_count": null,
   "metadata": {},
   "outputs": [
    {
     "name": "stdout",
     "output_type": "stream",
     "text": [
      "P\n",
      "y\n",
      "t\n",
      "h\n",
      "o\n",
      "n\n"
     ]
    }
   ],
   "source": [
    "linguagem = 'Python'\n",
    "for i in range(len(linguagem)):\n",
    "    print(linguagem[i])"
   ]
  },
  {
   "cell_type": "code",
   "execution_count": null,
   "metadata": {},
   "outputs": [
    {
     "name": "stdout",
     "output_type": "stream",
     "text": [
      "0\n",
      "1\n",
      "3\n",
      "5\n",
      "8\n"
     ]
    }
   ],
   "source": [
    "tupla = (0, 1, 3, 5, 8)\n",
    "for numero in tupla:\n",
    "    print(numero)"
   ]
  },
  {
   "cell_type": "code",
   "execution_count": null,
   "metadata": {},
   "outputs": [
    {
     "name": "stdout",
     "output_type": "stream",
     "text": [
      "60.0\n",
      "20.0\n",
      "6.666666666666667\n",
      "Número total de divisões:  3\n"
     ]
    }
   ],
   "source": [
    "count = 0\n",
    "numero = 180\n",
    "while numero >10:\n",
    "    numero = numero / 3\n",
    "    print(numero)\n",
    "    count = count + 1\n",
    "print('Número total de divisões: ', count)"
   ]
  },
  {
   "cell_type": "code",
   "execution_count": null,
   "metadata": {},
   "outputs": [
    {
     "name": "stdout",
     "output_type": "stream",
     "text": [
      "5  é um número impar\n",
      "4  é um número par\n",
      "3  é um número impar\n",
      "2  é um número par\n",
      "1  é um número impar\n"
     ]
    }
   ],
   "source": [
    "n = int(input('Coloque um número inteiro: '))\n",
    "\n",
    "while n > 0:\n",
    "    if n % 2 == 0:\n",
    "        print(n, ' é um número par')\n",
    "    else:\n",
    "        print(n, ' é um número impar')\n",
    "    n -= 1"
   ]
  },
  {
   "cell_type": "code",
   "execution_count": null,
   "metadata": {},
   "outputs": [
    {
     "name": "stdout",
     "output_type": "stream",
     "text": [
      "0\n",
      "1\n",
      "2\n",
      "3\n",
      "4\n",
      "5 e saí\n"
     ]
    }
   ],
   "source": [
    "count = 0\n",
    "while count < 5:\n",
    "    print(count)\n",
    "    count += 1\n",
    "else:\n",
    "    print(count, 'e saí')"
   ]
  },
  {
   "cell_type": "code",
   "execution_count": null,
   "metadata": {},
   "outputs": [
    {
     "name": "stdout",
     "output_type": "stream",
     "text": [
      "0\n",
      "1\n",
      "2\n"
     ]
    }
   ],
   "source": [
    "count = 0\n",
    "while count < 5:\n",
    "    print(count)\n",
    "    count += 1\n",
    "    if count == 3:\n",
    "        break"
   ]
  },
  {
   "cell_type": "code",
   "execution_count": null,
   "metadata": {},
   "outputs": [
    {
     "name": "stdout",
     "output_type": "stream",
     "text": [
      "10 9 8 7 6 5 4 3 2 1 0 "
     ]
    }
   ],
   "source": [
    "i = 10\n",
    "while i >= 0:\n",
    "    print(i, end = ' ')\n",
    "    i -= 1"
   ]
  },
  {
   "cell_type": "code",
   "execution_count": null,
   "metadata": {},
   "outputs": [
    {
     "name": "stdout",
     "output_type": "stream",
     "text": [
      "1 2 3 4 5 6 7 8 9 10 \n",
      "1 2 3 4 5 6 7 8 9 10 \n",
      "1 2 3 4 5 6 7 8 9 10 \n",
      "1 2 3 4 5 6 7 8 9 10 \n",
      "1 2 3 4 5 6 7 8 9 10 \n"
     ]
    }
   ],
   "source": [
    "i = 1\n",
    "while i <= 5:\n",
    "    j = 1\n",
    "    while j <= 10:\n",
    "        print(j, end = ' ')\n",
    "        j += 1\n",
    "    i += 1\n",
    "    print()"
   ]
  },
  {
   "cell_type": "code",
   "execution_count": null,
   "metadata": {},
   "outputs": [
    {
     "name": "stdout",
     "output_type": "stream",
     "text": [
      "1 2 3 4 5 6 7 8 9 10 \n",
      "1 2 3 4 5 6 7 8 9 10 \n",
      "1 2 3 4 5 6 7 8 9 10 \n",
      "1 2 3 4 5 6 7 8 9 10 \n",
      "1 2 3 4 5 6 7 8 9 10 \n"
     ]
    }
   ],
   "source": [
    "for i in range(1, 6):\n",
    "    for j in range(1, 11):\n",
    "        print(j, end = ' ')\n",
    "    print()"
   ]
  },
  {
   "cell_type": "code",
   "execution_count": null,
   "metadata": {},
   "outputs": [
    {
     "name": "stdout",
     "output_type": "stream",
     "text": [
      "A\n",
      "l\n",
      "a\n",
      "n\n"
     ]
    }
   ],
   "source": [
    "nome = 'Alan'\n",
    "i = 0\n",
    "res = len(nome) - 1\n",
    "while i <= res:\n",
    "    print(nome[i])\n",
    "    i += 1"
   ]
  },
  {
   "cell_type": "code",
   "execution_count": null,
   "metadata": {},
   "outputs": [
    {
     "name": "stdout",
     "output_type": "stream",
     "text": [
      "Número é: 1\n",
      "Número é: 2\n",
      "Número é: 3\n",
      "Número é: 4\n",
      "Fora do loop\n"
     ]
    }
   ],
   "source": [
    "numero = 0\n",
    "for numero in range(10):\n",
    "    numero += 1\n",
    "    if numero == 5:\n",
    "        break\n",
    "    print('Número é: ' + str(numero))\n",
    "    \n",
    "print('Fora do loop')"
   ]
  },
  {
   "cell_type": "code",
   "execution_count": null,
   "metadata": {},
   "outputs": [],
   "source": [
    "def nome_da_funcao(parametro1=2, parametro2=7):\n",
    "    ''' inputs:\n",
    "            número inteiro\n",
    "            número inteiro\n",
    "        output:\n",
    "            variável a '''\n",
    "    # Corpo da Função\n",
    "    a = parametro1 + parametro2\n",
    "    return a"
   ]
  },
  {
   "cell_type": "code",
   "execution_count": null,
   "metadata": {},
   "outputs": [
    {
     "name": "stdout",
     "output_type": "stream",
     "text": [
      "8\n"
     ]
    }
   ],
   "source": [
    "b = nome_da_funcao(3, 5)\n",
    "print(b)"
   ]
  },
  {
   "cell_type": "code",
   "execution_count": null,
   "metadata": {},
   "outputs": [],
   "source": [
    "def oi():\n",
    "    print('Seja bem-vindo à aula')"
   ]
  },
  {
   "cell_type": "code",
   "execution_count": null,
   "metadata": {},
   "outputs": [
    {
     "name": "stdout",
     "output_type": "stream",
     "text": [
      "Seja bem-vindo à aula\n"
     ]
    }
   ],
   "source": [
    "oi()"
   ]
  },
  {
   "cell_type": "code",
   "execution_count": null,
   "metadata": {},
   "outputs": [],
   "source": [
    "def somando_dois_numeros():\n",
    "    numero1 = 5\n",
    "    numero2 = 10\n",
    "    total = numero1 + numero2\n",
    "    print(total)"
   ]
  },
  {
   "cell_type": "code",
   "execution_count": null,
   "metadata": {},
   "outputs": [
    {
     "name": "stdout",
     "output_type": "stream",
     "text": [
      "15\n"
     ]
    }
   ],
   "source": [
    "somando_dois_numeros()"
   ]
  },
  {
   "cell_type": "code",
   "execution_count": null,
   "metadata": {},
   "outputs": [],
   "source": [
    "def oi(nome):\n",
    "    print('Olá, ', nome, '. Seja Bem-vindo(a) à aula de Python para DAta Science')"
   ]
  },
  {
   "cell_type": "code",
   "execution_count": null,
   "metadata": {},
   "outputs": [
    {
     "name": "stdout",
     "output_type": "stream",
     "text": [
      "Olá,  Sara . Seja Bem-vindo(a) à aula de Python para DAta Science\n"
     ]
    }
   ],
   "source": [
    "oi('Sara')"
   ]
  },
  {
   "cell_type": "code",
   "execution_count": null,
   "metadata": {},
   "outputs": [],
   "source": [
    "def elevar_ao_quadrado(x):\n",
    "    return x * x"
   ]
  },
  {
   "cell_type": "code",
   "execution_count": null,
   "metadata": {},
   "outputs": [
    {
     "data": {
      "text/plain": [
       "418955863824"
      ]
     },
     "execution_count": 36,
     "metadata": {},
     "output_type": "execute_result"
    }
   ],
   "source": [
    "elevar_ao_quadrado(647268)"
   ]
  },
  {
   "cell_type": "code",
   "execution_count": null,
   "metadata": {},
   "outputs": [],
   "source": [
    "def area_circulo(r):\n",
    "    PI = 3.14\n",
    "    return PI * r ** 2"
   ]
  },
  {
   "cell_type": "code",
   "execution_count": null,
   "metadata": {},
   "outputs": [
    {
     "data": {
      "text/plain": [
       "78.5"
      ]
     },
     "execution_count": 38,
     "metadata": {},
     "output_type": "execute_result"
    }
   ],
   "source": [
    "area_circulo(5)"
   ]
  },
  {
   "cell_type": "code",
   "execution_count": null,
   "metadata": {},
   "outputs": [],
   "source": [
    "def calculadora_idade(ano_corrente, ano_nascimento):\n",
    "    idade = ano_corrente - ano_nascimento\n",
    "    return idade"
   ]
  },
  {
   "cell_type": "code",
   "execution_count": null,
   "metadata": {},
   "outputs": [
    {
     "data": {
      "text/plain": [
       "55"
      ]
     },
     "execution_count": 40,
     "metadata": {},
     "output_type": "execute_result"
    }
   ],
   "source": [
    "calculadora_idade(2023,1968)"
   ]
  },
  {
   "cell_type": "code",
   "execution_count": null,
   "metadata": {},
   "outputs": [],
   "source": [
    "def valor_absoluto(num):\n",
    "    ''' Essa Função calcula o valor absoluto do número inserido '''\n",
    "    \n",
    "    if num >= 0:\n",
    "        return num\n",
    "    else:\n",
    "        return -num"
   ]
  },
  {
   "cell_type": "code",
   "execution_count": null,
   "metadata": {},
   "outputs": [
    {
     "data": {
      "text/plain": [
       "2"
      ]
     },
     "execution_count": 42,
     "metadata": {},
     "output_type": "execute_result"
    }
   ],
   "source": [
    "valor_absoluto(2)"
   ]
  },
  {
   "cell_type": "code",
   "execution_count": null,
   "metadata": {},
   "outputs": [
    {
     "data": {
      "text/plain": [
       "4"
      ]
     },
     "execution_count": 43,
     "metadata": {},
     "output_type": "execute_result"
    }
   ],
   "source": [
    "valor_absoluto(-4)"
   ]
  },
  {
   "cell_type": "code",
   "execution_count": null,
   "metadata": {},
   "outputs": [],
   "source": [
    "def par(lista):\n",
    "    num_par = []\n",
    "    for n in lista:\n",
    "        if n % 2 == 0:\n",
    "            num_par.append(n)\n",
    "    return num_par"
   ]
  },
  {
   "cell_type": "code",
   "execution_count": null,
   "metadata": {},
   "outputs": [
    {
     "name": "stdout",
     "output_type": "stream",
     "text": [
      "Os número que são pares são:  [2, 46, 82]\n"
     ]
    }
   ],
   "source": [
    "lista1 = [2, 3, 46, 75, 82, 19]\n",
    "print('Os número que são pares são: ', par(lista1))"
   ]
  },
  {
   "cell_type": "code",
   "execution_count": null,
   "metadata": {},
   "outputs": [],
   "source": [
    "def calculadora(num1, num2):\n",
    "    soma = num1 + num2\n",
    "    sub = num1 - num2\n",
    "    divisao = num1 / num2\n",
    "    multiplicacao = num1 * num2\n",
    "    return soma, sub, divisao, multiplicacao"
   ]
  },
  {
   "cell_type": "code",
   "execution_count": null,
   "metadata": {},
   "outputs": [],
   "source": [
    "a,b,c,d, = calculadora(40,5)"
   ]
  },
  {
   "cell_type": "code",
   "execution_count": null,
   "metadata": {},
   "outputs": [
    {
     "name": "stdout",
     "output_type": "stream",
     "text": [
      "45\n"
     ]
    }
   ],
   "source": [
    "print(a)"
   ]
  },
  {
   "cell_type": "code",
   "execution_count": null,
   "metadata": {},
   "outputs": [
    {
     "name": "stdout",
     "output_type": "stream",
     "text": [
      "35\n"
     ]
    }
   ],
   "source": [
    "print(b)"
   ]
  },
  {
   "cell_type": "code",
   "execution_count": null,
   "metadata": {},
   "outputs": [
    {
     "name": "stdout",
     "output_type": "stream",
     "text": [
      "8.0\n"
     ]
    }
   ],
   "source": [
    "print(c)"
   ]
  },
  {
   "cell_type": "code",
   "execution_count": null,
   "metadata": {},
   "outputs": [
    {
     "name": "stdout",
     "output_type": "stream",
     "text": [
      "200\n"
     ]
    }
   ],
   "source": [
    "print(d)"
   ]
  },
  {
   "cell_type": "markdown",
   "metadata": {},
   "source": [
    "## Atividade"
   ]
  },
  {
   "cell_type": "markdown",
   "metadata": {},
   "source": [
    "### Utilize a seguinte lista para fazer os exercícios abaixo: \n",
    "\n",
    "- nomes = ['Abelardo', 'Aluisio', 'Adalberto', 'Anastacio', 'Ubirajara']\n",
    "\n",
    "1. Crie um loop for para iterar sobre cada elemento da lista e printe cada nome\n",
    "2. Faça o mesmo exercício acima utilizando o loop while\n",
    "3. Crie uma função que recebe a lista de nomes como parâmetro e passe por algum dos loops criados acima\n",
    "4. Utilize o loop do exercício 1 ou 2 e printe somente os nomes que começam com letra “A”"
   ]
  },
  {
   "cell_type": "code",
   "execution_count": null,
   "metadata": {},
   "outputs": [],
   "source": [
    "# Lista a ser utilizada\n",
    "nomes = ['Abelardo', 'Aluisio', 'Adalberto', 'Anastacio', 'Ubirajara']"
   ]
  },
  {
   "cell_type": "code",
   "execution_count": null,
   "metadata": {},
   "outputs": [
    {
     "name": "stdout",
     "output_type": "stream",
     "text": [
      "Abelardo\n",
      "Aluisio\n",
      "Adalberto\n",
      "Anastacio\n",
      "Ubirajara\n"
     ]
    }
   ],
   "source": [
    "# Exercício 1:\n",
    "# Crie um loop for para iterar sobre cada elemento da\n",
    "# lista e printe cada nome\n",
    "\n",
    "for nome in nomes:\n",
    "    print(f'{nome}')"
   ]
  },
  {
   "cell_type": "code",
   "execution_count": null,
   "metadata": {},
   "outputs": [],
   "source": [
    "class Estacionamento:\n",
    "    def __init__(self, numero_vaga, nome_operador, horario_entrada, horario_saida):\n",
    "        self.numero_vaga = numero_vaga\n",
    "        self.nome_operador = nome_operador\n",
    "        self.horario_entrada = horario_entrada\n",
    "        self.horario_saida = horario_saida\n",
    "        \n",
    "    def entrou_carro(self):\n",
    "        return f'Carro entrou da vaga'"
   ]
  },
  {
   "cell_type": "code",
   "execution_count": null,
   "metadata": {},
   "outputs": [
    {
     "name": "stdout",
     "output_type": "stream",
     "text": [
      "Abelardo\n",
      "Aluisio\n",
      "Adalberto\n",
      "Anastacio\n",
      "Ubirajara\n"
     ]
    }
   ],
   "source": [
    "# Faça o mesmo exercício acima utilizando o loop while\n",
    "\n",
    "i = 0\n",
    "\n",
    "while i < len(nomes):\n",
    "    print(nomes[i])\n",
    "    i += 1"
   ]
  },
  {
   "cell_type": "code",
   "execution_count": null,
   "metadata": {},
   "outputs": [
    {
     "name": "stdout",
     "output_type": "stream",
     "text": [
      "Abelardo\n",
      "Aluisio\n",
      "Adalberto\n",
      "Anastacio\n",
      "Ubirajara\n"
     ]
    }
   ],
   "source": [
    "# Crie uma função que recebe a lista de nomes como\n",
    "# parâmetro e passe por algum dos loops criados acima\n",
    "\n",
    "def PrintName():\n",
    "    for nome in nomes:\n",
    "        print(f'{nome}')\n",
    "        \n",
    "PrintName()"
   ]
  },
  {
   "cell_type": "code",
   "execution_count": null,
   "metadata": {},
   "outputs": [
    {
     "name": "stdout",
     "output_type": "stream",
     "text": [
      "Abelardo\n",
      "Aluisio\n",
      "Adalberto\n",
      "Anastacio\n"
     ]
    }
   ],
   "source": [
    "# Utilize o loop do exercício 1 ou 2 e printe somente\n",
    "# os nomes que começam com letra “A”\n",
    "\n",
    "for nome in nomes:\n",
    "    if nome.startswith('A'):\n",
    "        print(f'{nome}')"
   ]
  },
  {
   "cell_type": "code",
   "execution_count": null,
   "metadata": {},
   "outputs": [
    {
     "name": "stdout",
     "output_type": "stream",
     "text": [
      "[2, 3, 5, 7, 11, 13]\n"
     ]
    }
   ],
   "source": [
    "def verificar_primos(lista):\n",
    "    lista_primos = []\n",
    "    for num in lista:\n",
    "        if num > 1:\n",
    "            for i in range(2, num):\n",
    "                if (num % i) == 0:\n",
    "                    break\n",
    "            else:\n",
    "                lista_primos.append(num)\n",
    "    return lista_primos\n",
    "\n",
    "numeros = [2, 3, 4, 5, 6, 7, 8, 9, 10, 11, 12, 13, 14, 15]\n",
    "primos = verificar_primos(numeros)\n",
    "print(primos)\n"
   ]
  },
  {
   "cell_type": "markdown",
   "metadata": {},
   "source": [
    "# Semana 5 - Funções, Classes e Bibliotecas"
   ]
  },
  {
   "cell_type": "markdown",
   "metadata": {},
   "source": [
    "## Atividade"
   ]
  },
  {
   "cell_type": "markdown",
   "metadata": {},
   "source": [
    "### Utilize a seguinte lista para fazer os exercícios abaixo: \n",
    "- nomes = ['Abelardo', 'Aluisio', 'Adalberto', 'Anastacio', 'Ubirajara']\n",
    "\n",
    "1. Crie um loop for para iterar sobre cada elemento da lista e printe cada nome\n",
    "2. Faça o mesmo exercício acima utilizando o loop while"
   ]
  },
  {
   "cell_type": "code",
   "execution_count": null,
   "metadata": {},
   "outputs": [],
   "source": [
    "nomes = ['Abelardo', 'Aluisio', 'Adalberto', 'Anastacio', 'Ubirajara']"
   ]
  },
  {
   "cell_type": "code",
   "execution_count": null,
   "metadata": {},
   "outputs": [],
   "source": [
    "# Exercício 1:\n",
    "# Crie um loop for para iterar sobre cada elemento da lista e printe cada nome\n",
    "\n",
    "for nome in nomes:\n",
    "    print(f'{nome}')"
   ]
  },
  {
   "cell_type": "code",
   "execution_count": null,
   "metadata": {},
   "outputs": [],
   "source": [
    "# Exercício 2:\n",
    "# Faça o mesmo exercício acima utilizando o loop while\n",
    "i = 0\n",
    "\n",
    "while i < len(nomes):\n",
    "    print(nomes[i])\n",
    "    i += 1"
   ]
  },
  {
   "cell_type": "markdown",
   "metadata": {},
   "source": [
    "## Master Class"
   ]
  },
  {
   "cell_type": "markdown",
   "metadata": {},
   "source": [
    "## Funções"
   ]
  },
  {
   "cell_type": "markdown",
   "metadata": {},
   "source": [
    "### Noções_básicas_sobre_funções"
   ]
  },
  {
   "cell_type": "markdown",
   "metadata": {},
   "source": [
    "#### Criando Funções"
   ]
  },
  {
   "cell_type": "code",
   "execution_count": null,
   "metadata": {},
   "outputs": [],
   "source": [
    "def imprima_boas_vindas():\n",
    "    print('Boas vindas ao curso!')"
   ]
  },
  {
   "cell_type": "code",
   "execution_count": null,
   "metadata": {},
   "outputs": [
    {
     "name": "stdout",
     "output_type": "stream",
     "text": [
      "Boas vindas ao curso!\n"
     ]
    }
   ],
   "source": [
    "imprima_boas_vindas()"
   ]
  },
  {
   "cell_type": "code",
   "execution_count": null,
   "metadata": {},
   "outputs": [],
   "source": [
    "def imprima_boas_vindas(nome):\n",
    "    print(f'{nome}, boas vindas ao curso!')"
   ]
  },
  {
   "cell_type": "code",
   "execution_count": null,
   "metadata": {},
   "outputs": [
    {
     "name": "stdout",
     "output_type": "stream",
     "text": [
      "João, boas vindas ao curso!\n"
     ]
    }
   ],
   "source": [
    "imprima_boas_vindas('João')"
   ]
  },
  {
   "cell_type": "code",
   "execution_count": null,
   "metadata": {},
   "outputs": [],
   "source": [
    "def imprima_boas_vindas(nome):\n",
    "    print(f'{nome}, boas vindas ao curso!')\n",
    "    return True"
   ]
  },
  {
   "cell_type": "code",
   "execution_count": null,
   "metadata": {},
   "outputs": [
    {
     "name": "stdout",
     "output_type": "stream",
     "text": [
      "Maria, boas vindas ao curso!\n"
     ]
    }
   ],
   "source": [
    "saida = imprima_boas_vindas('Maria')"
   ]
  },
  {
   "cell_type": "code",
   "execution_count": null,
   "metadata": {},
   "outputs": [
    {
     "data": {
      "text/plain": [
       "True"
      ]
     },
     "metadata": {},
     "output_type": "display_data"
    }
   ],
   "source": [
    "saida"
   ]
  },
  {
   "cell_type": "code",
   "execution_count": null,
   "metadata": {},
   "outputs": [
    {
     "data": {
      "text/plain": [
       "function"
      ]
     },
     "metadata": {},
     "output_type": "display_data"
    }
   ],
   "source": [
    "func = imprima_boas_vindas\n",
    "type(func)"
   ]
  },
  {
   "cell_type": "code",
   "execution_count": null,
   "metadata": {},
   "outputs": [
    {
     "name": "stdout",
     "output_type": "stream",
     "text": [
      "Bruno, boas vindas ao curso!\n"
     ]
    }
   ],
   "source": [
    "x = func('Bruno')"
   ]
  },
  {
   "cell_type": "markdown",
   "metadata": {},
   "source": [
    "#### Mais sobre funções"
   ]
  },
  {
   "cell_type": "code",
   "execution_count": null,
   "metadata": {},
   "outputs": [],
   "source": [
    "def raiz_quadrada(x):\n",
    "    ''' Calcular a raiz quadrada de x. '''\n",
    "    return x ** (1 / 2)"
   ]
  },
  {
   "cell_type": "markdown",
   "metadata": {},
   "source": [
    "#### Args e Kwargs"
   ]
  },
  {
   "cell_type": "code",
   "execution_count": null,
   "metadata": {},
   "outputs": [],
   "source": [
    "def raiz(x, n = 2):\n",
    "    ''' Calcular a raiz quadrada de x. '''\n",
    "    return x ** (1 / n)"
   ]
  },
  {
   "cell_type": "code",
   "execution_count": null,
   "metadata": {},
   "outputs": [
    {
     "data": {
      "text/plain": [
       "9.0"
      ]
     },
     "metadata": {},
     "output_type": "display_data"
    }
   ],
   "source": [
    "raiz(81)"
   ]
  },
  {
   "cell_type": "code",
   "execution_count": null,
   "metadata": {},
   "outputs": [
    {
     "data": {
      "text/plain": [
       "2.0"
      ]
     },
     "metadata": {},
     "output_type": "display_data"
    }
   ],
   "source": [
    "raiz(8,3)"
   ]
  },
  {
   "cell_type": "markdown",
   "metadata": {},
   "source": [
    "#### Ordem dos Argumentos e Valores Padrões"
   ]
  },
  {
   "cell_type": "code",
   "execution_count": null,
   "metadata": {},
   "outputs": [],
   "source": [
    "def raiz(x, n = None):\n",
    "    if n:\n",
    "        return x ** (1 / n)\n",
    "    else:\n",
    "        return x ** (1 / 2)"
   ]
  },
  {
   "cell_type": "markdown",
   "metadata": {},
   "source": [
    "* Args: argumentos posicionais"
   ]
  },
  {
   "cell_type": "code",
   "execution_count": null,
   "metadata": {},
   "outputs": [
    {
     "name": "stdout",
     "output_type": "stream",
     "text": [
      "Mensagem 1\n",
      "Mensagem 2\n",
      "Mensagem 3\n"
     ]
    }
   ],
   "source": [
    "print('Mensagem 1', 'Mensagem 2', 'Mensagem 3', sep = '\\n')"
   ]
  },
  {
   "cell_type": "code",
   "execution_count": null,
   "metadata": {},
   "outputs": [],
   "source": [
    "def soma(x, y):\n",
    "    return x + y"
   ]
  },
  {
   "cell_type": "code",
   "execution_count": null,
   "metadata": {},
   "outputs": [
    {
     "data": {
      "text/plain": [
       "6"
      ]
     },
     "metadata": {},
     "output_type": "display_data"
    }
   ],
   "source": [
    "soma(1 ,5)"
   ]
  },
  {
   "cell_type": "code",
   "execution_count": null,
   "metadata": {},
   "outputs": [],
   "source": [
    "def soma(*numeros):\n",
    "    return sum(numeros)"
   ]
  },
  {
   "cell_type": "code",
   "execution_count": null,
   "metadata": {},
   "outputs": [
    {
     "data": {
      "text/plain": [
       "15"
      ]
     },
     "metadata": {},
     "output_type": "display_data"
    }
   ],
   "source": [
    "soma(1, 5, -2, 10, 1)"
   ]
  },
  {
   "cell_type": "code",
   "execution_count": null,
   "metadata": {},
   "outputs": [],
   "source": [
    "def soma(*numeros):\n",
    "    print(numeros, len(numeros), type(numeros))\n",
    "    soma = 0\n",
    "    for num in numeros:\n",
    "        soma += num\n",
    "    \n",
    "    return sum(numeros)"
   ]
  },
  {
   "cell_type": "code",
   "execution_count": null,
   "metadata": {},
   "outputs": [
    {
     "name": "stdout",
     "output_type": "stream",
     "text": [
      "(1, 5, -2, 10, 1) 5 <class 'tuple'>\n"
     ]
    },
    {
     "data": {
      "text/plain": [
       "15"
      ]
     },
     "metadata": {},
     "output_type": "display_data"
    }
   ],
   "source": [
    "soma(1, 5, -2, 10, 1)"
   ]
  },
  {
   "cell_type": "markdown",
   "metadata": {},
   "source": [
    "* Kwargs: argumentos nomeados"
   ]
  },
  {
   "cell_type": "code",
   "execution_count": null,
   "metadata": {},
   "outputs": [
    {
     "name": "stdout",
     "output_type": "stream",
     "text": [
      "Mensagem 1\n",
      "Mensagem 2\n",
      "Mensagem 3!!!\n",
      "fim"
     ]
    }
   ],
   "source": [
    "print('Mensagem 1', 'Mensagem 2', 'Mensagem 3', end = '!!!\\nfim', sep = '\\n')"
   ]
  },
  {
   "cell_type": "code",
   "execution_count": null,
   "metadata": {},
   "outputs": [
    {
     "name": "stdout",
     "output_type": "stream",
     "text": [
      "Mensagem 1!!!\n",
      "Mensagem 2!!!\n",
      "Mensagem 3!!!\n",
      "fim"
     ]
    }
   ],
   "source": [
    "print('Mensagem 1', 'Mensagem 2', 'Mensagem 3', **{'end': '!!!\\nfim', 'sep':'!!!\\n'})"
   ]
  },
  {
   "cell_type": "code",
   "execution_count": null,
   "metadata": {},
   "outputs": [
    {
     "name": "stdout",
     "output_type": "stream",
     "text": [
      "1 é maior que -2\n",
      "1 é maior que -2\n"
     ]
    },
    {
     "data": {
      "text/plain": [
       "1"
      ]
     },
     "metadata": {},
     "output_type": "display_data"
    }
   ],
   "source": [
    "def retornar_o_maior_valor(a, b, **kwargs):\n",
    "    if 'verbose' in kwargs:\n",
    "        if a == b:\n",
    "            print('Os Valores são iguais.')\n",
    "        else:\n",
    "            print(f'{max(a, b)} é maior que {min(a, b)}')\n",
    "    return max(a, b)\n",
    "\n",
    "retornar_o_maior_valor(1, -2, verbose = False)\n",
    "retornar_o_maior_valor(1, -2, verbose = True)"
   ]
  },
  {
   "cell_type": "markdown",
   "metadata": {},
   "source": [
    "#### Múltiplas Saídas"
   ]
  },
  {
   "cell_type": "code",
   "execution_count": null,
   "metadata": {},
   "outputs": [],
   "source": [
    "def retorna_faixa_de_valor(lista_de_valores):\n",
    "    return max(lista_de_valores), min(lista_de_valores)"
   ]
  },
  {
   "cell_type": "code",
   "execution_count": null,
   "metadata": {},
   "outputs": [
    {
     "data": {
      "text/plain": [
       "(10, -30)"
      ]
     },
     "metadata": {},
     "output_type": "display_data"
    }
   ],
   "source": [
    "retorna_faixa_de_valor([1, 2, -1, 10, -30])"
   ]
  },
  {
   "cell_type": "code",
   "execution_count": null,
   "metadata": {},
   "outputs": [
    {
     "name": "stdout",
     "output_type": "stream",
     "text": [
      "10 -30\n"
     ]
    }
   ],
   "source": [
    "max_val, min_val = retorna_faixa_de_valor([1, 2, -1, 10, -30])\n",
    "print(max_val, min_val)"
   ]
  },
  {
   "cell_type": "markdown",
   "metadata": {},
   "source": [
    "### Como Criar Funções Para Sua Rotina Como Analista de Dados"
   ]
  },
  {
   "cell_type": "code",
   "execution_count": null,
   "metadata": {},
   "outputs": [],
   "source": [
    "def soma (x, y):\n",
    "    return x + y"
   ]
  },
  {
   "cell_type": "code",
   "execution_count": null,
   "metadata": {},
   "outputs": [],
   "source": [
    "soma = lambda x, y : x + y"
   ]
  },
  {
   "cell_type": "code",
   "execution_count": null,
   "metadata": {},
   "outputs": [
    {
     "name": "stdout",
     "output_type": "stream",
     "text": [
      "9\n"
     ]
    }
   ],
   "source": [
    "print(soma(4, 5))"
   ]
  },
  {
   "cell_type": "code",
   "execution_count": null,
   "metadata": {},
   "outputs": [
    {
     "name": "stdout",
     "output_type": "stream",
     "text": [
      "Função normal:  3.0\n"
     ]
    }
   ],
   "source": [
    "import math\n",
    "\n",
    "def raiz_quadrada(x):\n",
    "    return math.sqrt(x)\n",
    "\n",
    "print ('Função normal: ', raiz_quadrada(9))"
   ]
  },
  {
   "cell_type": "code",
   "execution_count": null,
   "metadata": {},
   "outputs": [
    {
     "name": "stdout",
     "output_type": "stream",
     "text": [
      "função lambda:  3.0\n"
     ]
    }
   ],
   "source": [
    "raiz_quadrada_lambda = lambda x : math.sqrt(x)\n",
    "\n",
    "print('função lambda: ', raiz_quadrada_lambda(9))"
   ]
  },
  {
   "cell_type": "markdown",
   "metadata": {},
   "source": [
    " ### Função Map"
   ]
  },
  {
   "cell_type": "code",
   "execution_count": null,
   "metadata": {},
   "outputs": [],
   "source": [
    "# map(função, sequência)\n",
    "\n",
    "def fahrenheit(T):\n",
    "    return(float(9) / 5 * T + 32)"
   ]
  },
  {
   "cell_type": "code",
   "execution_count": null,
   "metadata": {},
   "outputs": [],
   "source": [
    "temperaturas = (12, 15, 17, 11, 24, 10)"
   ]
  },
  {
   "cell_type": "code",
   "execution_count": null,
   "metadata": {},
   "outputs": [
    {
     "name": "stdout",
     "output_type": "stream",
     "text": [
      "53.6\n",
      "59.0\n",
      "62.6\n",
      "51.8\n",
      "75.2\n",
      "50.0\n"
     ]
    }
   ],
   "source": [
    "for temp in temperaturas:\n",
    "    print(fahrenheit(temp))"
   ]
  },
  {
   "cell_type": "code",
   "execution_count": null,
   "metadata": {},
   "outputs": [
    {
     "name": "stdout",
     "output_type": "stream",
     "text": [
      "Objeto:  <map object at 0x1073e2020>\n",
      "Lista do objeto:  [53.6, 59.0, 62.6, 51.8, 75.2, 50.0]\n"
     ]
    }
   ],
   "source": [
    "temp_fahrenheit = map(fahrenheit, temperaturas)\n",
    "\n",
    "print('Objeto: ', temp_fahrenheit)\n",
    "\n",
    "print('Lista do objeto: ', list(temp_fahrenheit))"
   ]
  },
  {
   "cell_type": "code",
   "execution_count": null,
   "metadata": {},
   "outputs": [
    {
     "name": "stdout",
     "output_type": "stream",
     "text": [
      "[53.6, 59.0, 62.6, 51.8, 75.2, 50.0]\n"
     ]
    }
   ],
   "source": [
    "celsius = list(map(lambda T : (float(9) / 5 * T + 32), temperaturas))\n",
    "print(celsius)"
   ]
  },
  {
   "cell_type": "markdown",
   "metadata": {},
   "source": [
    "### Função Zip"
   ]
  },
  {
   "cell_type": "code",
   "execution_count": null,
   "metadata": {},
   "outputs": [
    {
     "name": "stdout",
     "output_type": "stream",
     "text": [
      "<zip object at 0x107435c00>\n"
     ]
    }
   ],
   "source": [
    "# Zip( estrutura 1, estrutura 2)\n",
    "z1 = [1, 2, 3, 4, 5, 6]\n",
    "z2 = [9, 5, 7, 8, 9, 0]\n",
    "zip_objeto = zip(z1, z2)\n",
    "print(zip_objeto)"
   ]
  },
  {
   "cell_type": "code",
   "execution_count": null,
   "metadata": {},
   "outputs": [
    {
     "name": "stdout",
     "output_type": "stream",
     "text": [
      "{1: 9, 2: 5, 3: 7, 4: 8, 5: 9, 6: 0}\n"
     ]
    }
   ],
   "source": [
    "dict_zip = dict(zip_objeto)\n",
    "print(dict_zip)"
   ]
  },
  {
   "cell_type": "code",
   "execution_count": null,
   "metadata": {},
   "outputs": [
    {
     "name": "stdout",
     "output_type": "stream",
     "text": [
      "[(1, 7), (5, 5), (9, 3)]\n"
     ]
    }
   ],
   "source": [
    "z3 = [1, 5, 9]\n",
    "z4 = [7, 5, 3, 9, 5, 1]\n",
    "\n",
    "c = list(zip(z3, z4))\n",
    "print(c)"
   ]
  },
  {
   "cell_type": "code",
   "execution_count": null,
   "metadata": {},
   "outputs": [
    {
     "name": "stdout",
     "output_type": "stream",
     "text": [
      "[8, 10, 12]\n"
     ]
    }
   ],
   "source": [
    "d = list(map(lambda x, y : x + y, z3, z4))\n",
    "print(d)"
   ]
  },
  {
   "cell_type": "markdown",
   "metadata": {},
   "source": [
    "### Função Filter"
   ]
  },
  {
   "cell_type": "code",
   "execution_count": null,
   "metadata": {},
   "outputs": [
    {
     "name": "stdout",
     "output_type": "stream",
     "text": [
      "[1, 3, 7, 11, 55]\n"
     ]
    }
   ],
   "source": [
    "# filter(função, Sequência)\n",
    "\n",
    "lista_num = [1, 3, 4, 6, 7, 11, 34, 55, 96]\n",
    "impar = list(filter(lambda x : x%2, lista_num))\n",
    "print(impar)"
   ]
  },
  {
   "cell_type": "markdown",
   "metadata": {},
   "source": [
    "### Função Any & All"
   ]
  },
  {
   "cell_type": "code",
   "execution_count": null,
   "metadata": {},
   "outputs": [
    {
     "name": "stdout",
     "output_type": "stream",
     "text": [
      "Função any [True, False, False, False]:\n",
      " True\n",
      "Função any [False, False]:\n",
      " False\n",
      "Função all [True, False, False, False]:\n",
      " False\n",
      "Função all [True, True, True]:\n",
      " True\n",
      "Função all [False, False, False, False]:\n",
      " False\n"
     ]
    }
   ],
   "source": [
    "print('Função any [True, False, False, False]:\\n', any([True, False, False, False]))\n",
    "print('Função any [False, False]:\\n', any([False, False]))\n",
    "print('Função all [True, False, False, False]:\\n', all([True, False, False, False]))\n",
    "print('Função all [True, True, True]:\\n', all([True, True, True]))\n",
    "print('Função all [False, False, False, False]:\\n', all([False, False, False, False]))"
   ]
  },
  {
   "cell_type": "markdown",
   "metadata": {},
   "source": [
    "### Variáveis Globais"
   ]
  },
  {
   "cell_type": "code",
   "execution_count": null,
   "metadata": {},
   "outputs": [],
   "source": [
    "global_var = 999\n",
    "\n",
    "def func1():\n",
    "    print('Valor na primeira função: ', global_var)\n",
    "\n",
    "def func2():\n",
    "    print('Valor na segunda função: ', global_var)"
   ]
  },
  {
   "cell_type": "code",
   "execution_count": null,
   "metadata": {},
   "outputs": [
    {
     "name": "stdout",
     "output_type": "stream",
     "text": [
      "Valor na primeira função:  999\n",
      "Valor na segunda função:  999\n"
     ]
    }
   ],
   "source": [
    "func1()\n",
    "func2()"
   ]
  },
  {
   "cell_type": "code",
   "execution_count": null,
   "metadata": {},
   "outputs": [
    {
     "name": "stdout",
     "output_type": "stream",
     "text": [
      "Dentro 999\n",
      "Fora 999\n"
     ]
    }
   ],
   "source": [
    "def func():\n",
    "    print('Dentro', global_var)\n",
    "\n",
    "func()\n",
    "print('Fora', global_var)"
   ]
  },
  {
   "cell_type": "code",
   "execution_count": null,
   "metadata": {},
   "outputs": [
    {
     "ename": "UnboundLocalError",
     "evalue": "local variable 'x' referenced before assignment",
     "output_type": "error",
     "traceback": [
      "\u001b[0;31m---------------------------------------------------------------------------\u001b[0m\n",
      "\u001b[0;31mUnboundLocalError\u001b[0m                         Traceback (most recent call last)\n",
      "\u001b[1;32m/Users/lukaz/Library/CloudStorage/OneDrive-Personal/Documents/Educação/Ultima/GitHub/ultima-python/Módulo_5_Semana_5: Master Class Sara.ipynb Cell 26\u001b[0m line \u001b[0;36m7\n",
      "\u001b[1;32m      <a href='vscode-notebook-cell:/Users/lukaz/Library/CloudStorage/OneDrive-Personal/Documents/Educac%CC%A7a%CC%83o/Ultima/GitHub/ultima-python/M%C3%B3dulo_5_Semana_5%3A%20Master%20Class%20Sara.ipynb#X35sZmlsZQ%3D%3D?line=3'>4</a>\u001b[0m     x \u001b[39m*\u001b[39m\u001b[39m=\u001b[39m \u001b[39m2\u001b[39m\n",
      "\u001b[1;32m      <a href='vscode-notebook-cell:/Users/lukaz/Library/CloudStorage/OneDrive-Personal/Documents/Educac%CC%A7a%CC%83o/Ultima/GitHub/ultima-python/M%C3%B3dulo_5_Semana_5%3A%20Master%20Class%20Sara.ipynb#X35sZmlsZQ%3D%3D?line=4'>5</a>\u001b[0m     \u001b[39mprint\u001b[39m(x)\n",
      "\u001b[0;32m----> <a href='vscode-notebook-cell:/Users/lukaz/Library/CloudStorage/OneDrive-Personal/Documents/Educac%CC%A7a%CC%83o/Ultima/GitHub/ultima-python/M%C3%B3dulo_5_Semana_5%3A%20Master%20Class%20Sara.ipynb#X35sZmlsZQ%3D%3D?line=6'>7</a>\u001b[0m func()\n",
      "\n",
      "\u001b[1;32m/Users/lukaz/Library/CloudStorage/OneDrive-Personal/Documents/Educação/Ultima/GitHub/ultima-python/Módulo_5_Semana_5: Master Class Sara.ipynb Cell 26\u001b[0m line \u001b[0;36m4\n",
      "\u001b[1;32m      <a href='vscode-notebook-cell:/Users/lukaz/Library/CloudStorage/OneDrive-Personal/Documents/Educac%CC%A7a%CC%83o/Ultima/GitHub/ultima-python/M%C3%B3dulo_5_Semana_5%3A%20Master%20Class%20Sara.ipynb#X35sZmlsZQ%3D%3D?line=2'>3</a>\u001b[0m \u001b[39mdef\u001b[39;00m \u001b[39mfunc\u001b[39m():\n",
      "\u001b[0;32m----> <a href='vscode-notebook-cell:/Users/lukaz/Library/CloudStorage/OneDrive-Personal/Documents/Educac%CC%A7a%CC%83o/Ultima/GitHub/ultima-python/M%C3%B3dulo_5_Semana_5%3A%20Master%20Class%20Sara.ipynb#X35sZmlsZQ%3D%3D?line=3'>4</a>\u001b[0m     x \u001b[39m*\u001b[39m\u001b[39m=\u001b[39m \u001b[39m2\u001b[39m\n",
      "\u001b[1;32m      <a href='vscode-notebook-cell:/Users/lukaz/Library/CloudStorage/OneDrive-Personal/Documents/Educac%CC%A7a%CC%83o/Ultima/GitHub/ultima-python/M%C3%B3dulo_5_Semana_5%3A%20Master%20Class%20Sara.ipynb#X35sZmlsZQ%3D%3D?line=4'>5</a>\u001b[0m     \u001b[39mprint\u001b[39m(x)\n",
      "\n",
      "\u001b[0;31mUnboundLocalError\u001b[0m: local variable 'x' referenced before assignment"
     ]
    }
   ],
   "source": [
    "x = 'global'\n",
    "\n",
    "def func():\n",
    "    x *= 2\n",
    "    print(x)\n",
    "\n",
    "func()"
   ]
  },
  {
   "cell_type": "code",
   "execution_count": null,
   "metadata": {},
   "outputs": [],
   "source": [
    "a = 90\n",
    "\n",
    "def print_data():\n",
    "    a = 6\n",
    "    b = 30\n",
    "    print(a, b)\n",
    "\n",
    "\n"
   ]
  },
  {
   "cell_type": "code",
   "execution_count": null,
   "metadata": {},
   "outputs": [
    {
     "name": "stdout",
     "output_type": "stream",
     "text": [
      "90\n"
     ]
    }
   ],
   "source": [
    "print(a)"
   ]
  },
  {
   "cell_type": "code",
   "execution_count": null,
   "metadata": {},
   "outputs": [
    {
     "ename": "NameError",
     "evalue": "name 'b' is not defined",
     "output_type": "error",
     "traceback": [
      "\u001b[0;31m---------------------------------------------------------------------------\u001b[0m\n",
      "\u001b[0;31mNameError\u001b[0m                                 Traceback (most recent call last)\n",
      "\u001b[1;32m/Users/lukaz/Library/CloudStorage/OneDrive-Personal/Documents/Educação/Ultima/GitHub/ultima-python/Módulo_5_Semana_5: Master Class Sara.ipynb Cell 29\u001b[0m line \u001b[0;36m1\n",
      "\u001b[0;32m----> <a href='vscode-notebook-cell:/Users/lukaz/Library/CloudStorage/OneDrive-Personal/Documents/Educac%CC%A7a%CC%83o/Ultima/GitHub/ultima-python/M%C3%B3dulo_5_Semana_5%3A%20Master%20Class%20Sara.ipynb#X40sZmlsZQ%3D%3D?line=0'>1</a>\u001b[0m \u001b[39mprint\u001b[39m(b)\n",
      "\n",
      "\u001b[0;31mNameError\u001b[0m: name 'b' is not defined"
     ]
    }
   ],
   "source": [
    "print(b)"
   ]
  },
  {
   "cell_type": "markdown",
   "metadata": {},
   "source": [
    "### Variáveis Locais"
   ]
  },
  {
   "cell_type": "code",
   "execution_count": null,
   "metadata": {},
   "outputs": [],
   "source": [
    "def func():\n",
    "    y = 'local'\n",
    "    print(y)"
   ]
  },
  {
   "cell_type": "code",
   "execution_count": null,
   "metadata": {},
   "outputs": [
    {
     "name": "stdout",
     "output_type": "stream",
     "text": [
      "local\n"
     ]
    }
   ],
   "source": [
    "func()"
   ]
  },
  {
   "cell_type": "code",
   "execution_count": null,
   "metadata": {},
   "outputs": [
    {
     "ename": "NameError",
     "evalue": "name 'y' is not defined",
     "output_type": "error",
     "traceback": [
      "\u001b[0;31m---------------------------------------------------------------------------\u001b[0m\n",
      "\u001b[0;31mNameError\u001b[0m                                 Traceback (most recent call last)\n",
      "\u001b[1;32m/Users/lukaz/Library/CloudStorage/OneDrive-Personal/Documents/Educação/Ultima/GitHub/ultima-python/Módulo_5_Semana_5: Master Class Sara.ipynb Cell 33\u001b[0m line \u001b[0;36m1\n",
      "\u001b[0;32m----> <a href='vscode-notebook-cell:/Users/lukaz/Library/CloudStorage/OneDrive-Personal/Documents/Educac%CC%A7a%CC%83o/Ultima/GitHub/ultima-python/M%C3%B3dulo_5_Semana_5%3A%20Master%20Class%20Sara.ipynb#X45sZmlsZQ%3D%3D?line=0'>1</a>\u001b[0m \u001b[39mprint\u001b[39m(y)\n",
      "\n",
      "\u001b[0;31mNameError\u001b[0m: name 'y' is not defined"
     ]
    }
   ],
   "source": [
    "print(y)"
   ]
  },
  {
   "cell_type": "markdown",
   "metadata": {},
   "source": [
    "### Variáveis não-locais"
   ]
  },
  {
   "cell_type": "code",
   "execution_count": null,
   "metadata": {},
   "outputs": [
    {
     "name": "stdout",
     "output_type": "stream",
     "text": [
      "variável local local\n",
      "variável:  global\n"
     ]
    }
   ],
   "source": [
    "x1 = 'global'\n",
    "\n",
    "def func_fora():\n",
    "    x1 = 'local'\n",
    "    print('variável local', x1)\n",
    "    \n",
    "    def func_dentro():\n",
    "        nonlocal x1\n",
    "        x1 = 'nonlocal'\n",
    "        \n",
    "func_fora()\n",
    "print('variável: ', x1)"
   ]
  },
  {
   "cell_type": "markdown",
   "metadata": {},
   "source": [
    "## Classe"
   ]
  },
  {
   "cell_type": "markdown",
   "metadata": {},
   "source": [
    "### Noções Básicas Sobre Classes"
   ]
  },
  {
   "cell_type": "code",
   "execution_count": null,
   "metadata": {},
   "outputs": [],
   "source": [
    "class MinhaClasse():\n",
    "    pass"
   ]
  },
  {
   "cell_type": "code",
   "execution_count": null,
   "metadata": {},
   "outputs": [
    {
     "name": "stdout",
     "output_type": "stream",
     "text": [
      "<__main__.MinhaClasse object at 0x1056a5840>\n",
      "<class '__main__.MinhaClasse'>\n",
      "<__main__.MinhaClasse object at 0x1056a6d10>\n",
      "<class '__main__.MinhaClasse'>\n"
     ]
    }
   ],
   "source": [
    "obj_1 = MinhaClasse()\n",
    "obj_2 = MinhaClasse()\n",
    "print(obj_1, type(obj_1), sep = '\\n')\n",
    "print(obj_2, type(obj_1), sep = '\\n')"
   ]
  },
  {
   "cell_type": "code",
   "execution_count": null,
   "metadata": {},
   "outputs": [
    {
     "name": "stdout",
     "output_type": "stream",
     "text": [
      "1\n",
      "<class 'int'>\n"
     ]
    }
   ],
   "source": [
    "x = 1\n",
    "print(x, type(x), sep = '\\n')"
   ]
  },
  {
   "cell_type": "code",
   "execution_count": null,
   "metadata": {},
   "outputs": [
    {
     "data": {
      "text/plain": [
       "True"
      ]
     },
     "metadata": {},
     "output_type": "display_data"
    }
   ],
   "source": [
    "type(obj_1) == type(obj_2)"
   ]
  },
  {
   "cell_type": "markdown",
   "metadata": {},
   "source": [
    "Métodos e Atributos"
   ]
  },
  {
   "cell_type": "code",
   "execution_count": null,
   "metadata": {},
   "outputs": [],
   "source": [
    "from datetime import datetime"
   ]
  },
  {
   "cell_type": "code",
   "execution_count": null,
   "metadata": {},
   "outputs": [
    {
     "name": "stdout",
     "output_type": "stream",
     "text": [
      "2022-03-11 00:00:00 <class 'datetime.datetime'>\n"
     ]
    }
   ],
   "source": [
    "data = datetime(2022, 3, 11)\n",
    "print(data, type(data))"
   ]
  },
  {
   "cell_type": "code",
   "execution_count": null,
   "metadata": {},
   "outputs": [
    {
     "data": {
      "text/plain": [
       "'2022-03-11T00:00:00'"
      ]
     },
     "metadata": {},
     "output_type": "display_data"
    }
   ],
   "source": [
    "data.isoformat()"
   ]
  },
  {
   "cell_type": "code",
   "execution_count": null,
   "metadata": {},
   "outputs": [
    {
     "data": {
      "text/plain": [
       "'11/03/2022'"
      ]
     },
     "metadata": {},
     "output_type": "display_data"
    }
   ],
   "source": [
    "data.strftime('%d/%m/%Y')"
   ]
  },
  {
   "cell_type": "code",
   "execution_count": null,
   "metadata": {},
   "outputs": [
    {
     "data": {
      "text/plain": [
       "(int, 2022)"
      ]
     },
     "metadata": {},
     "output_type": "display_data"
    }
   ],
   "source": [
    "type(data.year), data.year"
   ]
  },
  {
   "cell_type": "code",
   "execution_count": null,
   "metadata": {},
   "outputs": [
    {
     "data": {
      "text/plain": [
       "4"
      ]
     },
     "metadata": {},
     "output_type": "display_data"
    }
   ],
   "source": [
    "data.weekday()"
   ]
  },
  {
   "cell_type": "code",
   "execution_count": null,
   "metadata": {},
   "outputs": [
    {
     "data": {
      "text/plain": [
       "<function datetime.weekday>"
      ]
     },
     "metadata": {},
     "output_type": "display_data"
    }
   ],
   "source": [
    "weekday = getattr(data, 'weekday')\n",
    "weekday"
   ]
  },
  {
   "cell_type": "code",
   "execution_count": null,
   "metadata": {},
   "outputs": [
    {
     "data": {
      "text/plain": [
       "4"
      ]
     },
     "metadata": {},
     "output_type": "display_data"
    }
   ],
   "source": [
    "weekday()"
   ]
  },
  {
   "cell_type": "markdown",
   "metadata": {},
   "source": [
    "### Atividade: Classe de uma Agenda"
   ]
  },
  {
   "cell_type": "code",
   "execution_count": 66,
   "metadata": {},
   "outputs": [],
   "source": [
    "class Agenda():\n",
    "    \n",
    "    def __init__(self, nome_da_agenda):\n",
    "        self.nome = nome_da_agenda\n",
    "        self.contatos = {}\n",
    "    \n",
    "    def novo_contato(self, nome_de_contato, **kwargs):\n",
    "        self.contatos[nome_de_contato] = kwargs \n",
    "        \n",
    "    def busca_contato(self, nome_busca):\n",
    "        if nome_busca in self.contatos:\n",
    "            return self.contatos[nome_busca]\n",
    "        else:\n",
    "            print('Contato Não Encontrado')\n",
    "            return None\n",
    "    def __add__(self, outra_agenda):\n",
    "        contatos_unidos = self.contatos.items()\n",
    "        contatos_unidos.extend(list(outra_agenda.contatos.items()))\n",
    "        # contatos_unidos = set(contatos_unidos)\n",
    "        agenda = Agenda(self.nome + ' + ' + outra_agenda.nome)\n",
    "        for nome, cadastro in contatos_unidos:\n",
    "            agenda.novo_contato(nome, **cadastro)\n",
    "        return agenda"
   ]
  },
  {
   "cell_type": "code",
   "execution_count": 67,
   "metadata": {},
   "outputs": [
    {
     "data": {
      "text/plain": [
       "('Contatos Web', {})"
      ]
     },
     "execution_count": 67,
     "metadata": {},
     "output_type": "execute_result"
    }
   ],
   "source": [
    "agenda_1 = Agenda(nome_da_agenda = 'Contatos Web')\n",
    "agenda_1.nome, agenda_1.contatos"
   ]
  },
  {
   "cell_type": "code",
   "execution_count": 68,
   "metadata": {},
   "outputs": [
    {
     "data": {
      "text/plain": [
       "{'Maria': {'sobrenome': 'Silva', 'email': 'maria@bol.com.br'},\n",
       " 'João': {'email': 'joao@bol.com.br', 'idade': 33}}"
      ]
     },
     "execution_count": 68,
     "metadata": {},
     "output_type": "execute_result"
    }
   ],
   "source": [
    "agenda_1.novo_contato('Maria', sobrenome = 'Silva', email = 'maria@bol.com.br')\n",
    "agenda_1.novo_contato('João', email = 'joao@bol.com.br', idade = 33)\n",
    "agenda_1.contatos"
   ]
  },
  {
   "cell_type": "code",
   "execution_count": 69,
   "metadata": {},
   "outputs": [
    {
     "data": {
      "text/plain": [
       "{'sobrenome': 'Silva', 'email': 'maria@bol.com.br'}"
      ]
     },
     "execution_count": 69,
     "metadata": {},
     "output_type": "execute_result"
    }
   ],
   "source": [
    "agenda_1.busca_contato('Maria')"
   ]
  },
  {
   "cell_type": "code",
   "execution_count": 70,
   "metadata": {},
   "outputs": [
    {
     "name": "stdout",
     "output_type": "stream",
     "text": [
      "Contatos Pessoais {}\n"
     ]
    }
   ],
   "source": [
    "agenda_2 = Agenda(nome_da_agenda = 'Contatos Pessoais')\n",
    "print(agenda_2.nome, agenda_2.contatos)"
   ]
  },
  {
   "cell_type": "code",
   "execution_count": 71,
   "metadata": {},
   "outputs": [
    {
     "name": "stdout",
     "output_type": "stream",
     "text": [
      "{'Bruno': {'email': 'brunosilva@bol.com.br', 'estado': 'RS'}}\n"
     ]
    }
   ],
   "source": [
    "agenda_2.novo_contato('Bruno', email = 'brunosilva@bol.com.br', estado = 'RS')\n",
    "print(agenda_2.contatos)"
   ]
  },
  {
   "cell_type": "code",
   "execution_count": 72,
   "metadata": {},
   "outputs": [
    {
     "ename": "AttributeError",
     "evalue": "'dict_items' object has no attribute 'extend'",
     "output_type": "error",
     "traceback": [
      "\u001b[0;31m---------------------------------------------------------------------------\u001b[0m",
      "\u001b[0;31mAttributeError\u001b[0m                            Traceback (most recent call last)",
      "\u001b[1;32m/Users/lukaz/Library/CloudStorage/OneDrive-Personal/Documents/Educação/Ultima/GitHub/ultima-python/Módulo_5.ipynb Cell 207\u001b[0m line \u001b[0;36m<cell line: 1>\u001b[0;34m()\u001b[0m\n\u001b[0;32m----> <a href='vscode-notebook-cell:/Users/lukaz/Library/CloudStorage/OneDrive-Personal/Documents/Educac%CC%A7a%CC%83o/Ultima/GitHub/ultima-python/M%C3%B3dulo_5.ipynb#Y635sZmlsZQ%3D%3D?line=0'>1</a>\u001b[0m agenda_3 \u001b[39m=\u001b[39m agenda_1 \u001b[39m+\u001b[39;49m agenda_2\n",
      "\u001b[1;32m/Users/lukaz/Library/CloudStorage/OneDrive-Personal/Documents/Educação/Ultima/GitHub/ultima-python/Módulo_5.ipynb Cell 207\u001b[0m line \u001b[0;36mAgenda.__add__\u001b[0;34m(self, outra_agenda)\u001b[0m\n\u001b[1;32m     <a href='vscode-notebook-cell:/Users/lukaz/Library/CloudStorage/OneDrive-Personal/Documents/Educac%CC%A7a%CC%83o/Ultima/GitHub/ultima-python/M%C3%B3dulo_5.ipynb#Y635sZmlsZQ%3D%3D?line=15'>16</a>\u001b[0m \u001b[39mdef\u001b[39;00m \u001b[39m__add__\u001b[39m(\u001b[39mself\u001b[39m, outra_agenda):\n\u001b[1;32m     <a href='vscode-notebook-cell:/Users/lukaz/Library/CloudStorage/OneDrive-Personal/Documents/Educac%CC%A7a%CC%83o/Ultima/GitHub/ultima-python/M%C3%B3dulo_5.ipynb#Y635sZmlsZQ%3D%3D?line=16'>17</a>\u001b[0m     contatos_unidos \u001b[39m=\u001b[39m \u001b[39mself\u001b[39m\u001b[39m.\u001b[39mcontatos\u001b[39m.\u001b[39mitems()\n\u001b[0;32m---> <a href='vscode-notebook-cell:/Users/lukaz/Library/CloudStorage/OneDrive-Personal/Documents/Educac%CC%A7a%CC%83o/Ultima/GitHub/ultima-python/M%C3%B3dulo_5.ipynb#Y635sZmlsZQ%3D%3D?line=17'>18</a>\u001b[0m     contatos_unidos\u001b[39m.\u001b[39;49mextend(\u001b[39mlist\u001b[39m(outra_agenda\u001b[39m.\u001b[39mcontatos\u001b[39m.\u001b[39mitems()))\n\u001b[1;32m     <a href='vscode-notebook-cell:/Users/lukaz/Library/CloudStorage/OneDrive-Personal/Documents/Educac%CC%A7a%CC%83o/Ultima/GitHub/ultima-python/M%C3%B3dulo_5.ipynb#Y635sZmlsZQ%3D%3D?line=18'>19</a>\u001b[0m     \u001b[39m# contatos_unidos = set(contatos_unidos)\u001b[39;00m\n\u001b[1;32m     <a href='vscode-notebook-cell:/Users/lukaz/Library/CloudStorage/OneDrive-Personal/Documents/Educac%CC%A7a%CC%83o/Ultima/GitHub/ultima-python/M%C3%B3dulo_5.ipynb#Y635sZmlsZQ%3D%3D?line=19'>20</a>\u001b[0m     agenda \u001b[39m=\u001b[39m Agenda(\u001b[39mself\u001b[39m\u001b[39m.\u001b[39mnome \u001b[39m+\u001b[39m \u001b[39m'\u001b[39m\u001b[39m + \u001b[39m\u001b[39m'\u001b[39m \u001b[39m+\u001b[39m outra_agenda\u001b[39m.\u001b[39mnome)\n",
      "\u001b[0;31mAttributeError\u001b[0m: 'dict_items' object has no attribute 'extend'"
     ]
    }
   ],
   "source": [
    "agenda_3 = agenda_1 + agenda_2"
   ]
  },
  {
   "cell_type": "code",
   "execution_count": null,
   "metadata": {},
   "outputs": [
    {
     "ename": "NameError",
     "evalue": "name 'agenda_3' is not defined",
     "output_type": "error",
     "traceback": [
      "\u001b[0;31m---------------------------------------------------------------------------\u001b[0m\n",
      "\u001b[0;31mNameError\u001b[0m                                 Traceback (most recent call last)\n",
      "\u001b[1;32m/Users/lukaz/Library/CloudStorage/OneDrive-Personal/Documents/Educação/Ultima/GitHub/ultima-python/Semana_5_Módulo_5.ipynb Cell 58\u001b[0m line \u001b[0;36m1\n",
      "\u001b[0;32m----> <a href='vscode-notebook-cell:/Users/lukaz/Library/CloudStorage/OneDrive-Personal/Documents/Educac%CC%A7a%CC%83o/Ultima/GitHub/ultima-python/Semana_5_M%C3%B3dulo_5.ipynb#Y116sZmlsZQ%3D%3D?line=0'>1</a>\u001b[0m agenda_3\u001b[39m.\u001b[39mcontatos\n",
      "\u001b[1;32m      <a href='vscode-notebook-cell:/Users/lukaz/Library/CloudStorage/OneDrive-Personal/Documents/Educac%CC%A7a%CC%83o/Ultima/GitHub/ultima-python/Semana_5_M%C3%B3dulo_5.ipynb#Y116sZmlsZQ%3D%3D?line=1'>2</a>\u001b[0m agenda_3\u001b[39m.\u001b[39mnome\n",
      "\n",
      "\u001b[0;31mNameError\u001b[0m: name 'agenda_3' is not defined"
     ]
    }
   ],
   "source": [
    "agenda_3.contatos\n",
    "agenda_3.nome"
   ]
  },
  {
   "cell_type": "code",
   "execution_count": null,
   "metadata": {},
   "outputs": [
    {
     "name": "stdout",
     "output_type": "stream",
     "text": [
      "10\n"
     ]
    }
   ],
   "source": [
    "class Pessoa:\n",
    "    'Essa é a classe de definição de pessoa'\n",
    "    idade = 10\n",
    "    \n",
    "print(Pessoa.idade)"
   ]
  },
  {
   "cell_type": "code",
   "execution_count": null,
   "metadata": {},
   "outputs": [],
   "source": [
    "class Pessoa:\n",
    "    'Essa é a classe de definição de pessoa'\n",
    "    idade = 10\n",
    "    \n",
    "    def ola(self):\n",
    "        print('Olá!')"
   ]
  },
  {
   "cell_type": "code",
   "execution_count": null,
   "metadata": {},
   "outputs": [
    {
     "name": "stdout",
     "output_type": "stream",
     "text": [
      "<function Pessoa.ola at 0x107b2fbe0>\n"
     ]
    }
   ],
   "source": [
    "print(Pessoa.ola)"
   ]
  },
  {
   "cell_type": "code",
   "execution_count": null,
   "metadata": {},
   "outputs": [
    {
     "name": "stdout",
     "output_type": "stream",
     "text": [
      "Essa é a classe de definição de pessoa\n"
     ]
    }
   ],
   "source": [
    "print(Pessoa.__doc__)"
   ]
  },
  {
   "cell_type": "code",
   "execution_count": null,
   "metadata": {},
   "outputs": [
    {
     "name": "stdout",
     "output_type": "stream",
     "text": [
      "<bound method Pessoa.ola of <__main__.Pessoa object at 0x1073e3f70>>\n"
     ]
    }
   ],
   "source": [
    "sara = Pessoa()\n",
    "print(sara.ola)"
   ]
  },
  {
   "cell_type": "code",
   "execution_count": null,
   "metadata": {},
   "outputs": [
    {
     "name": "stdout",
     "output_type": "stream",
     "text": [
      "Olá!\n"
     ]
    }
   ],
   "source": [
    "sara.ola()"
   ]
  },
  {
   "cell_type": "code",
   "execution_count": null,
   "metadata": {},
   "outputs": [],
   "source": [
    "class NumerosComplexos:\n",
    "    def __init__(self, r, i):\n",
    "        self.real = r\n",
    "        self.imag = i\n",
    "        \n",
    "    def pegar_dado(self):\n",
    "        print('{0} + {1}j'.format(self.real, self.imag))"
   ]
  },
  {
   "cell_type": "code",
   "execution_count": null,
   "metadata": {},
   "outputs": [
    {
     "name": "stdout",
     "output_type": "stream",
     "text": [
      "5 + 6j\n"
     ]
    }
   ],
   "source": [
    "c1 = NumerosComplexos(5 ,6)\n",
    "c1.pegar_dado()"
   ]
  },
  {
   "cell_type": "code",
   "execution_count": null,
   "metadata": {},
   "outputs": [],
   "source": [
    "class Teste:\n",
    "    def __init__(self):\n",
    "        print('Esse é um construtor inicial sem parâmetros')\n",
    "        \n",
    "    def show(self, nome):\n",
    "        print('Olá,', nome)"
   ]
  },
  {
   "cell_type": "code",
   "execution_count": null,
   "metadata": {},
   "outputs": [
    {
     "name": "stdout",
     "output_type": "stream",
     "text": [
      "Esse é um construtor inicial sem parâmetros\n",
      "Olá, Sara\n"
     ]
    }
   ],
   "source": [
    "t = Teste()\n",
    "t.show('Sara')"
   ]
  },
  {
   "cell_type": "code",
   "execution_count": null,
   "metadata": {},
   "outputs": [],
   "source": [
    "class Fruta:\n",
    "    def __init__(self, nome, cor):\n",
    "        self.nome = nome\n",
    "        self.cor = cor\n",
    "    \n",
    "    def show(self):\n",
    "        print('A fruta é:', self.nome, 'e a cor é', self.cor)"
   ]
  },
  {
   "cell_type": "code",
   "execution_count": null,
   "metadata": {},
   "outputs": [
    {
     "name": "stdout",
     "output_type": "stream",
     "text": [
      "A fruta é: maçã e a cor é vermelha\n"
     ]
    }
   ],
   "source": [
    "obj = Fruta('maçã','vermelha')\n",
    "obj.show()"
   ]
  },
  {
   "cell_type": "markdown",
   "metadata": {},
   "source": [
    "## Biblioteca"
   ]
  },
  {
   "cell_type": "code",
   "execution_count": null,
   "metadata": {},
   "outputs": [
    {
     "ename": "TypeError",
     "evalue": "read_csv() missing 1 required positional argument: 'filepath_or_buffer'",
     "output_type": "error",
     "traceback": [
      "\u001b[0;31m---------------------------------------------------------------------------\u001b[0m",
      "\u001b[0;31mTypeError\u001b[0m                                 Traceback (most recent call last)",
      "\u001b[1;32m/Users/lukaz/Library/CloudStorage/OneDrive-Personal/Documents/Educação/Ultima/GitHub/ultima-python/Módulo_5.ipynb Cell 117\u001b[0m line \u001b[0;36m<cell line: 3>\u001b[0;34m()\u001b[0m\n\u001b[1;32m      <a href='vscode-notebook-cell:/Users/lukaz/Library/CloudStorage/OneDrive-Personal/Documents/Educac%CC%A7a%CC%83o/Ultima/GitHub/ultima-python/M%C3%B3dulo_5.ipynb#Y250sZmlsZQ%3D%3D?line=0'>1</a>\u001b[0m \u001b[39mimport\u001b[39;00m \u001b[39mpandas\u001b[39;00m \u001b[39mas\u001b[39;00m \u001b[39mpd\u001b[39;00m\n\u001b[0;32m----> <a href='vscode-notebook-cell:/Users/lukaz/Library/CloudStorage/OneDrive-Personal/Documents/Educac%CC%A7a%CC%83o/Ultima/GitHub/ultima-python/M%C3%B3dulo_5.ipynb#Y250sZmlsZQ%3D%3D?line=2'>3</a>\u001b[0m df \u001b[39m=\u001b[39m pd\u001b[39m.\u001b[39;49mread_csv()\n",
      "File \u001b[0;32m~/opt/anaconda3/lib/python3.9/site-packages/pandas/util/_decorators.py:311\u001b[0m, in \u001b[0;36mdeprecate_nonkeyword_arguments.<locals>.decorate.<locals>.wrapper\u001b[0;34m(*args, **kwargs)\u001b[0m\n\u001b[1;32m    305\u001b[0m \u001b[39mif\u001b[39;00m \u001b[39mlen\u001b[39m(args) \u001b[39m>\u001b[39m num_allow_args:\n\u001b[1;32m    306\u001b[0m     warnings\u001b[39m.\u001b[39mwarn(\n\u001b[1;32m    307\u001b[0m         msg\u001b[39m.\u001b[39mformat(arguments\u001b[39m=\u001b[39marguments),\n\u001b[1;32m    308\u001b[0m         \u001b[39mFutureWarning\u001b[39;00m,\n\u001b[1;32m    309\u001b[0m         stacklevel\u001b[39m=\u001b[39mstacklevel,\n\u001b[1;32m    310\u001b[0m     )\n\u001b[0;32m--> 311\u001b[0m \u001b[39mreturn\u001b[39;00m func(\u001b[39m*\u001b[39;49margs, \u001b[39m*\u001b[39;49m\u001b[39m*\u001b[39;49mkwargs)\n",
      "\u001b[0;31mTypeError\u001b[0m: read_csv() missing 1 required positional argument: 'filepath_or_buffer'"
     ]
    }
   ],
   "source": [
    "import pandas as pd\n",
    "\n",
    "df = pd.read_csv()"
   ]
  },
  {
   "cell_type": "markdown",
   "metadata": {},
   "source": [
    "# Semana 6 - Importando Dados"
   ]
  },
  {
   "cell_type": "markdown",
   "metadata": {},
   "source": [
    "## De Onde os Analistas de Dados Obtêm Seus Dados"
   ]
  },
  {
   "cell_type": "markdown",
   "metadata": {},
   "source": [
    "### Importando CSV"
   ]
  },
  {
   "cell_type": "code",
   "execution_count": null,
   "metadata": {},
   "outputs": [
    {
     "ename": "FileNotFoundError",
     "evalue": "[Errno 2] No such file or directory: 'meu_arquivo.csv'",
     "output_type": "error",
     "traceback": [
      "\u001b[0;31m---------------------------------------------------------------------------\u001b[0m\n",
      "\u001b[0;31mFileNotFoundError\u001b[0m                         Traceback (most recent call last)\n",
      "\u001b[1;32m/Users/lukaz/Library/CloudStorage/OneDrive-Personal/Documents/Educação/Ultima/GitHub/ultima-python/Módulo_5_Semana_6.ipynb Cell 2\u001b[0m line \u001b[0;36m<cell line: 2>\u001b[0;34m()\u001b[0m\n",
      "\u001b[1;32m      <a href='vscode-notebook-cell:/Users/lukaz/Library/CloudStorage/OneDrive-Personal/Documents/Educac%CC%A7a%CC%83o/Ultima/GitHub/ultima-python/M%C3%B3dulo_5_Semana_6.ipynb#W1sZmlsZQ%3D%3D?line=0'>1</a>\u001b[0m \u001b[39mimport\u001b[39;00m \u001b[39mpandas\u001b[39;00m \u001b[39mas\u001b[39;00m \u001b[39mpd\u001b[39;00m\n",
      "\u001b[0;32m----> <a href='vscode-notebook-cell:/Users/lukaz/Library/CloudStorage/OneDrive-Personal/Documents/Educac%CC%A7a%CC%83o/Ultima/GitHub/ultima-python/M%C3%B3dulo_5_Semana_6.ipynb#W1sZmlsZQ%3D%3D?line=1'>2</a>\u001b[0m df \u001b[39m=\u001b[39m pd\u001b[39m.\u001b[39;49mread_csv(\u001b[39m'\u001b[39;49m\u001b[39mmeu_arquivo.csv\u001b[39;49m\u001b[39m'\u001b[39;49m,sep \u001b[39m=\u001b[39;49m \u001b[39m'\u001b[39;49m\u001b[39m;\u001b[39;49m\u001b[39m'\u001b[39;49m)\n",
      "\u001b[1;32m      <a href='vscode-notebook-cell:/Users/lukaz/Library/CloudStorage/OneDrive-Personal/Documents/Educac%CC%A7a%CC%83o/Ultima/GitHub/ultima-python/M%C3%B3dulo_5_Semana_6.ipynb#W1sZmlsZQ%3D%3D?line=2'>3</a>\u001b[0m df\u001b[39m.\u001b[39mhead()\n",
      "\n",
      "File \u001b[0;32m~/opt/anaconda3/lib/python3.9/site-packages/pandas/util/_decorators.py:311\u001b[0m, in \u001b[0;36mdeprecate_nonkeyword_arguments.<locals>.decorate.<locals>.wrapper\u001b[0;34m(*args, **kwargs)\u001b[0m\n",
      "\u001b[1;32m    305\u001b[0m \u001b[39mif\u001b[39;00m \u001b[39mlen\u001b[39m(args) \u001b[39m>\u001b[39m num_allow_args:\n",
      "\u001b[1;32m    306\u001b[0m     warnings\u001b[39m.\u001b[39mwarn(\n",
      "\u001b[1;32m    307\u001b[0m         msg\u001b[39m.\u001b[39mformat(arguments\u001b[39m=\u001b[39marguments),\n",
      "\u001b[1;32m    308\u001b[0m         \u001b[39mFutureWarning\u001b[39;00m,\n",
      "\u001b[1;32m    309\u001b[0m         stacklevel\u001b[39m=\u001b[39mstacklevel,\n",
      "\u001b[1;32m    310\u001b[0m     )\n",
      "\u001b[0;32m--> 311\u001b[0m \u001b[39mreturn\u001b[39;00m func(\u001b[39m*\u001b[39;49margs, \u001b[39m*\u001b[39;49m\u001b[39m*\u001b[39;49mkwargs)\n",
      "\n",
      "File \u001b[0;32m~/opt/anaconda3/lib/python3.9/site-packages/pandas/io/parsers/readers.py:680\u001b[0m, in \u001b[0;36mread_csv\u001b[0;34m(filepath_or_buffer, sep, delimiter, header, names, index_col, usecols, squeeze, prefix, mangle_dupe_cols, dtype, engine, converters, true_values, false_values, skipinitialspace, skiprows, skipfooter, nrows, na_values, keep_default_na, na_filter, verbose, skip_blank_lines, parse_dates, infer_datetime_format, keep_date_col, date_parser, dayfirst, cache_dates, iterator, chunksize, compression, thousands, decimal, lineterminator, quotechar, quoting, doublequote, escapechar, comment, encoding, encoding_errors, dialect, error_bad_lines, warn_bad_lines, on_bad_lines, delim_whitespace, low_memory, memory_map, float_precision, storage_options)\u001b[0m\n",
      "\u001b[1;32m    665\u001b[0m kwds_defaults \u001b[39m=\u001b[39m _refine_defaults_read(\n",
      "\u001b[1;32m    666\u001b[0m     dialect,\n",
      "\u001b[1;32m    667\u001b[0m     delimiter,\n",
      "\u001b[0;32m   (...)\u001b[0m\n",
      "\u001b[1;32m    676\u001b[0m     defaults\u001b[39m=\u001b[39m{\u001b[39m\"\u001b[39m\u001b[39mdelimiter\u001b[39m\u001b[39m\"\u001b[39m: \u001b[39m\"\u001b[39m\u001b[39m,\u001b[39m\u001b[39m\"\u001b[39m},\n",
      "\u001b[1;32m    677\u001b[0m )\n",
      "\u001b[1;32m    678\u001b[0m kwds\u001b[39m.\u001b[39mupdate(kwds_defaults)\n",
      "\u001b[0;32m--> 680\u001b[0m \u001b[39mreturn\u001b[39;00m _read(filepath_or_buffer, kwds)\n",
      "\n",
      "File \u001b[0;32m~/opt/anaconda3/lib/python3.9/site-packages/pandas/io/parsers/readers.py:575\u001b[0m, in \u001b[0;36m_read\u001b[0;34m(filepath_or_buffer, kwds)\u001b[0m\n",
      "\u001b[1;32m    572\u001b[0m _validate_names(kwds\u001b[39m.\u001b[39mget(\u001b[39m\"\u001b[39m\u001b[39mnames\u001b[39m\u001b[39m\"\u001b[39m, \u001b[39mNone\u001b[39;00m))\n",
      "\u001b[1;32m    574\u001b[0m \u001b[39m# Create the parser.\u001b[39;00m\n",
      "\u001b[0;32m--> 575\u001b[0m parser \u001b[39m=\u001b[39m TextFileReader(filepath_or_buffer, \u001b[39m*\u001b[39;49m\u001b[39m*\u001b[39;49mkwds)\n",
      "\u001b[1;32m    577\u001b[0m \u001b[39mif\u001b[39;00m chunksize \u001b[39mor\u001b[39;00m iterator:\n",
      "\u001b[1;32m    578\u001b[0m     \u001b[39mreturn\u001b[39;00m parser\n",
      "\n",
      "File \u001b[0;32m~/opt/anaconda3/lib/python3.9/site-packages/pandas/io/parsers/readers.py:933\u001b[0m, in \u001b[0;36mTextFileReader.__init__\u001b[0;34m(self, f, engine, **kwds)\u001b[0m\n",
      "\u001b[1;32m    930\u001b[0m     \u001b[39mself\u001b[39m\u001b[39m.\u001b[39moptions[\u001b[39m\"\u001b[39m\u001b[39mhas_index_names\u001b[39m\u001b[39m\"\u001b[39m] \u001b[39m=\u001b[39m kwds[\u001b[39m\"\u001b[39m\u001b[39mhas_index_names\u001b[39m\u001b[39m\"\u001b[39m]\n",
      "\u001b[1;32m    932\u001b[0m \u001b[39mself\u001b[39m\u001b[39m.\u001b[39mhandles: IOHandles \u001b[39m|\u001b[39m \u001b[39mNone\u001b[39;00m \u001b[39m=\u001b[39m \u001b[39mNone\u001b[39;00m\n",
      "\u001b[0;32m--> 933\u001b[0m \u001b[39mself\u001b[39m\u001b[39m.\u001b[39m_engine \u001b[39m=\u001b[39m \u001b[39mself\u001b[39;49m\u001b[39m.\u001b[39;49m_make_engine(f, \u001b[39mself\u001b[39;49m\u001b[39m.\u001b[39;49mengine)\n",
      "\n",
      "File \u001b[0;32m~/opt/anaconda3/lib/python3.9/site-packages/pandas/io/parsers/readers.py:1217\u001b[0m, in \u001b[0;36mTextFileReader._make_engine\u001b[0;34m(self, f, engine)\u001b[0m\n",
      "\u001b[1;32m   1213\u001b[0m     mode \u001b[39m=\u001b[39m \u001b[39m\"\u001b[39m\u001b[39mrb\u001b[39m\u001b[39m\"\u001b[39m\n",
      "\u001b[1;32m   1214\u001b[0m \u001b[39m# error: No overload variant of \"get_handle\" matches argument types\u001b[39;00m\n",
      "\u001b[1;32m   1215\u001b[0m \u001b[39m# \"Union[str, PathLike[str], ReadCsvBuffer[bytes], ReadCsvBuffer[str]]\"\u001b[39;00m\n",
      "\u001b[1;32m   1216\u001b[0m \u001b[39m# , \"str\", \"bool\", \"Any\", \"Any\", \"Any\", \"Any\", \"Any\"\u001b[39;00m\n",
      "\u001b[0;32m-> 1217\u001b[0m \u001b[39mself\u001b[39m\u001b[39m.\u001b[39mhandles \u001b[39m=\u001b[39m get_handle(  \u001b[39m# type: ignore[call-overload]\u001b[39;49;00m\n",
      "\u001b[1;32m   1218\u001b[0m     f,\n",
      "\u001b[1;32m   1219\u001b[0m     mode,\n",
      "\u001b[1;32m   1220\u001b[0m     encoding\u001b[39m=\u001b[39;49m\u001b[39mself\u001b[39;49m\u001b[39m.\u001b[39;49moptions\u001b[39m.\u001b[39;49mget(\u001b[39m\"\u001b[39;49m\u001b[39mencoding\u001b[39;49m\u001b[39m\"\u001b[39;49m, \u001b[39mNone\u001b[39;49;00m),\n",
      "\u001b[1;32m   1221\u001b[0m     compression\u001b[39m=\u001b[39;49m\u001b[39mself\u001b[39;49m\u001b[39m.\u001b[39;49moptions\u001b[39m.\u001b[39;49mget(\u001b[39m\"\u001b[39;49m\u001b[39mcompression\u001b[39;49m\u001b[39m\"\u001b[39;49m, \u001b[39mNone\u001b[39;49;00m),\n",
      "\u001b[1;32m   1222\u001b[0m     memory_map\u001b[39m=\u001b[39;49m\u001b[39mself\u001b[39;49m\u001b[39m.\u001b[39;49moptions\u001b[39m.\u001b[39;49mget(\u001b[39m\"\u001b[39;49m\u001b[39mmemory_map\u001b[39;49m\u001b[39m\"\u001b[39;49m, \u001b[39mFalse\u001b[39;49;00m),\n",
      "\u001b[1;32m   1223\u001b[0m     is_text\u001b[39m=\u001b[39;49mis_text,\n",
      "\u001b[1;32m   1224\u001b[0m     errors\u001b[39m=\u001b[39;49m\u001b[39mself\u001b[39;49m\u001b[39m.\u001b[39;49moptions\u001b[39m.\u001b[39;49mget(\u001b[39m\"\u001b[39;49m\u001b[39mencoding_errors\u001b[39;49m\u001b[39m\"\u001b[39;49m, \u001b[39m\"\u001b[39;49m\u001b[39mstrict\u001b[39;49m\u001b[39m\"\u001b[39;49m),\n",
      "\u001b[1;32m   1225\u001b[0m     storage_options\u001b[39m=\u001b[39;49m\u001b[39mself\u001b[39;49m\u001b[39m.\u001b[39;49moptions\u001b[39m.\u001b[39;49mget(\u001b[39m\"\u001b[39;49m\u001b[39mstorage_options\u001b[39;49m\u001b[39m\"\u001b[39;49m, \u001b[39mNone\u001b[39;49;00m),\n",
      "\u001b[1;32m   1226\u001b[0m )\n",
      "\u001b[1;32m   1227\u001b[0m \u001b[39massert\u001b[39;00m \u001b[39mself\u001b[39m\u001b[39m.\u001b[39mhandles \u001b[39mis\u001b[39;00m \u001b[39mnot\u001b[39;00m \u001b[39mNone\u001b[39;00m\n",
      "\u001b[1;32m   1228\u001b[0m f \u001b[39m=\u001b[39m \u001b[39mself\u001b[39m\u001b[39m.\u001b[39mhandles\u001b[39m.\u001b[39mhandle\n",
      "\n",
      "File \u001b[0;32m~/opt/anaconda3/lib/python3.9/site-packages/pandas/io/common.py:789\u001b[0m, in \u001b[0;36mget_handle\u001b[0;34m(path_or_buf, mode, encoding, compression, memory_map, is_text, errors, storage_options)\u001b[0m\n",
      "\u001b[1;32m    784\u001b[0m \u001b[39melif\u001b[39;00m \u001b[39misinstance\u001b[39m(handle, \u001b[39mstr\u001b[39m):\n",
      "\u001b[1;32m    785\u001b[0m     \u001b[39m# Check whether the filename is to be opened in binary mode.\u001b[39;00m\n",
      "\u001b[1;32m    786\u001b[0m     \u001b[39m# Binary mode does not support 'encoding' and 'newline'.\u001b[39;00m\n",
      "\u001b[1;32m    787\u001b[0m     \u001b[39mif\u001b[39;00m ioargs\u001b[39m.\u001b[39mencoding \u001b[39mand\u001b[39;00m \u001b[39m\"\u001b[39m\u001b[39mb\u001b[39m\u001b[39m\"\u001b[39m \u001b[39mnot\u001b[39;00m \u001b[39min\u001b[39;00m ioargs\u001b[39m.\u001b[39mmode:\n",
      "\u001b[1;32m    788\u001b[0m         \u001b[39m# Encoding\u001b[39;00m\n",
      "\u001b[0;32m--> 789\u001b[0m         handle \u001b[39m=\u001b[39m \u001b[39mopen\u001b[39;49m(\n",
      "\u001b[1;32m    790\u001b[0m             handle,\n",
      "\u001b[1;32m    791\u001b[0m             ioargs\u001b[39m.\u001b[39;49mmode,\n",
      "\u001b[1;32m    792\u001b[0m             encoding\u001b[39m=\u001b[39;49mioargs\u001b[39m.\u001b[39;49mencoding,\n",
      "\u001b[1;32m    793\u001b[0m             errors\u001b[39m=\u001b[39;49merrors,\n",
      "\u001b[1;32m    794\u001b[0m             newline\u001b[39m=\u001b[39;49m\u001b[39m\"\u001b[39;49m\u001b[39m\"\u001b[39;49m,\n",
      "\u001b[1;32m    795\u001b[0m         )\n",
      "\u001b[1;32m    796\u001b[0m     \u001b[39melse\u001b[39;00m:\n",
      "\u001b[1;32m    797\u001b[0m         \u001b[39m# Binary mode\u001b[39;00m\n",
      "\u001b[1;32m    798\u001b[0m         handle \u001b[39m=\u001b[39m \u001b[39mopen\u001b[39m(handle, ioargs\u001b[39m.\u001b[39mmode)\n",
      "\n",
      "\u001b[0;31mFileNotFoundError\u001b[0m: [Errno 2] No such file or directory: 'meu_arquivo.csv'"
     ]
    }
   ],
   "source": [
    "import pandas as pd\n",
    "df = pd.read_csv('meu_arquivo.csv',sep = ';')\n",
    "df.head()"
   ]
  },
  {
   "cell_type": "markdown",
   "metadata": {},
   "source": [
    "### Importando XLSX"
   ]
  },
  {
   "cell_type": "code",
   "execution_count": null,
   "metadata": {},
   "outputs": [
    {
     "ename": "NameError",
     "evalue": "name 'pd' is not defined",
     "output_type": "error",
     "traceback": [
      "\u001b[0;31m---------------------------------------------------------------------------\u001b[0m\n",
      "\u001b[0;31mNameError\u001b[0m                                 Traceback (most recent call last)\n",
      "\u001b[1;32m/Users/lukaz/Library/CloudStorage/OneDrive-Personal/Documents/Educação/Ultima/GitHub/ultima-python/Módulo_5_Semana_6.ipynb Cell 4\u001b[0m line \u001b[0;36m1\n",
      "\u001b[0;32m----> <a href='vscode-notebook-cell:/Users/lukaz/Library/CloudStorage/OneDrive-Personal/Documents/Educac%CC%A7a%CC%83o/Ultima/GitHub/ultima-python/M%C3%B3dulo_5_Semana_6.ipynb#W3sZmlsZQ%3D%3D?line=0'>1</a>\u001b[0m df2 \u001b[39m=\u001b[39m pd\u001b[39m.\u001b[39mread\u001b[39m.\u001b[39mexcel(\u001b[39m'\u001b[39m\u001b[39mmeu_arquivo.xlsx\u001b[39m\u001b[39m'\u001b[39m)\n",
      "\u001b[1;32m      <a href='vscode-notebook-cell:/Users/lukaz/Library/CloudStorage/OneDrive-Personal/Documents/Educac%CC%A7a%CC%83o/Ultima/GitHub/ultima-python/M%C3%B3dulo_5_Semana_6.ipynb#W3sZmlsZQ%3D%3D?line=1'>2</a>\u001b[0m df2\u001b[39m.\u001b[39mhead()\n",
      "\n",
      "\u001b[0;31mNameError\u001b[0m: name 'pd' is not defined"
     ]
    }
   ],
   "source": [
    "df2 = pd.read.excel('meu_arquivo.xlsx')\n",
    "df2.head()"
   ]
  },
  {
   "cell_type": "markdown",
   "metadata": {},
   "source": [
    "### Importanto TXT"
   ]
  },
  {
   "cell_type": "code",
   "execution_count": null,
   "metadata": {},
   "outputs": [
    {
     "ename": "SyntaxError",
     "evalue": "invalid syntax (1589810391.py, line 1)",
     "output_type": "error",
     "traceback": [
      "\u001b[0;36m  Cell \u001b[0;32mIn[4], line 1\u001b[0;36m\u001b[0m\n",
      "\u001b[0;31m    with.open('meu_arquivo.txt') as f:\u001b[0m\n",
      "\u001b[0m        ^\u001b[0m\n",
      "\u001b[0;31mSyntaxError\u001b[0m\u001b[0;31m:\u001b[0m invalid syntax\n"
     ]
    }
   ],
   "source": [
    "\n",
    "with.open('meu_arquivo.txt') as f:\n",
    "    meu_teste = f.read()\n",
    "    \n",
    "meu_teste\n"
   ]
  },
  {
   "cell_type": "markdown",
   "metadata": {},
   "source": [
    "### Importando Imagen (JPG)"
   ]
  },
  {
   "cell_type": "code",
   "execution_count": null,
   "metadata": {},
   "outputs": [
    {
     "ename": "ModuleNotFoundError",
     "evalue": "No module named 'matplotlib'",
     "output_type": "error",
     "traceback": [
      "\u001b[0;31m---------------------------------------------------------------------------\u001b[0m\n",
      "\u001b[0;31mModuleNotFoundError\u001b[0m                       Traceback (most recent call last)\n",
      "\u001b[1;32m/Users/lukaz/Library/CloudStorage/OneDrive-Personal/Documents/Educação/Ultima/GitHub/ultima-python/Módulo_5_Semana_6.ipynb Cell 8\u001b[0m line \u001b[0;36m1\n",
      "\u001b[0;32m----> <a href='vscode-notebook-cell:/Users/lukaz/Library/CloudStorage/OneDrive-Personal/Documents/Educac%CC%A7a%CC%83o/Ultima/GitHub/ultima-python/M%C3%B3dulo_5_Semana_6.ipynb#X11sZmlsZQ%3D%3D?line=0'>1</a>\u001b[0m \u001b[39mimport\u001b[39;00m \u001b[39mmatplotlib\u001b[39;00m\u001b[39m.\u001b[39;00m\u001b[39mpyplot\u001b[39;00m \u001b[39mas\u001b[39;00m \u001b[39mplt\u001b[39;00m\n",
      "\u001b[1;32m      <a href='vscode-notebook-cell:/Users/lukaz/Library/CloudStorage/OneDrive-Personal/Documents/Educac%CC%A7a%CC%83o/Ultima/GitHub/ultima-python/M%C3%B3dulo_5_Semana_6.ipynb#X11sZmlsZQ%3D%3D?line=1'>2</a>\u001b[0m \u001b[39mimport\u001b[39;00m \u001b[39mmatplotlib\u001b[39;00m\u001b[39m.\u001b[39;00m\u001b[39mimage\u001b[39;00m \u001b[39mas\u001b[39;00m \u001b[39mmpimg\u001b[39;00m\n",
      "\u001b[1;32m      <a href='vscode-notebook-cell:/Users/lukaz/Library/CloudStorage/OneDrive-Personal/Documents/Educac%CC%A7a%CC%83o/Ultima/GitHub/ultima-python/M%C3%B3dulo_5_Semana_6.ipynb#X11sZmlsZQ%3D%3D?line=3'>4</a>\u001b[0m img \u001b[39m=\u001b[39m mpimg\u001b[39m.\u001b[39mimread(\u001b[39m'\u001b[39m\u001b[39mmeu_arquivo.jpg\u001b[39m\u001b[39m'\u001b[39m)\n",
      "\n",
      "\u001b[0;31mModuleNotFoundError\u001b[0m: No module named 'matplotlib'"
     ]
    }
   ],
   "source": [
    "import matplotlib.pyplot as plt\n",
    "import matplotlib.image as mpimg\n",
    "\n",
    "img = mpimg.imread('meu_arquivo.jpg')\n",
    "\n",
    "imgplot = plt.imshow(img)\n"
   ]
  },
  {
   "cell_type": "code",
   "execution_count": null,
   "metadata": {},
   "outputs": [
    {
     "ename": "ModuleNotFoundError",
     "evalue": "No module named 'PIL'",
     "output_type": "error",
     "traceback": [
      "\u001b[0;31m---------------------------------------------------------------------------\u001b[0m\n",
      "\u001b[0;31mModuleNotFoundError\u001b[0m                       Traceback (most recent call last)\n",
      "\u001b[1;32m/Users/lukaz/Library/CloudStorage/OneDrive-Personal/Documents/Educação/Ultima/GitHub/ultima-python/Módulo_5_Semana_6.ipynb Cell 9\u001b[0m line \u001b[0;36m1\n",
      "\u001b[0;32m----> <a href='vscode-notebook-cell:/Users/lukaz/Library/CloudStorage/OneDrive-Personal/Documents/Educac%CC%A7a%CC%83o/Ultima/GitHub/ultima-python/M%C3%B3dulo_5_Semana_6.ipynb#X12sZmlsZQ%3D%3D?line=0'>1</a>\u001b[0m \u001b[39mfrom\u001b[39;00m \u001b[39mPIL\u001b[39;00m \u001b[39mimport\u001b[39;00m Image\n",
      "\u001b[1;32m      <a href='vscode-notebook-cell:/Users/lukaz/Library/CloudStorage/OneDrive-Personal/Documents/Educac%CC%A7a%CC%83o/Ultima/GitHub/ultima-python/M%C3%B3dulo_5_Semana_6.ipynb#X12sZmlsZQ%3D%3D?line=1'>2</a>\u001b[0m image \u001b[39m=\u001b[39m Image\u001b[39m.\u001b[39mopen(\u001b[39m'\u001b[39m\u001b[39mmeu_arquivo.jpg\u001b[39m\u001b[39m'\u001b[39m)\n",
      "\u001b[1;32m      <a href='vscode-notebook-cell:/Users/lukaz/Library/CloudStorage/OneDrive-Personal/Documents/Educac%CC%A7a%CC%83o/Ultima/GitHub/ultima-python/M%C3%B3dulo_5_Semana_6.ipynb#X12sZmlsZQ%3D%3D?line=2'>3</a>\u001b[0m image\n",
      "\n",
      "\u001b[0;31mModuleNotFoundError\u001b[0m: No module named 'PIL'"
     ]
    }
   ],
   "source": [
    "from PIL import Image\n",
    "image = Image.open('meu_arquivo.jpg')\n",
    "image"
   ]
  },
  {
   "cell_type": "markdown",
   "metadata": {},
   "source": [
    "### Importando dados da web"
   ]
  },
  {
   "cell_type": "code",
   "execution_count": null,
   "metadata": {},
   "outputs": [],
   "source": []
  },
  {
   "cell_type": "markdown",
   "metadata": {},
   "source": []
  },
  {
   "cell_type": "markdown",
   "metadata": {},
   "source": [
    "# Semana 7 - Raspagem de Dados: Web Scraping I"
   ]
  },
  {
   "cell_type": "markdown",
   "metadata": {},
   "source": [
    "## Master Class"
   ]
  },
  {
   "cell_type": "markdown",
   "metadata": {},
   "source": [
    "### Fernanda Santos"
   ]
  },
  {
   "cell_type": "markdown",
   "metadata": {},
   "source": [
    "#### API"
   ]
  },
  {
   "cell_type": "code",
   "execution_count": 74,
   "metadata": {},
   "outputs": [],
   "source": [
    "import pandas as pd\n",
    "import requests"
   ]
  },
  {
   "cell_type": "markdown",
   "metadata": {},
   "source": [
    "##### Letras de Músicas"
   ]
  },
  {
   "cell_type": "code",
   "execution_count": 75,
   "metadata": {},
   "outputs": [],
   "source": [
    "letra = requests.get(\"https://api.lyrics.ovh/v1/Coldplay/Adventure of a Lifetime\")"
   ]
  },
  {
   "cell_type": "markdown",
   "metadata": {},
   "source": [
    "##### Cotação de Moedas"
   ]
  },
  {
   "cell_type": "code",
   "execution_count": 77,
   "metadata": {},
   "outputs": [
    {
     "name": "stdout",
     "output_type": "stream",
     "text": [
      "5.1514\n"
     ]
    }
   ],
   "source": [
    "cotacoes = requests.get(\"https://economia.awesomeapi.com.br/last/USD-BRL,EUR-BRL,EUR-BRL,BTC-BRL\")\n",
    "cot_dic = cotacoes.json()\n",
    "cotacao_dolar = cot_dic['USDBRL']['bid']\n",
    "print(cotacao_dolar)"
   ]
  },
  {
   "cell_type": "code",
   "execution_count": 78,
   "metadata": {},
   "outputs": [
    {
     "data": {
      "text/plain": [
       "{'USDBRL': {'code': 'USD',\n",
       "  'codein': 'BRL',\n",
       "  'name': 'Dólar Americano/Real Brasileiro',\n",
       "  'high': '5.22',\n",
       "  'low': '5.146',\n",
       "  'varBid': '-0.0129',\n",
       "  'pctChange': '-0.25',\n",
       "  'bid': '5.1514',\n",
       "  'ask': '5.1544',\n",
       "  'timestamp': '1696625462',\n",
       "  'create_date': '2023-10-06 17:51:02'},\n",
       " 'EURBRL': {'code': 'EUR',\n",
       "  'codein': 'BRL',\n",
       "  'name': 'Euro/Real Brasileiro',\n",
       "  'high': '5.4818',\n",
       "  'low': '5.4231',\n",
       "  'varBid': '0.0143',\n",
       "  'pctChange': '0.26',\n",
       "  'bid': '5.4628',\n",
       "  'ask': '5.4708',\n",
       "  'timestamp': '1696625467',\n",
       "  'create_date': '2023-10-06 17:51:07'},\n",
       " 'BTCBRL': {'code': 'BTC',\n",
       "  'codein': 'BRL',\n",
       "  'name': 'Bitcoin/Real Brasileiro',\n",
       "  'high': '145365',\n",
       "  'low': '141927',\n",
       "  'varBid': '2101',\n",
       "  'pctChange': '1.47',\n",
       "  'bid': '144690',\n",
       "  'ask': '144876',\n",
       "  'timestamp': '1696625466',\n",
       "  'create_date': '2023-10-06 17:51:06'}}"
      ]
     },
     "execution_count": 78,
     "metadata": {},
     "output_type": "execute_result"
    }
   ],
   "source": [
    "cot_dic"
   ]
  },
  {
   "cell_type": "markdown",
   "metadata": {},
   "source": []
  },
  {
   "cell_type": "markdown",
   "metadata": {},
   "source": [
    "## Atividade\n",
    "1. Inicie o navegador usando Python;\n",
    "2. Insira a URL correta;\n",
    "3. Verifique se algum pop-up ou cookie aparece;\n",
    "4. Encontre a barra de busca;\n",
    "5. Escreva nela “Cientista de Dados” ou “Ciência de Dados”;\n",
    "6. Leia a informação das posições (companhia, nome e qualquer outro dado que achar relevante);\n",
    "7. Extraia esses dados e apresente-os em tela.\n",
    "\n",
    "O arquivo com o seu código deve se chamar linkedin_scraper.py e ser enviado via plataforma para o professor para correção. Use como base para sua extração os códigos apresentados nesta lição."
   ]
  },
  {
   "cell_type": "code",
   "execution_count": 2,
   "metadata": {},
   "outputs": [
    {
     "name": "stdout",
     "output_type": "stream",
     "text": [
      "Collecting selenium\n",
      "  Downloading selenium-4.14.0-py3-none-any.whl (9.9 MB)\n",
      "\u001b[K     |████████████████████████████████| 9.9 MB 4.7 MB/s eta 0:00:01\n",
      "\u001b[?25hCollecting trio-websocket~=0.9\n",
      "  Downloading trio_websocket-0.11.1-py3-none-any.whl (17 kB)\n",
      "Requirement already satisfied: urllib3[socks]<3,>=1.26 in /Users/lukaz/opt/anaconda3/lib/python3.9/site-packages (from selenium) (1.26.9)\n",
      "Requirement already satisfied: certifi>=2021.10.8 in /Users/lukaz/opt/anaconda3/lib/python3.9/site-packages (from selenium) (2021.10.8)\n",
      "Collecting trio~=0.17\n",
      "  Downloading trio-0.22.2-py3-none-any.whl (400 kB)\n",
      "\u001b[K     |████████████████████████████████| 400 kB 58.9 MB/s eta 0:00:01\n",
      "\u001b[?25hRequirement already satisfied: sortedcontainers in /Users/lukaz/opt/anaconda3/lib/python3.9/site-packages (from trio~=0.17->selenium) (2.4.0)\n",
      "Collecting exceptiongroup>=1.0.0rc9\n",
      "  Using cached exceptiongroup-1.1.3-py3-none-any.whl (14 kB)\n",
      "Requirement already satisfied: sniffio in /Users/lukaz/opt/anaconda3/lib/python3.9/site-packages (from trio~=0.17->selenium) (1.2.0)\n",
      "Requirement already satisfied: idna in /Users/lukaz/opt/anaconda3/lib/python3.9/site-packages (from trio~=0.17->selenium) (3.3)\n",
      "Requirement already satisfied: attrs>=20.1.0 in /Users/lukaz/opt/anaconda3/lib/python3.9/site-packages (from trio~=0.17->selenium) (21.4.0)\n",
      "Collecting outcome\n",
      "  Downloading outcome-1.2.0-py2.py3-none-any.whl (9.7 kB)\n",
      "Collecting wsproto>=0.14\n",
      "  Downloading wsproto-1.2.0-py3-none-any.whl (24 kB)\n",
      "Requirement already satisfied: PySocks!=1.5.7,<2.0,>=1.5.6 in /Users/lukaz/opt/anaconda3/lib/python3.9/site-packages (from urllib3[socks]<3,>=1.26->selenium) (1.7.1)\n",
      "Collecting h11<1,>=0.9.0\n",
      "  Downloading h11-0.14.0-py3-none-any.whl (58 kB)\n",
      "\u001b[K     |████████████████████████████████| 58 kB 35.5 MB/s eta 0:00:01\n",
      "\u001b[?25hInstalling collected packages: outcome, h11, exceptiongroup, wsproto, trio, trio-websocket, selenium\n",
      "Successfully installed exceptiongroup-1.1.3 h11-0.14.0 outcome-1.2.0 selenium-4.14.0 trio-0.22.2 trio-websocket-0.11.1 wsproto-1.2.0\n",
      "Note: you may need to restart the kernel to use updated packages.\n"
     ]
    }
   ],
   "source": [
    "pip install selenium"
   ]
  },
  {
   "cell_type": "code",
   "execution_count": 2,
   "metadata": {},
   "outputs": [
    {
     "name": "stdout",
     "output_type": "stream",
     "text": [
      "Requirement already satisfied: pandas in /Users/lukaz/opt/anaconda3/lib/python3.9/site-packages (1.4.2)\n",
      "Requirement already satisfied: python-dateutil>=2.8.1 in /Users/lukaz/opt/anaconda3/lib/python3.9/site-packages (from pandas) (2.8.2)\n",
      "Requirement already satisfied: pytz>=2020.1 in /Users/lukaz/opt/anaconda3/lib/python3.9/site-packages (from pandas) (2021.3)\n",
      "Requirement already satisfied: numpy>=1.18.5 in /Users/lukaz/opt/anaconda3/lib/python3.9/site-packages (from pandas) (1.21.5)\n",
      "Requirement already satisfied: six>=1.5 in /Users/lukaz/opt/anaconda3/lib/python3.9/site-packages (from python-dateutil>=2.8.1->pandas) (1.16.0)\n"
     ]
    }
   ],
   "source": [
    "!pip install pandas"
   ]
  },
  {
   "cell_type": "code",
   "execution_count": 8,
   "metadata": {},
   "outputs": [
    {
     "ename": "ImportError",
     "evalue": "cannot import name 'Beaultifulsoup' from 'bs4' (/Users/lukaz/opt/anaconda3/lib/python3.9/site-packages/bs4/__init__.py)",
     "output_type": "error",
     "traceback": [
      "\u001b[0;31m---------------------------------------------------------------------------\u001b[0m",
      "\u001b[0;31mImportError\u001b[0m                               Traceback (most recent call last)",
      "\u001b[1;32m/Users/lukaz/Library/CloudStorage/OneDrive-Personal/Documents/Educação/Ultima/GitHub/ultima-python/Módulo_5.ipynb Cell 338\u001b[0m line \u001b[0;36m<cell line: 2>\u001b[0;34m()\u001b[0m\n\u001b[1;32m      <a href='vscode-notebook-cell:/Users/lukaz/Library/CloudStorage/OneDrive-Personal/Documents/Educac%CC%A7a%CC%83o/Ultima/GitHub/ultima-python/M%C3%B3dulo_5.ipynb#Z1013sZmlsZQ%3D%3D?line=0'>1</a>\u001b[0m \u001b[39mimport\u001b[39;00m \u001b[39mrequests\u001b[39;00m\n\u001b[0;32m----> <a href='vscode-notebook-cell:/Users/lukaz/Library/CloudStorage/OneDrive-Personal/Documents/Educac%CC%A7a%CC%83o/Ultima/GitHub/ultima-python/M%C3%B3dulo_5.ipynb#Z1013sZmlsZQ%3D%3D?line=1'>2</a>\u001b[0m \u001b[39mfrom\u001b[39;00m \u001b[39mbs4\u001b[39;00m \u001b[39mimport\u001b[39;00m Beaultifulsoup\n\u001b[1;32m      <a href='vscode-notebook-cell:/Users/lukaz/Library/CloudStorage/OneDrive-Personal/Documents/Educac%CC%A7a%CC%83o/Ultima/GitHub/ultima-python/M%C3%B3dulo_5.ipynb#Z1013sZmlsZQ%3D%3D?line=2'>3</a>\u001b[0m \u001b[39mimport\u001b[39;00m \u001b[39mmath\u001b[39;00m\n\u001b[1;32m      <a href='vscode-notebook-cell:/Users/lukaz/Library/CloudStorage/OneDrive-Personal/Documents/Educac%CC%A7a%CC%83o/Ultima/GitHub/ultima-python/M%C3%B3dulo_5.ipynb#Z1013sZmlsZQ%3D%3D?line=3'>4</a>\u001b[0m \u001b[39mimport\u001b[39;00m \u001b[39mpandas\u001b[39;00m \u001b[39mas\u001b[39;00m \u001b[39mpd\u001b[39;00m\n",
      "\u001b[0;31mImportError\u001b[0m: cannot import name 'Beaultifulsoup' from 'bs4' (/Users/lukaz/opt/anaconda3/lib/python3.9/site-packages/bs4/__init__.py)"
     ]
    }
   ],
   "source": [
    "import requests\n",
    "from bs4 import Beaultifulsoup\n",
    "import math\n",
    "import pandas as pd\n"
   ]
  },
  {
   "cell_type": "code",
   "execution_count": 3,
   "metadata": {},
   "outputs": [],
   "source": [
    "l = []\n",
    "o = {}\n",
    "k = []"
   ]
  },
  {
   "cell_type": "code",
   "execution_count": 4,
   "metadata": {},
   "outputs": [
    {
     "ename": "NameError",
     "evalue": "name 'math' is not defined",
     "output_type": "error",
     "traceback": [
      "\u001b[0;31m---------------------------------------------------------------------------\u001b[0m",
      "\u001b[0;31mNameError\u001b[0m                                 Traceback (most recent call last)",
      "\u001b[1;32m/Users/lukaz/Library/CloudStorage/OneDrive-Personal/Documents/Educação/Ultima/GitHub/ultima-python/Módulo_5.ipynb Cell 339\u001b[0m line \u001b[0;36m<cell line: 1>\u001b[0;34m()\u001b[0m\n\u001b[0;32m----> <a href='vscode-notebook-cell:/Users/lukaz/Library/CloudStorage/OneDrive-Personal/Documents/Educac%CC%A7a%CC%83o/Ultima/GitHub/ultima-python/M%C3%B3dulo_5.ipynb#Z1000sZmlsZQ%3D%3D?line=0'>1</a>\u001b[0m \u001b[39mfor\u001b[39;00m i \u001b[39min\u001b[39;00m \u001b[39mrange\u001b[39m (\u001b[39m0\u001b[39m, math\u001b[39m.\u001b[39mcell(\u001b[39m176\u001b[39m\u001b[39m/\u001b[39m\u001b[39m8\u001b[39m)):\n\u001b[1;32m      <a href='vscode-notebook-cell:/Users/lukaz/Library/CloudStorage/OneDrive-Personal/Documents/Educac%CC%A7a%CC%83o/Ultima/GitHub/ultima-python/M%C3%B3dulo_5.ipynb#Z1000sZmlsZQ%3D%3D?line=2'>3</a>\u001b[0m     res \u001b[39m=\u001b[39m request\u001b[39m.\u001b[39mget(target_url\u001b[39m.\u001b[39mformat(i))\n\u001b[1;32m      <a href='vscode-notebook-cell:/Users/lukaz/Library/CloudStorage/OneDrive-Personal/Documents/Educac%CC%A7a%CC%83o/Ultima/GitHub/ultima-python/M%C3%B3dulo_5.ipynb#Z1000sZmlsZQ%3D%3D?line=4'>5</a>\u001b[0m     soup \u001b[39m=\u001b[39m Beatifulsoup(res\u001b[39m.\u001b[39mtext, \u001b[39m'\u001b[39m\u001b[39mhtml.parser\u001b[39m\u001b[39m'\u001b[39m)\n",
      "\u001b[0;31mNameError\u001b[0m: name 'math' is not defined"
     ]
    }
   ],
   "source": [
    "for i in range (0, math.cell(176/8)):\n",
    "    \n",
    "    res = request.get(target_url.format(i))\n",
    "    \n",
    "    soup = Beatifulsoup(res.text, 'html.parser')\n",
    "    \n",
    "    alljobs_on_this_page = soup.find_all(\"li\")\n",
    "    \n",
    "    print(len(alljobs_on_this_page))\n",
    "    \n",
    "    for x in range(0, len(alljobs_on_this_page)):\n",
    "        \n",
    "        jobid = alljobs_on_this_page[x].find(\"div\", {\"class\": \"base-card\"}).get('data-entity-urn').split(\":\")[3]\n",
    "        \n",
    "        l.append(jobid)"
   ]
  },
  {
   "cell_type": "code",
   "execution_count": 5,
   "metadata": {},
   "outputs": [
    {
     "data": {
      "text/plain": [
       "[]"
      ]
     },
     "execution_count": 5,
     "metadata": {},
     "output_type": "execute_result"
    }
   ],
   "source": [
    "k"
   ]
  },
  {
   "cell_type": "markdown",
   "metadata": {},
   "source": [
    "import webbrowser\n",
    "\n",
    "url = \"https://www.linkedin.com\"\n",
    "\n",
    "webbrowser.open(url)"
   ]
  },
  {
   "cell_type": "markdown",
   "metadata": {},
   "source": [
    "## Live Class - 17/10"
   ]
  },
  {
   "cell_type": "code",
   "execution_count": 9,
   "metadata": {},
   "outputs": [
    {
     "name": "stdout",
     "output_type": "stream",
     "text": [
      "Collecting requests-html\n",
      "  Downloading requests_html-0.10.0-py3-none-any.whl (13 kB)\n",
      "Collecting parse\n",
      "  Downloading parse-1.19.1-py2.py3-none-any.whl (18 kB)\n",
      "Requirement already satisfied: w3lib in /Users/lukaz/opt/anaconda3/lib/python3.9/site-packages (from requests-html) (1.21.0)\n",
      "Collecting pyppeteer>=0.0.14\n",
      "  Downloading pyppeteer-1.0.2-py3-none-any.whl (83 kB)\n",
      "\u001b[K     |████████████████████████████████| 83 kB 5.6 MB/s eta 0:00:01\n",
      "\u001b[?25hCollecting pyquery\n",
      "  Downloading pyquery-2.0.0-py3-none-any.whl (22 kB)\n",
      "Requirement already satisfied: requests in /Users/lukaz/opt/anaconda3/lib/python3.9/site-packages (from requests-html) (2.27.1)\n",
      "Collecting bs4\n",
      "  Downloading bs4-0.0.1.tar.gz (1.1 kB)\n",
      "Collecting fake-useragent\n",
      "  Downloading fake_useragent-1.3.0-py3-none-any.whl (15 kB)\n",
      "Collecting pyee<9.0.0,>=8.1.0\n",
      "  Downloading pyee-8.2.2-py2.py3-none-any.whl (12 kB)\n",
      "Collecting websockets<11.0,>=10.0\n",
      "  Downloading websockets-10.4-cp39-cp39-macosx_10_9_x86_64.whl (97 kB)\n",
      "\u001b[K     |████████████████████████████████| 97 kB 44.4 MB/s  eta 0:00:01\n",
      "\u001b[?25hRequirement already satisfied: certifi>=2021 in /Users/lukaz/opt/anaconda3/lib/python3.9/site-packages (from pyppeteer>=0.0.14->requests-html) (2021.10.8)\n",
      "Requirement already satisfied: importlib-metadata>=1.4 in /Users/lukaz/opt/anaconda3/lib/python3.9/site-packages (from pyppeteer>=0.0.14->requests-html) (4.11.3)\n",
      "Requirement already satisfied: urllib3<2.0.0,>=1.25.8 in /Users/lukaz/opt/anaconda3/lib/python3.9/site-packages (from pyppeteer>=0.0.14->requests-html) (1.26.9)\n",
      "Requirement already satisfied: tqdm<5.0.0,>=4.42.1 in /Users/lukaz/opt/anaconda3/lib/python3.9/site-packages (from pyppeteer>=0.0.14->requests-html) (4.64.0)\n",
      "Requirement already satisfied: appdirs<2.0.0,>=1.4.3 in /Users/lukaz/opt/anaconda3/lib/python3.9/site-packages (from pyppeteer>=0.0.14->requests-html) (1.4.4)\n",
      "Requirement already satisfied: zipp>=0.5 in /Users/lukaz/opt/anaconda3/lib/python3.9/site-packages (from importlib-metadata>=1.4->pyppeteer>=0.0.14->requests-html) (3.7.0)\n",
      "Requirement already satisfied: beautifulsoup4 in /Users/lukaz/opt/anaconda3/lib/python3.9/site-packages (from bs4->requests-html) (4.11.1)\n",
      "Requirement already satisfied: soupsieve>1.2 in /Users/lukaz/opt/anaconda3/lib/python3.9/site-packages (from beautifulsoup4->bs4->requests-html) (2.3.1)\n",
      "Collecting importlib-resources>=5.0\n",
      "  Downloading importlib_resources-6.1.0-py3-none-any.whl (33 kB)\n",
      "Requirement already satisfied: lxml>=2.1 in /Users/lukaz/opt/anaconda3/lib/python3.9/site-packages (from pyquery->requests-html) (4.8.0)\n",
      "Collecting cssselect>=1.2.0\n",
      "  Downloading cssselect-1.2.0-py2.py3-none-any.whl (18 kB)\n",
      "Requirement already satisfied: charset-normalizer~=2.0.0 in /Users/lukaz/opt/anaconda3/lib/python3.9/site-packages (from requests->requests-html) (2.0.4)\n",
      "Requirement already satisfied: idna<4,>=2.5 in /Users/lukaz/opt/anaconda3/lib/python3.9/site-packages (from requests->requests-html) (3.3)\n",
      "Requirement already satisfied: six>=1.4.1 in /Users/lukaz/opt/anaconda3/lib/python3.9/site-packages (from w3lib->requests-html) (1.16.0)\n",
      "Building wheels for collected packages: bs4\n",
      "  Building wheel for bs4 (setup.py) ... \u001b[?25ldone\n",
      "\u001b[?25h  Created wheel for bs4: filename=bs4-0.0.1-py3-none-any.whl size=1272 sha256=2cea7f8a777014692fe551da5abdc3b7de65dc6ca9e1cc151c095c77720cf7d5\n",
      "  Stored in directory: /Users/lukaz/Library/Caches/pip/wheels/73/2b/cb/099980278a0c9a3e57ff1a89875ec07bfa0b6fcbebb9a8cad3\n",
      "Successfully built bs4\n",
      "Installing collected packages: websockets, pyee, importlib-resources, cssselect, pyquery, pyppeteer, parse, fake-useragent, bs4, requests-html\n",
      "  Attempting uninstall: cssselect\n",
      "    Found existing installation: cssselect 1.1.0\n",
      "    Uninstalling cssselect-1.1.0:\n",
      "      Successfully uninstalled cssselect-1.1.0\n",
      "Successfully installed bs4-0.0.1 cssselect-1.2.0 fake-useragent-1.3.0 importlib-resources-6.1.0 parse-1.19.1 pyee-8.2.2 pyppeteer-1.0.2 pyquery-2.0.0 requests-html-0.10.0 websockets-10.4\n",
      "Note: you may need to restart the kernel to use updated packages.\n"
     ]
    }
   ],
   "source": [
    "pip install requests-html"
   ]
  },
  {
   "cell_type": "code",
   "execution_count": 11,
   "metadata": {
    "tags": []
   },
   "outputs": [
    {
     "ename": "ModuleNotFoundError",
     "evalue": "No module named 'request_html'",
     "output_type": "error",
     "traceback": [
      "\u001b[0;31m---------------------------------------------------------------------------\u001b[0m",
      "\u001b[0;31mModuleNotFoundError\u001b[0m                       Traceback (most recent call last)",
      "\u001b[1;32m/Users/lukaz/Library/CloudStorage/OneDrive-Personal/Documents/Educação/Ultima/GitHub/ultima-python/Módulo_5.ipynb Cell 345\u001b[0m line \u001b[0;36m<cell line: 1>\u001b[0;34m()\u001b[0m\n\u001b[0;32m----> <a href='vscode-notebook-cell:/Users/lukaz/Library/CloudStorage/OneDrive-Personal/Documents/Educac%CC%A7a%CC%83o/Ultima/GitHub/ultima-python/M%C3%B3dulo_5.ipynb#Z1023sZmlsZQ%3D%3D?line=0'>1</a>\u001b[0m \u001b[39mfrom\u001b[39;00m \u001b[39mrequest_html\u001b[39;00m \u001b[39mimport\u001b[39;00m HTMLSession\n\u001b[1;32m      <a href='vscode-notebook-cell:/Users/lukaz/Library/CloudStorage/OneDrive-Personal/Documents/Educac%CC%A7a%CC%83o/Ultima/GitHub/ultima-python/M%C3%B3dulo_5.ipynb#Z1023sZmlsZQ%3D%3D?line=2'>3</a>\u001b[0m sessao \u001b[39m=\u001b[39m HTMLSession()\n\u001b[1;32m      <a href='vscode-notebook-cell:/Users/lukaz/Library/CloudStorage/OneDrive-Personal/Documents/Educac%CC%A7a%CC%83o/Ultima/GitHub/ultima-python/M%C3%B3dulo_5.ipynb#Z1023sZmlsZQ%3D%3D?line=4'>5</a>\u001b[0m url \u001b[39m=\u001b[39m \u001b[39m'\u001b[39m\u001b[39mhttps://www.olx.com.br/eletroicos-e-celulares/estado-sp?q=iphone\u001b[39m\u001b[39m'\u001b[39m\n",
      "\u001b[0;31mModuleNotFoundError\u001b[0m: No module named 'request_html'"
     ]
    }
   ],
   "source": [
    "from request_html import HTMLSession\n",
    "\n",
    "sessao = HTMLSession()\n",
    "\n",
    "url = 'https://www.olx.com.br/eletroicos-e-celulares/estado-sp?q=iphone'\n"
   ]
  },
  {
   "cell_type": "code",
   "execution_count": null,
   "metadata": {},
   "outputs": [],
   "source": [
    "resposta = sessao.get(url)\n",
    "print('resposta:', resposta)\n",
    "\n",
    "anuncios = []"
   ]
  },
  {
   "cell_type": "code",
   "execution_count": null,
   "metadata": {},
   "outputs": [],
   "source": [
    "links = resposta.html.find(\"a[data-ds-componet='DS-NewAdCards-Link']\")\n",
    "print('links:', links)"
   ]
  },
  {
   "cell_type": "code",
   "execution_count": null,
   "metadata": {},
   "outputs": [
    {
     "name": "stdout",
     "output_type": "stream",
     "text": [
      "Erro na requisição: 403\n"
     ]
    }
   ],
   "source": [
    "import requests\n",
    "from bs4 import BeautifulSoup\n",
    "\n",
    "url = 'https://www.olx.com.br/eletronicos-e-celulares/estado-sp?q=iphone'\n",
    "\n",
    "response = requests.get(url)\n",
    "\n",
    "if response.status_code == 200:\n",
    "    soup = BeautifulSoup(response.content, 'html.parser')\n",
    "    \n",
    "else:\n",
    "    print(f\"Erro na requisição: {response.status_code}\")"
   ]
  },
  {
   "cell_type": "markdown",
   "metadata": {},
   "source": []
  }
 ],
 "metadata": {
  "kernelspec": {
   "display_name": "Python 3",
   "language": "python",
   "name": "python3"
  },
  "language_info": {
   "codemirror_mode": {
    "name": "ipython",
    "version": 3
   },
   "file_extension": ".py",
   "mimetype": "text/x-python",
   "name": "python",
   "nbconvert_exporter": "python",
   "pygments_lexer": "ipython3",
   "version": "3.9.12"
  },
  "orig_nbformat": 4
 },
 "nbformat": 4,
 "nbformat_minor": 2
}
